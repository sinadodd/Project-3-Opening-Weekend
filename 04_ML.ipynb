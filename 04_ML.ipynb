{
 "cells": [
  {
   "cell_type": "code",
   "execution_count": 2,
   "outputs": [],
   "source": [
    "import pandas as pd\n",
    "from sklearn.model_selection import train_test_split\n",
    "from sklearn.preprocessing import MinMaxScaler\n",
    "from tensorflow.python.keras.api._v1.keras.layers import Dense\n",
    "# from tensorflow.keras.models import Sequential\n",
    "# from tensorflow.keras.layers import Dense\n",
    "from tensorflow.python.keras.api._v1.keras.models import Sequential\n",
    "\n",
    "# import matplotlib.pyplot as plt\n",
    "\n",
    "\n"
   ],
   "metadata": {
    "collapsed": false,
    "pycharm": {
     "name": "#%%\n",
     "is_executing": false
    }
   }
  },
  {
   "cell_type": "markdown",
   "source": [
    "# Read the CSV and Perform Basic Data Cleaning"
   ],
   "metadata": {
    "collapsed": false
   }
  },
  {
   "cell_type": "code",
   "execution_count": 3,
   "outputs": [
    {
     "data": {
      "text/plain": "            Opening     Theaters        Budget      Runtime  Genre_Action  \\\ncount  1.907000e+03  1907.000000  1.907000e+03  1907.000000   1907.000000   \nmean   2.792583e+07  2913.979549  6.206534e+07   110.750393      0.359203   \nstd    2.729695e+07   702.092481  5.495635e+07    18.674676      0.479893   \nmin    1.000198e+07   629.000000  0.000000e+00    26.000000      0.000000   \n25%    1.339860e+07  2503.000000  2.400000e+07    97.000000      0.000000   \n50%    1.896668e+07  2950.000000  4.600000e+07   108.000000      0.000000   \n75%    3.053719e+07  3389.500000  8.000000e+07   122.000000      1.000000   \nmax    3.571150e+08  4662.000000  5.000000e+08   201.000000      1.000000   \n\n       Genre_Adventure  Genre_Animation  Genre_Comedy  Genre_Crime  \\\ncount      1907.000000      1907.000000   1907.000000  1907.000000   \nmean          0.280545         0.093865      0.409544     0.149449   \nstd           0.449384         0.291717      0.491879     0.356624   \nmin           0.000000         0.000000      0.000000     0.000000   \n25%           0.000000         0.000000      0.000000     0.000000   \n50%           0.000000         0.000000      0.000000     0.000000   \n75%           1.000000         0.000000      1.000000     0.000000   \nmax           1.000000         1.000000      1.000000     1.000000   \n\n       Genre_Documentary  ...       Day_21       Day_22       Day_23  \\\ncount        1907.000000  ...  1907.000000  1907.000000  1907.000000   \nmean            0.004719  ...     0.040378     0.031463     0.029890   \nstd             0.068554  ...     0.196895     0.174611     0.170328   \nmin             0.000000  ...     0.000000     0.000000     0.000000   \n25%             0.000000  ...     0.000000     0.000000     0.000000   \n50%             0.000000  ...     0.000000     0.000000     0.000000   \n75%             0.000000  ...     0.000000     0.000000     0.000000   \nmax             1.000000  ...     1.000000     1.000000     1.000000   \n\n            Day_24       Day_25       Day_26       Day_27       Day_28  \\\ncount  1907.000000  1907.000000  1907.000000  1907.000000  1907.000000   \nmean      0.045621     0.027792     0.027268     0.028841     0.026744   \nstd       0.208717     0.164421     0.162906     0.167404     0.161375   \nmin       0.000000     0.000000     0.000000     0.000000     0.000000   \n25%       0.000000     0.000000     0.000000     0.000000     0.000000   \n50%       0.000000     0.000000     0.000000     0.000000     0.000000   \n75%       0.000000     0.000000     0.000000     0.000000     0.000000   \nmax       1.000000     1.000000     1.000000     1.000000     1.000000   \n\n            Day_29       Day_30  \ncount  1907.000000  1907.000000  \nmean      0.023073     0.015732  \nstd       0.150174     0.124468  \nmin       0.000000     0.000000  \n25%       0.000000     0.000000  \n50%       0.000000     0.000000  \n75%       0.000000     0.000000  \nmax       1.000000     1.000000  \n\n[8 rows x 16313 columns]",
      "text/html": "<div>\n<style scoped>\n    .dataframe tbody tr th:only-of-type {\n        vertical-align: middle;\n    }\n\n    .dataframe tbody tr th {\n        vertical-align: top;\n    }\n\n    .dataframe thead th {\n        text-align: right;\n    }\n</style>\n<table border=\"1\" class=\"dataframe\">\n  <thead>\n    <tr style=\"text-align: right;\">\n      <th></th>\n      <th>Opening</th>\n      <th>Theaters</th>\n      <th>Budget</th>\n      <th>Runtime</th>\n      <th>Genre_Action</th>\n      <th>Genre_Adventure</th>\n      <th>Genre_Animation</th>\n      <th>Genre_Comedy</th>\n      <th>Genre_Crime</th>\n      <th>Genre_Documentary</th>\n      <th>...</th>\n      <th>Day_21</th>\n      <th>Day_22</th>\n      <th>Day_23</th>\n      <th>Day_24</th>\n      <th>Day_25</th>\n      <th>Day_26</th>\n      <th>Day_27</th>\n      <th>Day_28</th>\n      <th>Day_29</th>\n      <th>Day_30</th>\n    </tr>\n  </thead>\n  <tbody>\n    <tr>\n      <th>count</th>\n      <td>1.907000e+03</td>\n      <td>1907.000000</td>\n      <td>1.907000e+03</td>\n      <td>1907.000000</td>\n      <td>1907.000000</td>\n      <td>1907.000000</td>\n      <td>1907.000000</td>\n      <td>1907.000000</td>\n      <td>1907.000000</td>\n      <td>1907.000000</td>\n      <td>...</td>\n      <td>1907.000000</td>\n      <td>1907.000000</td>\n      <td>1907.000000</td>\n      <td>1907.000000</td>\n      <td>1907.000000</td>\n      <td>1907.000000</td>\n      <td>1907.000000</td>\n      <td>1907.000000</td>\n      <td>1907.000000</td>\n      <td>1907.000000</td>\n    </tr>\n    <tr>\n      <th>mean</th>\n      <td>2.792583e+07</td>\n      <td>2913.979549</td>\n      <td>6.206534e+07</td>\n      <td>110.750393</td>\n      <td>0.359203</td>\n      <td>0.280545</td>\n      <td>0.093865</td>\n      <td>0.409544</td>\n      <td>0.149449</td>\n      <td>0.004719</td>\n      <td>...</td>\n      <td>0.040378</td>\n      <td>0.031463</td>\n      <td>0.029890</td>\n      <td>0.045621</td>\n      <td>0.027792</td>\n      <td>0.027268</td>\n      <td>0.028841</td>\n      <td>0.026744</td>\n      <td>0.023073</td>\n      <td>0.015732</td>\n    </tr>\n    <tr>\n      <th>std</th>\n      <td>2.729695e+07</td>\n      <td>702.092481</td>\n      <td>5.495635e+07</td>\n      <td>18.674676</td>\n      <td>0.479893</td>\n      <td>0.449384</td>\n      <td>0.291717</td>\n      <td>0.491879</td>\n      <td>0.356624</td>\n      <td>0.068554</td>\n      <td>...</td>\n      <td>0.196895</td>\n      <td>0.174611</td>\n      <td>0.170328</td>\n      <td>0.208717</td>\n      <td>0.164421</td>\n      <td>0.162906</td>\n      <td>0.167404</td>\n      <td>0.161375</td>\n      <td>0.150174</td>\n      <td>0.124468</td>\n    </tr>\n    <tr>\n      <th>min</th>\n      <td>1.000198e+07</td>\n      <td>629.000000</td>\n      <td>0.000000e+00</td>\n      <td>26.000000</td>\n      <td>0.000000</td>\n      <td>0.000000</td>\n      <td>0.000000</td>\n      <td>0.000000</td>\n      <td>0.000000</td>\n      <td>0.000000</td>\n      <td>...</td>\n      <td>0.000000</td>\n      <td>0.000000</td>\n      <td>0.000000</td>\n      <td>0.000000</td>\n      <td>0.000000</td>\n      <td>0.000000</td>\n      <td>0.000000</td>\n      <td>0.000000</td>\n      <td>0.000000</td>\n      <td>0.000000</td>\n    </tr>\n    <tr>\n      <th>25%</th>\n      <td>1.339860e+07</td>\n      <td>2503.000000</td>\n      <td>2.400000e+07</td>\n      <td>97.000000</td>\n      <td>0.000000</td>\n      <td>0.000000</td>\n      <td>0.000000</td>\n      <td>0.000000</td>\n      <td>0.000000</td>\n      <td>0.000000</td>\n      <td>...</td>\n      <td>0.000000</td>\n      <td>0.000000</td>\n      <td>0.000000</td>\n      <td>0.000000</td>\n      <td>0.000000</td>\n      <td>0.000000</td>\n      <td>0.000000</td>\n      <td>0.000000</td>\n      <td>0.000000</td>\n      <td>0.000000</td>\n    </tr>\n    <tr>\n      <th>50%</th>\n      <td>1.896668e+07</td>\n      <td>2950.000000</td>\n      <td>4.600000e+07</td>\n      <td>108.000000</td>\n      <td>0.000000</td>\n      <td>0.000000</td>\n      <td>0.000000</td>\n      <td>0.000000</td>\n      <td>0.000000</td>\n      <td>0.000000</td>\n      <td>...</td>\n      <td>0.000000</td>\n      <td>0.000000</td>\n      <td>0.000000</td>\n      <td>0.000000</td>\n      <td>0.000000</td>\n      <td>0.000000</td>\n      <td>0.000000</td>\n      <td>0.000000</td>\n      <td>0.000000</td>\n      <td>0.000000</td>\n    </tr>\n    <tr>\n      <th>75%</th>\n      <td>3.053719e+07</td>\n      <td>3389.500000</td>\n      <td>8.000000e+07</td>\n      <td>122.000000</td>\n      <td>1.000000</td>\n      <td>1.000000</td>\n      <td>0.000000</td>\n      <td>1.000000</td>\n      <td>0.000000</td>\n      <td>0.000000</td>\n      <td>...</td>\n      <td>0.000000</td>\n      <td>0.000000</td>\n      <td>0.000000</td>\n      <td>0.000000</td>\n      <td>0.000000</td>\n      <td>0.000000</td>\n      <td>0.000000</td>\n      <td>0.000000</td>\n      <td>0.000000</td>\n      <td>0.000000</td>\n    </tr>\n    <tr>\n      <th>max</th>\n      <td>3.571150e+08</td>\n      <td>4662.000000</td>\n      <td>5.000000e+08</td>\n      <td>201.000000</td>\n      <td>1.000000</td>\n      <td>1.000000</td>\n      <td>1.000000</td>\n      <td>1.000000</td>\n      <td>1.000000</td>\n      <td>1.000000</td>\n      <td>...</td>\n      <td>1.000000</td>\n      <td>1.000000</td>\n      <td>1.000000</td>\n      <td>1.000000</td>\n      <td>1.000000</td>\n      <td>1.000000</td>\n      <td>1.000000</td>\n      <td>1.000000</td>\n      <td>1.000000</td>\n      <td>1.000000</td>\n    </tr>\n  </tbody>\n</table>\n<p>8 rows × 16313 columns</p>\n</div>"
     },
     "metadata": {},
     "output_type": "execute_result",
     "execution_count": 3
    }
   ],
   "source": [
    "orig_df = pd.read_csv(\"Resources/03_new_df.csv\")\n",
    "df = orig_df\n",
    "df.describe()"
   ],
   "metadata": {
    "collapsed": false,
    "pycharm": {
     "name": "#%%\n",
     "is_executing": false
    }
   }
  },
  {
   "cell_type": "code",
   "execution_count": 4,
   "outputs": [
    {
     "data": {
      "text/plain": "     Opening  Theaters     Budget  Runtime  Genre_Action  Genre_Adventure  \\\n0  357115007      4662  356000000    181.0             1                1   \n1  257698183      4474  300000000    149.0             1                1   \n2  247966675      4134  245000000    136.0             1                1   \n3  220009584      4232  200000000    152.0             1                1   \n4  208806270      4274  150000000    124.0             1                1   \n\n   Genre_Animation  Genre_Comedy  Genre_Crime  Genre_Documentary  ...  Day_21  \\\n0                0             0            0                  0  ...       0   \n1                0             0            0                  0  ...       0   \n2                0             0            0                  0  ...       0   \n3                0             0            0                  0  ...       0   \n4                0             0            0                  0  ...       0   \n\n   Day_22  Day_23  Day_24  Day_25  Day_26  Day_27  Day_28  Day_29  Day_30  \n0       0       0       0       1       0       0       0       0       0  \n1       0       0       0       0       1       0       0       0       0  \n2       0       0       0       0       0       0       0       0       0  \n3       0       0       0       0       0       0       0       0       0  \n4       0       0       0       0       0       0       0       0       0  \n\n[5 rows x 16313 columns]",
      "text/html": "<div>\n<style scoped>\n    .dataframe tbody tr th:only-of-type {\n        vertical-align: middle;\n    }\n\n    .dataframe tbody tr th {\n        vertical-align: top;\n    }\n\n    .dataframe thead th {\n        text-align: right;\n    }\n</style>\n<table border=\"1\" class=\"dataframe\">\n  <thead>\n    <tr style=\"text-align: right;\">\n      <th></th>\n      <th>Opening</th>\n      <th>Theaters</th>\n      <th>Budget</th>\n      <th>Runtime</th>\n      <th>Genre_Action</th>\n      <th>Genre_Adventure</th>\n      <th>Genre_Animation</th>\n      <th>Genre_Comedy</th>\n      <th>Genre_Crime</th>\n      <th>Genre_Documentary</th>\n      <th>...</th>\n      <th>Day_21</th>\n      <th>Day_22</th>\n      <th>Day_23</th>\n      <th>Day_24</th>\n      <th>Day_25</th>\n      <th>Day_26</th>\n      <th>Day_27</th>\n      <th>Day_28</th>\n      <th>Day_29</th>\n      <th>Day_30</th>\n    </tr>\n  </thead>\n  <tbody>\n    <tr>\n      <th>0</th>\n      <td>357115007</td>\n      <td>4662</td>\n      <td>356000000</td>\n      <td>181.0</td>\n      <td>1</td>\n      <td>1</td>\n      <td>0</td>\n      <td>0</td>\n      <td>0</td>\n      <td>0</td>\n      <td>...</td>\n      <td>0</td>\n      <td>0</td>\n      <td>0</td>\n      <td>0</td>\n      <td>1</td>\n      <td>0</td>\n      <td>0</td>\n      <td>0</td>\n      <td>0</td>\n      <td>0</td>\n    </tr>\n    <tr>\n      <th>1</th>\n      <td>257698183</td>\n      <td>4474</td>\n      <td>300000000</td>\n      <td>149.0</td>\n      <td>1</td>\n      <td>1</td>\n      <td>0</td>\n      <td>0</td>\n      <td>0</td>\n      <td>0</td>\n      <td>...</td>\n      <td>0</td>\n      <td>0</td>\n      <td>0</td>\n      <td>0</td>\n      <td>0</td>\n      <td>1</td>\n      <td>0</td>\n      <td>0</td>\n      <td>0</td>\n      <td>0</td>\n    </tr>\n    <tr>\n      <th>2</th>\n      <td>247966675</td>\n      <td>4134</td>\n      <td>245000000</td>\n      <td>136.0</td>\n      <td>1</td>\n      <td>1</td>\n      <td>0</td>\n      <td>0</td>\n      <td>0</td>\n      <td>0</td>\n      <td>...</td>\n      <td>0</td>\n      <td>0</td>\n      <td>0</td>\n      <td>0</td>\n      <td>0</td>\n      <td>0</td>\n      <td>0</td>\n      <td>0</td>\n      <td>0</td>\n      <td>0</td>\n    </tr>\n    <tr>\n      <th>3</th>\n      <td>220009584</td>\n      <td>4232</td>\n      <td>200000000</td>\n      <td>152.0</td>\n      <td>1</td>\n      <td>1</td>\n      <td>0</td>\n      <td>0</td>\n      <td>0</td>\n      <td>0</td>\n      <td>...</td>\n      <td>0</td>\n      <td>0</td>\n      <td>0</td>\n      <td>0</td>\n      <td>0</td>\n      <td>0</td>\n      <td>0</td>\n      <td>0</td>\n      <td>0</td>\n      <td>0</td>\n    </tr>\n    <tr>\n      <th>4</th>\n      <td>208806270</td>\n      <td>4274</td>\n      <td>150000000</td>\n      <td>124.0</td>\n      <td>1</td>\n      <td>1</td>\n      <td>0</td>\n      <td>0</td>\n      <td>0</td>\n      <td>0</td>\n      <td>...</td>\n      <td>0</td>\n      <td>0</td>\n      <td>0</td>\n      <td>0</td>\n      <td>0</td>\n      <td>0</td>\n      <td>0</td>\n      <td>0</td>\n      <td>0</td>\n      <td>0</td>\n    </tr>\n  </tbody>\n</table>\n<p>5 rows × 16313 columns</p>\n</div>"
     },
     "metadata": {},
     "output_type": "execute_result",
     "execution_count": 4
    }
   ],
   "source": [
    "df.head()"
   ],
   "metadata": {
    "collapsed": false,
    "pycharm": {
     "name": "#%%\n",
     "is_executing": false
    }
   }
  },
  {
   "cell_type": "markdown",
   "source": [
    "# Create a Train Test Split\n",
    "Use `Opening` for the y values"
   ],
   "metadata": {
    "collapsed": false
   }
  },
  {
   "cell_type": "code",
   "execution_count": 5,
   "outputs": [
    {
     "data": {
      "text/plain": "   Theaters     Budget  Runtime  Genre_Action  Genre_Adventure  \\\n0      4662  356000000    181.0             1                1   \n1      4474  300000000    149.0             1                1   \n2      4134  245000000    136.0             1                1   \n3      4232  200000000    152.0             1                1   \n4      4274  150000000    124.0             1                1   \n\n   Genre_Animation  Genre_Comedy  Genre_Crime  Genre_Documentary  Genre_Drama  \\\n0                0             0            0                  0            0   \n1                0             0            0                  0            0   \n2                0             0            0                  0            0   \n3                0             0            0                  0            0   \n4                0             0            0                  0            0   \n\n   ...  Day_21  Day_22  Day_23  Day_24  Day_25  Day_26  Day_27  Day_28  \\\n0  ...       0       0       0       0       1       0       0       0   \n1  ...       0       0       0       0       0       1       0       0   \n2  ...       0       0       0       0       0       0       0       0   \n3  ...       0       0       0       0       0       0       0       0   \n4  ...       0       0       0       0       0       0       0       0   \n\n   Day_29  Day_30  \n0       0       0  \n1       0       0  \n2       0       0  \n3       0       0  \n4       0       0  \n\n[5 rows x 16312 columns]",
      "text/html": "<div>\n<style scoped>\n    .dataframe tbody tr th:only-of-type {\n        vertical-align: middle;\n    }\n\n    .dataframe tbody tr th {\n        vertical-align: top;\n    }\n\n    .dataframe thead th {\n        text-align: right;\n    }\n</style>\n<table border=\"1\" class=\"dataframe\">\n  <thead>\n    <tr style=\"text-align: right;\">\n      <th></th>\n      <th>Theaters</th>\n      <th>Budget</th>\n      <th>Runtime</th>\n      <th>Genre_Action</th>\n      <th>Genre_Adventure</th>\n      <th>Genre_Animation</th>\n      <th>Genre_Comedy</th>\n      <th>Genre_Crime</th>\n      <th>Genre_Documentary</th>\n      <th>Genre_Drama</th>\n      <th>...</th>\n      <th>Day_21</th>\n      <th>Day_22</th>\n      <th>Day_23</th>\n      <th>Day_24</th>\n      <th>Day_25</th>\n      <th>Day_26</th>\n      <th>Day_27</th>\n      <th>Day_28</th>\n      <th>Day_29</th>\n      <th>Day_30</th>\n    </tr>\n  </thead>\n  <tbody>\n    <tr>\n      <th>0</th>\n      <td>4662</td>\n      <td>356000000</td>\n      <td>181.0</td>\n      <td>1</td>\n      <td>1</td>\n      <td>0</td>\n      <td>0</td>\n      <td>0</td>\n      <td>0</td>\n      <td>0</td>\n      <td>...</td>\n      <td>0</td>\n      <td>0</td>\n      <td>0</td>\n      <td>0</td>\n      <td>1</td>\n      <td>0</td>\n      <td>0</td>\n      <td>0</td>\n      <td>0</td>\n      <td>0</td>\n    </tr>\n    <tr>\n      <th>1</th>\n      <td>4474</td>\n      <td>300000000</td>\n      <td>149.0</td>\n      <td>1</td>\n      <td>1</td>\n      <td>0</td>\n      <td>0</td>\n      <td>0</td>\n      <td>0</td>\n      <td>0</td>\n      <td>...</td>\n      <td>0</td>\n      <td>0</td>\n      <td>0</td>\n      <td>0</td>\n      <td>0</td>\n      <td>1</td>\n      <td>0</td>\n      <td>0</td>\n      <td>0</td>\n      <td>0</td>\n    </tr>\n    <tr>\n      <th>2</th>\n      <td>4134</td>\n      <td>245000000</td>\n      <td>136.0</td>\n      <td>1</td>\n      <td>1</td>\n      <td>0</td>\n      <td>0</td>\n      <td>0</td>\n      <td>0</td>\n      <td>0</td>\n      <td>...</td>\n      <td>0</td>\n      <td>0</td>\n      <td>0</td>\n      <td>0</td>\n      <td>0</td>\n      <td>0</td>\n      <td>0</td>\n      <td>0</td>\n      <td>0</td>\n      <td>0</td>\n    </tr>\n    <tr>\n      <th>3</th>\n      <td>4232</td>\n      <td>200000000</td>\n      <td>152.0</td>\n      <td>1</td>\n      <td>1</td>\n      <td>0</td>\n      <td>0</td>\n      <td>0</td>\n      <td>0</td>\n      <td>0</td>\n      <td>...</td>\n      <td>0</td>\n      <td>0</td>\n      <td>0</td>\n      <td>0</td>\n      <td>0</td>\n      <td>0</td>\n      <td>0</td>\n      <td>0</td>\n      <td>0</td>\n      <td>0</td>\n    </tr>\n    <tr>\n      <th>4</th>\n      <td>4274</td>\n      <td>150000000</td>\n      <td>124.0</td>\n      <td>1</td>\n      <td>1</td>\n      <td>0</td>\n      <td>0</td>\n      <td>0</td>\n      <td>0</td>\n      <td>0</td>\n      <td>...</td>\n      <td>0</td>\n      <td>0</td>\n      <td>0</td>\n      <td>0</td>\n      <td>0</td>\n      <td>0</td>\n      <td>0</td>\n      <td>0</td>\n      <td>0</td>\n      <td>0</td>\n    </tr>\n  </tbody>\n</table>\n<p>5 rows × 16312 columns</p>\n</div>"
     },
     "metadata": {},
     "output_type": "execute_result",
     "execution_count": 5
    }
   ],
   "source": [
    "target = df[\"Opening\"]\n",
    "data = df.drop(\"Opening\", axis=1)\n",
    "feature_names = data.columns\n",
    "data.head()"
   ],
   "metadata": {
    "collapsed": false,
    "pycharm": {
     "name": "#%%\n",
     "is_executing": false
    }
   }
  },
  {
   "cell_type": "code",
   "execution_count": 6,
   "outputs": [],
   "source": [
    "X_train, X_test, y_train, y_test = train_test_split(data, target, random_state=42)"
   ],
   "metadata": {
    "collapsed": false,
    "pycharm": {
     "name": "#%%\n",
     "is_executing": false
    }
   }
  },
  {
   "cell_type": "code",
   "execution_count": 7,
   "outputs": [
    {
     "data": {
      "text/plain": "(1430, 16312)"
     },
     "metadata": {},
     "output_type": "execute_result",
     "execution_count": 7
    }
   ],
   "source": [
    "X_train.shape"
   ],
   "metadata": {
    "collapsed": false,
    "pycharm": {
     "name": "#%%\n",
     "is_executing": false
    }
   }
  },
  {
   "cell_type": "code",
   "execution_count": 8,
   "outputs": [
    {
     "data": {
      "text/plain": "(1430,)"
     },
     "metadata": {},
     "output_type": "execute_result",
     "execution_count": 8
    }
   ],
   "source": [
    "y_train.shape"
   ],
   "metadata": {
    "collapsed": false,
    "pycharm": {
     "name": "#%%\n",
     "is_executing": false
    }
   }
  },
  {
   "cell_type": "markdown",
   "source": [
    "# Pre-processing\n",
    "\n",
    "Scale the data using the MinMaxScaler"
   ],
   "metadata": {
    "collapsed": false
   }
  },
  {
   "cell_type": "code",
   "execution_count": 9,
   "outputs": [],
   "source": [
    "scalers = {}\n",
    "X_minmax = MinMaxScaler().fit(X_train)\n",
    "scalers['X'] = X_minmax\n",
    "# y_train.values.reshape(-1, 1)\n",
    "y_minmax = MinMaxScaler().fit(y_train.values.reshape(-1, 1))\n",
    "scalers['Y'] = y_minmax"
   ],
   "metadata": {
    "collapsed": false,
    "pycharm": {
     "name": "#%%\n",
     "is_executing": false
    }
   }
  },
  {
   "cell_type": "code",
   "execution_count": 10,
   "outputs": [],
   "source": [
    "X_train_scaled = X_minmax.transform(X_train)\n",
    "X_test_scaled = X_minmax.transform(X_test)\n",
    "y_train_scaled = y_minmax.transform(y_train.values.reshape(-1, 1))\n",
    "y_test_scaled = y_minmax.transform(y_test.values.reshape(-1, 1))"
   ],
   "metadata": {
    "collapsed": false,
    "pycharm": {
     "name": "#%%\n",
     "is_executing": false
    }
   }
  },
  {
   "cell_type": "code",
   "execution_count": null,
   "outputs": [],
   "source": [
    "# X_mapper = DataFrameMapper([(['Theaters', 'Budget', 'Runtime'], MinMaxScaler())], \n",
    "#                           default=None).fit(X_train)"
   ],
   "metadata": {
    "collapsed": false,
    "pycharm": {
     "name": "#%%\n"
    }
   }
  },
  {
   "cell_type": "code",
   "execution_count": null,
   "outputs": [],
   "source": [
    "# X_train_scaled = X_mapper.transform(X_train)\n",
    "# X_test_scaled = X_mapper.transform(X_test)"
   ],
   "metadata": {
    "collapsed": false,
    "pycharm": {
     "name": "#%%\n"
    }
   }
  },
  {
   "cell_type": "code",
   "execution_count": 11,
   "outputs": [
    {
     "data": {
      "text/plain": "(1430, 16312)"
     },
     "metadata": {},
     "output_type": "execute_result",
     "execution_count": 11
    }
   ],
   "source": [
    "X_train_scaled.shape"
   ],
   "metadata": {
    "collapsed": false,
    "pycharm": {
     "name": "#%%\n",
     "is_executing": false
    }
   }
  },
  {
   "cell_type": "code",
   "execution_count": 12,
   "outputs": [
    {
     "data": {
      "text/plain": "array([[0.56586366, 0.06      , 0.45142857, ..., 0.        , 0.        ,\n        0.        ],\n       [0.67657611, 0.32      , 0.55428571, ..., 0.        , 0.        ,\n        0.        ],\n       [0.61455664, 0.08      , 0.51428571, ..., 0.        , 1.        ,\n        0.        ],\n       ...,\n       [0.21655561, 0.05      , 0.56571429, ..., 0.        , 0.        ,\n        0.        ],\n       [0.63172732, 0.034     , 0.34857143, ..., 0.        , 0.        ,\n        0.        ],\n       [0.65171707, 0.064     , 0.34857143, ..., 0.        , 0.        ,\n        0.        ]])"
     },
     "metadata": {},
     "output_type": "execute_result",
     "execution_count": 12
    }
   ],
   "source": [
    "X_train_scaled"
   ],
   "metadata": {
    "collapsed": false,
    "pycharm": {
     "name": "#%%\n",
     "is_executing": false
    }
   }
  },
  {
   "cell_type": "code",
   "execution_count": 13,
   "outputs": [
    {
     "data": {
      "text/plain": "(1430,)"
     },
     "metadata": {},
     "output_type": "execute_result",
     "execution_count": 13
    }
   ],
   "source": [
    "y_train.shape"
   ],
   "metadata": {
    "collapsed": false,
    "pycharm": {
     "name": "#%%\n",
     "is_executing": false
    }
   }
  },
  {
   "cell_type": "markdown",
   "source": [
    "# Try simple linear regression"
   ],
   "metadata": {
    "collapsed": false
   }
  },
  {
   "cell_type": "code",
   "execution_count": null,
   "outputs": [],
   "source": [
    "# # Import dependencies\n",
    "# from sklearn.linear_model import LinearRegression\n",
    "\n",
    "# # Create a linear model\n",
    "# model = LinearRegression()\n",
    "\n",
    "# # Fit (Train) our model to the data\n",
    "# model.fit(X_train_scaled, y_train_scaled)"
   ],
   "metadata": {
    "collapsed": false,
    "pycharm": {
     "name": "#%%\n"
    }
   }
  },
  {
   "cell_type": "code",
   "execution_count": null,
   "outputs": [],
   "source": [
    "# predictions = model.predict(X_test_scaled)"
   ],
   "metadata": {
    "collapsed": false,
    "pycharm": {
     "name": "#%%\n"
    }
   }
  },
  {
   "cell_type": "code",
   "execution_count": null,
   "outputs": [],
   "source": [
    "# # Overall Score for the model\n",
    "# model.score(X_train_scaled, y_train_scaled)"
   ],
   "metadata": {
    "collapsed": false,
    "pycharm": {
     "name": "#%%\n"
    }
   }
  },
  {
   "cell_type": "code",
   "execution_count": null,
   "outputs": [],
   "source": [
    "# model.score(X_test_scaled, y_test_scaled)"
   ],
   "metadata": {
    "collapsed": false,
    "pycharm": {
     "name": "#%%\n"
    }
   }
  },
  {
   "cell_type": "code",
   "execution_count": null,
   "outputs": [],
   "source": [
    "# MSE = mean_squared_error(y_test_scaled, predictions)\n",
    "# r2 = model.score(X_test_scaled, y_test_scaled)\n",
    "\n",
    "# print(f\"MSE: {MSE}, R2: {r2}\")"
   ],
   "metadata": {
    "collapsed": false,
    "pycharm": {
     "name": "#%%\n"
    }
   }
  },
  {
   "cell_type": "markdown",
   "source": [
    "# LASSO model"
   ],
   "metadata": {
    "collapsed": false
   }
  },
  {
   "cell_type": "code",
   "execution_count": null,
   "outputs": [],
   "source": [
    "# # LASSO model\n",
    "# # Note: Use an alpha of .01 when creating the model for this activity\n",
    "# from sklearn.linear_model import Lasso\n",
    "\n",
    "# lasso = Lasso(alpha=.01).fit(X_train_scaled, y_train_scaled)\n",
    "\n",
    "# predictions = lasso.predict(X_test_scaled)\n",
    "\n",
    "# MSE = mean_squared_error(y_test_scaled, predictions)\n",
    "# r2 = lasso.score(X_test_scaled, y_test_scaled)\n",
    "# ### END SOLUTION\n",
    "\n",
    "# print(f\"MSE: {MSE}, R2: {r2}\")"
   ],
   "metadata": {
    "collapsed": false,
    "pycharm": {
     "name": "#%%\n"
    }
   }
  },
  {
   "cell_type": "code",
   "execution_count": null,
   "outputs": [],
   "source": [
    "# lasso.score(X_train_scaled, y_train_scaled)"
   ],
   "metadata": {
    "collapsed": false,
    "pycharm": {
     "name": "#%%\n"
    }
   }
  },
  {
   "cell_type": "code",
   "execution_count": null,
   "outputs": [],
   "source": [
    "# lasso.score(X_test_scaled, y_test_scaled)"
   ],
   "metadata": {
    "collapsed": false,
    "pycharm": {
     "name": "#%%\n"
    }
   }
  },
  {
   "cell_type": "markdown",
   "source": [
    "# Ridge model"
   ],
   "metadata": {
    "collapsed": false
   }
  },
  {
   "cell_type": "code",
   "execution_count": null,
   "outputs": [],
   "source": [
    "# # Ridge model\n",
    "# # Note: Use an alpha of .01 when creating the model for this activity\n",
    "# from sklearn.linear_model import Ridge\n",
    "\n",
    "# ridge = Ridge(alpha=.01).fit(X_train_scaled, y_train_scaled)\n",
    "\n",
    "# predictions = ridge.predict(X_test_scaled)\n",
    "\n",
    "# MSE = mean_squared_error(y_test_scaled, predictions)\n",
    "# r2 = ridge.score(X_test_scaled, y_test_scaled)\n",
    "\n",
    "# print(f\"MSE: {MSE}, R2: {r2}\")"
   ],
   "metadata": {
    "collapsed": false,
    "pycharm": {
     "name": "#%%\n"
    }
   }
  },
  {
   "cell_type": "code",
   "execution_count": null,
   "outputs": [],
   "source": [
    "# ridge.score(X_train_scaled, y_train_scaled)"
   ],
   "metadata": {
    "collapsed": false,
    "pycharm": {
     "name": "#%%\n"
    }
   }
  },
  {
   "cell_type": "code",
   "execution_count": null,
   "outputs": [],
   "source": [
    "# ridge.score(X_test_scaled, y_test_scaled)"
   ],
   "metadata": {
    "collapsed": false,
    "pycharm": {
     "name": "#%%\n"
    }
   }
  },
  {
   "cell_type": "code",
   "execution_count": null,
   "outputs": [],
   "source": [],
   "metadata": {
    "collapsed": false,
    "pycharm": {
     "name": "#%%\n"
    }
   }
  },
  {
   "cell_type": "markdown",
   "source": [
    "# ElasticNet model"
   ],
   "metadata": {
    "collapsed": false
   }
  },
  {
   "cell_type": "code",
   "execution_count": null,
   "outputs": [],
   "source": [
    "# # ElasticNet model\n",
    "# # Note: Use an alpha of .01 when creating the model for this activity\n",
    "# from sklearn.linear_model import ElasticNet\n",
    "\n",
    "# ### BEGIN SOLUTION\n",
    "# elasticnet = ElasticNet(alpha=.01).fit(X_train_scaled, y_train_scaled)\n",
    "# model.score(X_train_scaled, y_train_scaled)\n",
    "\n",
    "# model.score(X_test_scaled, y_test_scaled)\n",
    "# predictions = elasticnet.predict(X_test_scaled)\n",
    "\n",
    "# MSE = mean_squared_error(y_test_scaled, predictions)\n",
    "# r2 = elasticnet.score(X_test_scaled, y_test_scaled)\n",
    "# ### END SOLUTION\n",
    "\n",
    "# print(f\"MSE: {MSE}, R2: {r2}\")"
   ],
   "metadata": {
    "collapsed": false,
    "pycharm": {
     "name": "#%%\n"
    }
   }
  },
  {
   "cell_type": "code",
   "execution_count": null,
   "outputs": [],
   "source": [
    "# elasticnet.score(X_train_scaled, y_train_scaled)"
   ],
   "metadata": {
    "collapsed": false,
    "pycharm": {
     "name": "#%%\n"
    }
   }
  },
  {
   "cell_type": "code",
   "execution_count": null,
   "outputs": [],
   "source": [
    "# elasticnet.score(X_test_scaled, y_test_scaled)"
   ],
   "metadata": {
    "collapsed": false,
    "pycharm": {
     "name": "#%%\n"
    }
   }
  },
  {
   "cell_type": "markdown",
   "source": [
    "# Try Neural Net: Define the architecture"
   ],
   "metadata": {
    "collapsed": false
   }
  },
  {
   "cell_type": "code",
   "execution_count": 14,
   "outputs": [],
   "source": [
    "nn_model = Sequential()"
   ],
   "metadata": {
    "collapsed": false,
    "pycharm": {
     "name": "#%%\n",
     "is_executing": false
    }
   }
  },
  {
   "cell_type": "code",
   "execution_count": 15,
   "outputs": [
    {
     "name": "stderr",
     "text": [
      "WARNING: Logging before flag parsing goes to stderr.\nW0727 20:38:09.458629 4543567296 deprecation.py:506] From /Users/mikedodd/anaconda3/envs/Project-3-Opening-Weekend/lib/python3.7/site-packages/tensorflow/python/ops/init_ops.py:1251: calling VarianceScaling.__init__ (from tensorflow.python.ops.init_ops) with dtype is deprecated and will be removed in a future version.\nInstructions for updating:\nCall initializer instance with the dtype argument instead of passing it to the constructor\n"
     ],
     "output_type": "stream"
    },
    {
     "name": "stdout",
     "text": [
      "Model: \"sequential\"\n_________________________________________________________________\nLayer (type)                 Output Shape              Param #   \n=================================================================\ndense (Dense)                (None, 1500)              24469500  \n_________________________________________________________________\ndense_1 (Dense)              (None, 800)               1200800   \n_________________________________________________________________\ndense_2 (Dense)              (None, 300)               240300    \n_________________________________________________________________\ndense_3 (Dense)              (None, 1)                 301       \n=================================================================\nTotal params: 25,910,901\nTrainable params: 25,910,901\nNon-trainable params: 0\n_________________________________________________________________\n"
     ],
     "output_type": "stream"
    }
   ],
   "source": [
    "nn_model.add(Dense(units=1500, input_dim=int(X_test_scaled.shape[1]), activation='relu'))\n",
    "nn_model.add(Dense(units=800, activation='relu'))\n",
    "nn_model.add(Dense(units=300, activation='relu'))\n",
    "nn_model.add(Dense(units=1, activation='linear'))\n",
    "nn_model.summary()"
   ],
   "metadata": {
    "collapsed": false,
    "pycharm": {
     "name": "#%%\n",
     "is_executing": false
    }
   }
  },
  {
   "cell_type": "code",
   "execution_count": 16,
   "outputs": [],
   "source": [
    "nn_model.compile(loss='mse', optimizer='adam', metrics=['mse','mae'])"
   ],
   "metadata": {
    "collapsed": false,
    "pycharm": {
     "name": "#%%\n",
     "is_executing": false
    }
   }
  },
  {
   "cell_type": "code",
   "execution_count": 17,
   "outputs": [
    {
     "name": "stdout",
     "text": [
      "Epoch 1/100\n",
      "1430/1430 - 8s - loss: 0.0113 - mean_squared_error: 0.0113 - mean_absolute_error: 0.0583\n",
      "Epoch 2/100\n",
      "1430/1430 - 7s - loss: 0.0039 - mean_squared_error: 0.0039 - mean_absolute_error: 0.0334\n",
      "Epoch 3/100\n",
      "1430/1430 - 7s - loss: 0.0023 - mean_squared_error: 0.0023 - mean_absolute_error: 0.0284\n",
      "Epoch 4/100\n",
      "1430/1430 - 7s - loss: 0.0030 - mean_squared_error: 0.0030 - mean_absolute_error: 0.0269\n",
      "Epoch 5/100\n",
      "1430/1430 - 7s - loss: 0.0016 - mean_squared_error: 0.0016 - mean_absolute_error: 0.0186\n",
      "Epoch 6/100\n",
      "1430/1430 - 8s - loss: 0.0016 - mean_squared_error: 0.0016 - mean_absolute_error: 0.0176\n",
      "Epoch 7/100\n",
      "1430/1430 - 8s - loss: 0.0023 - mean_squared_error: 0.0023 - mean_absolute_error: 0.0190\n",
      "Epoch 8/100\n",
      "1430/1430 - 9s - loss: 0.0023 - mean_squared_error: 0.0023 - mean_absolute_error: 0.0200\n",
      "Epoch 9/100\n",
      "1430/1430 - 9s - loss: 0.0026 - mean_squared_error: 0.0026 - mean_absolute_error: 0.0263\n",
      "Epoch 10/100\n",
      "1430/1430 - 7s - loss: 0.0015 - mean_squared_error: 0.0015 - mean_absolute_error: 0.0220\n",
      "Epoch 11/100\n",
      "1430/1430 - 8s - loss: 0.0016 - mean_squared_error: 0.0016 - mean_absolute_error: 0.0227\n",
      "Epoch 12/100\n",
      "1430/1430 - 8s - loss: 0.0026 - mean_squared_error: 0.0026 - mean_absolute_error: 0.0218\n",
      "Epoch 13/100\n",
      "1430/1430 - 8s - loss: 0.0025 - mean_squared_error: 0.0025 - mean_absolute_error: 0.0204\n",
      "Epoch 14/100\n",
      "1430/1430 - 9s - loss: 0.0023 - mean_squared_error: 0.0023 - mean_absolute_error: 0.0201\n",
      "Epoch 15/100\n",
      "1430/1430 - 8s - loss: 0.0011 - mean_squared_error: 0.0011 - mean_absolute_error: 0.0167\n",
      "Epoch 16/100\n",
      "1430/1430 - 8s - loss: 0.0013 - mean_squared_error: 0.0013 - mean_absolute_error: 0.0194\n",
      "Epoch 17/100\n",
      "1430/1430 - 8s - loss: 0.0011 - mean_squared_error: 0.0011 - mean_absolute_error: 0.0133\n",
      "Epoch 18/100\n",
      "1430/1430 - 8s - loss: 8.0697e-04 - mean_squared_error: 8.0697e-04 - mean_absolute_error: 0.0116\n",
      "Epoch 19/100\n",
      "1430/1430 - 7s - loss: 7.9590e-04 - mean_squared_error: 7.9590e-04 - mean_absolute_error: 0.0132\n",
      "Epoch 20/100\n",
      "1430/1430 - 7s - loss: 8.8918e-04 - mean_squared_error: 8.8918e-04 - mean_absolute_error: 0.0149\n",
      "Epoch 21/100\n",
      "1430/1430 - 6s - loss: 5.6333e-04 - mean_squared_error: 5.6333e-04 - mean_absolute_error: 0.0145\n",
      "Epoch 22/100\n",
      "1430/1430 - 7s - loss: 8.1816e-04 - mean_squared_error: 8.1816e-04 - mean_absolute_error: 0.0155\n",
      "Epoch 23/100\n",
      "1430/1430 - 7s - loss: 9.1660e-04 - mean_squared_error: 9.1660e-04 - mean_absolute_error: 0.0128\n",
      "Epoch 24/100\n",
      "1430/1430 - 7s - loss: 8.5329e-04 - mean_squared_error: 8.5329e-04 - mean_absolute_error: 0.0124\n",
      "Epoch 25/100\n",
      "1430/1430 - 7s - loss: 8.2529e-04 - mean_squared_error: 8.2529e-04 - mean_absolute_error: 0.0142\n",
      "Epoch 26/100\n",
      "1430/1430 - 8s - loss: 8.4850e-04 - mean_squared_error: 8.4850e-04 - mean_absolute_error: 0.0160\n",
      "Epoch 27/100\n",
      "1430/1430 - 8s - loss: 0.0013 - mean_squared_error: 0.0013 - mean_absolute_error: 0.0195\n",
      "Epoch 28/100\n",
      "1430/1430 - 8s - loss: 8.6204e-04 - mean_squared_error: 8.6204e-04 - mean_absolute_error: 0.0166\n",
      "Epoch 29/100\n",
      "1430/1430 - 7s - loss: 5.1766e-04 - mean_squared_error: 5.1766e-04 - mean_absolute_error: 0.0132\n",
      "Epoch 30/100\n",
      "1430/1430 - 7s - loss: 3.3458e-04 - mean_squared_error: 3.3458e-04 - mean_absolute_error: 0.0105\n",
      "Epoch 31/100\n",
      "1430/1430 - 8s - loss: 1.6251e-04 - mean_squared_error: 1.6251e-04 - mean_absolute_error: 0.0075\n",
      "Epoch 32/100\n",
      "1430/1430 - 6s - loss: 2.6883e-04 - mean_squared_error: 2.6883e-04 - mean_absolute_error: 0.0092\n",
      "Epoch 33/100\n",
      "1430/1430 - 7s - loss: 2.1974e-04 - mean_squared_error: 2.1974e-04 - mean_absolute_error: 0.0078\n",
      "Epoch 34/100\n",
      "1430/1430 - 7s - loss: 1.3234e-04 - mean_squared_error: 1.3234e-04 - mean_absolute_error: 0.0060\n",
      "Epoch 35/100\n",
      "1430/1430 - 7s - loss: 1.2632e-04 - mean_squared_error: 1.2632e-04 - mean_absolute_error: 0.0060\n",
      "Epoch 36/100\n",
      "1430/1430 - 7s - loss: 9.5073e-05 - mean_squared_error: 9.5073e-05 - mean_absolute_error: 0.0045\n",
      "Epoch 37/100\n",
      "1430/1430 - 7s - loss: 7.1072e-05 - mean_squared_error: 7.1072e-05 - mean_absolute_error: 0.0041\n",
      "Epoch 38/100\n",
      "1430/1430 - 7s - loss: 1.1512e-04 - mean_squared_error: 1.1512e-04 - mean_absolute_error: 0.0050\n",
      "Epoch 39/100\n",
      "1430/1430 - 7s - loss: 1.1439e-04 - mean_squared_error: 1.1439e-04 - mean_absolute_error: 0.0048\n",
      "Epoch 40/100\n",
      "1430/1430 - 7s - loss: 9.8474e-05 - mean_squared_error: 9.8474e-05 - mean_absolute_error: 0.0050\n",
      "Epoch 41/100\n",
      "1430/1430 - 7s - loss: 1.3138e-04 - mean_squared_error: 1.3138e-04 - mean_absolute_error: 0.0061\n",
      "Epoch 42/100\n",
      "1430/1430 - 8s - loss: 1.5153e-04 - mean_squared_error: 1.5153e-04 - mean_absolute_error: 0.0061\n",
      "Epoch 43/100\n",
      "1430/1430 - 6s - loss: 1.0979e-04 - mean_squared_error: 1.0979e-04 - mean_absolute_error: 0.0059\n",
      "Epoch 44/100\n",
      "1430/1430 - 6s - loss: 2.0533e-04 - mean_squared_error: 2.0533e-04 - mean_absolute_error: 0.0080\n",
      "Epoch 45/100\n",
      "1430/1430 - 6s - loss: 3.5337e-04 - mean_squared_error: 3.5337e-04 - mean_absolute_error: 0.0097\n",
      "Epoch 46/100\n",
      "1430/1430 - 6s - loss: 2.2016e-04 - mean_squared_error: 2.2016e-04 - mean_absolute_error: 0.0076\n",
      "Epoch 47/100\n",
      "1430/1430 - 7s - loss: 3.6839e-04 - mean_squared_error: 3.6839e-04 - mean_absolute_error: 0.0107\n",
      "Epoch 48/100\n",
      "1430/1430 - 7s - loss: 4.4737e-04 - mean_squared_error: 4.4737e-04 - mean_absolute_error: 0.0121\n",
      "Epoch 49/100\n",
      "1430/1430 - 7s - loss: 5.2411e-04 - mean_squared_error: 5.2411e-04 - mean_absolute_error: 0.0117\n",
      "Epoch 50/100\n",
      "1430/1430 - 8s - loss: 7.0382e-04 - mean_squared_error: 7.0382e-04 - mean_absolute_error: 0.0123\n",
      "Epoch 51/100\n",
      "1430/1430 - 7s - loss: 7.2348e-04 - mean_squared_error: 7.2348e-04 - mean_absolute_error: 0.0125\n",
      "Epoch 52/100\n",
      "1430/1430 - 8s - loss: 0.0015 - mean_squared_error: 0.0015 - mean_absolute_error: 0.0154\n",
      "Epoch 53/100\n",
      "1430/1430 - 6s - loss: 0.0023 - mean_squared_error: 0.0023 - mean_absolute_error: 0.0192\n",
      "Epoch 54/100\n",
      "1430/1430 - 6s - loss: 0.0019 - mean_squared_error: 0.0019 - mean_absolute_error: 0.0175\n",
      "Epoch 55/100\n",
      "1430/1430 - 7s - loss: 0.0025 - mean_squared_error: 0.0025 - mean_absolute_error: 0.0207\n",
      "Epoch 56/100\n",
      "1430/1430 - 7s - loss: 0.0017 - mean_squared_error: 0.0017 - mean_absolute_error: 0.0182\n",
      "Epoch 57/100\n",
      "1430/1430 - 7s - loss: 0.0013 - mean_squared_error: 0.0013 - mean_absolute_error: 0.0202\n",
      "Epoch 58/100\n",
      "1430/1430 - 7s - loss: 0.0011 - mean_squared_error: 0.0011 - mean_absolute_error: 0.0194\n",
      "Epoch 59/100\n",
      "1430/1430 - 6s - loss: 0.0011 - mean_squared_error: 0.0011 - mean_absolute_error: 0.0158\n",
      "Epoch 60/100\n",
      "1430/1430 - 7s - loss: 0.0012 - mean_squared_error: 0.0012 - mean_absolute_error: 0.0138\n",
      "Epoch 61/100\n",
      "1430/1430 - 7s - loss: 0.0016 - mean_squared_error: 0.0016 - mean_absolute_error: 0.0153\n",
      "Epoch 62/100\n",
      "1430/1430 - 8s - loss: 0.0043 - mean_squared_error: 0.0043 - mean_absolute_error: 0.0196\n",
      "Epoch 63/100\n",
      "1430/1430 - 8s - loss: 0.0024 - mean_squared_error: 0.0024 - mean_absolute_error: 0.0171\n",
      "Epoch 64/100\n",
      "1430/1430 - 7s - loss: 0.0025 - mean_squared_error: 0.0025 - mean_absolute_error: 0.0148\n",
      "Epoch 65/100\n",
      "1430/1430 - 6s - loss: 8.8741e-04 - mean_squared_error: 8.8741e-04 - mean_absolute_error: 0.0131\n",
      "Epoch 66/100\n",
      "1430/1430 - 7s - loss: 8.9986e-04 - mean_squared_error: 8.9986e-04 - mean_absolute_error: 0.0122\n",
      "Epoch 67/100\n",
      "1430/1430 - 7s - loss: 7.7977e-04 - mean_squared_error: 7.7977e-04 - mean_absolute_error: 0.0131\n",
      "Epoch 68/100\n",
      "1430/1430 - 7s - loss: 6.6587e-04 - mean_squared_error: 6.6587e-04 - mean_absolute_error: 0.0139\n",
      "Epoch 69/100\n",
      "1430/1430 - 7s - loss: 5.4497e-04 - mean_squared_error: 5.4497e-04 - mean_absolute_error: 0.0141\n",
      "Epoch 70/100\n",
      "1430/1430 - 8s - loss: 3.4339e-04 - mean_squared_error: 3.4339e-04 - mean_absolute_error: 0.0134\n",
      "Epoch 71/100\n",
      "1430/1430 - 7s - loss: 3.4352e-04 - mean_squared_error: 3.4352e-04 - mean_absolute_error: 0.0149\n",
      "Epoch 72/100\n",
      "1430/1430 - 7s - loss: 3.3119e-04 - mean_squared_error: 3.3119e-04 - mean_absolute_error: 0.0147\n",
      "Epoch 73/100\n",
      "1430/1430 - 7s - loss: 3.1942e-04 - mean_squared_error: 3.1942e-04 - mean_absolute_error: 0.0152\n",
      "Epoch 74/100\n",
      "1430/1430 - 7s - loss: 2.5321e-04 - mean_squared_error: 2.5321e-04 - mean_absolute_error: 0.0135\n",
      "Epoch 75/100\n",
      "1430/1430 - 6s - loss: 1.8304e-04 - mean_squared_error: 1.8304e-04 - mean_absolute_error: 0.0112\n",
      "Epoch 76/100\n",
      "1430/1430 - 7s - loss: 1.4251e-04 - mean_squared_error: 1.4251e-04 - mean_absolute_error: 0.0097\n",
      "Epoch 77/100\n",
      "1430/1430 - 7s - loss: 1.3180e-04 - mean_squared_error: 1.3180e-04 - mean_absolute_error: 0.0096\n",
      "Epoch 78/100\n",
      "1430/1430 - 7s - loss: 8.6223e-05 - mean_squared_error: 8.6223e-05 - mean_absolute_error: 0.0073\n",
      "Epoch 79/100\n",
      "1430/1430 - 6s - loss: 8.8853e-05 - mean_squared_error: 8.8853e-05 - mean_absolute_error: 0.0065\n",
      "Epoch 80/100\n",
      "1430/1430 - 6s - loss: 5.0416e-05 - mean_squared_error: 5.0416e-05 - mean_absolute_error: 0.0048\n",
      "Epoch 81/100\n",
      "1430/1430 - 7s - loss: 3.9932e-05 - mean_squared_error: 3.9932e-05 - mean_absolute_error: 0.0041\n",
      "Epoch 82/100\n",
      "1430/1430 - 7s - loss: 4.0403e-05 - mean_squared_error: 4.0403e-05 - mean_absolute_error: 0.0036\n",
      "Epoch 83/100\n",
      "1430/1430 - 7s - loss: 5.1150e-05 - mean_squared_error: 5.1150e-05 - mean_absolute_error: 0.0040\n",
      "Epoch 84/100\n",
      "1430/1430 - 7s - loss: 4.1732e-05 - mean_squared_error: 4.1732e-05 - mean_absolute_error: 0.0038\n",
      "Epoch 85/100\n",
      "1430/1430 - 7s - loss: 4.3727e-05 - mean_squared_error: 4.3727e-05 - mean_absolute_error: 0.0044\n",
      "Epoch 86/100\n",
      "1430/1430 - 7s - loss: 4.8819e-05 - mean_squared_error: 4.8819e-05 - mean_absolute_error: 0.0047\n",
      "Epoch 87/100\n",
      "1430/1430 - 7s - loss: 4.8073e-05 - mean_squared_error: 4.8073e-05 - mean_absolute_error: 0.0043\n",
      "Epoch 88/100\n",
      "1430/1430 - 7s - loss: 3.3743e-05 - mean_squared_error: 3.3743e-05 - mean_absolute_error: 0.0035\n",
      "Epoch 89/100\n",
      "1430/1430 - 7s - loss: 3.3053e-05 - mean_squared_error: 3.3053e-05 - mean_absolute_error: 0.0032\n",
      "Epoch 90/100\n",
      "1430/1430 - 7s - loss: 3.7926e-05 - mean_squared_error: 3.7926e-05 - mean_absolute_error: 0.0029\n",
      "Epoch 91/100\n",
      "1430/1430 - 8s - loss: 4.5581e-05 - mean_squared_error: 4.5581e-05 - mean_absolute_error: 0.0035\n",
      "Epoch 92/100\n",
      "1430/1430 - 7s - loss: 5.1751e-05 - mean_squared_error: 5.1751e-05 - mean_absolute_error: 0.0041\n",
      "Epoch 93/100\n",
      "1430/1430 - 7s - loss: 6.2288e-05 - mean_squared_error: 6.2288e-05 - mean_absolute_error: 0.0049\n",
      "Epoch 94/100\n",
      "1430/1430 - 8s - loss: 7.0198e-05 - mean_squared_error: 7.0198e-05 - mean_absolute_error: 0.0051\n",
      "Epoch 95/100\n",
      "1430/1430 - 8s - loss: 9.7734e-05 - mean_squared_error: 9.7734e-05 - mean_absolute_error: 0.0055\n",
      "Epoch 96/100\n",
      "1430/1430 - 7s - loss: 9.2994e-05 - mean_squared_error: 9.2994e-05 - mean_absolute_error: 0.0048\n",
      "Epoch 97/100\n",
      "1430/1430 - 7s - loss: 1.2973e-04 - mean_squared_error: 1.2973e-04 - mean_absolute_error: 0.0050\n",
      "Epoch 98/100\n",
      "1430/1430 - 7s - loss: 1.5207e-04 - mean_squared_error: 1.5207e-04 - mean_absolute_error: 0.0052\n",
      "Epoch 99/100\n",
      "1430/1430 - 7s - loss: 1.9686e-04 - mean_squared_error: 1.9686e-04 - mean_absolute_error: 0.0070\n",
      "Epoch 100/100\n",
      "1430/1430 - 8s - loss: 1.9874e-04 - mean_squared_error: 1.9874e-04 - mean_absolute_error: 0.0080\n"
     ],
     "output_type": "stream"
    },
    {
     "data": {
      "text/plain": "<tensorflow.python.keras.callbacks.History at 0x1a2b7dfeb8>"
     },
     "metadata": {},
     "output_type": "execute_result",
     "execution_count": 17
    }
   ],
   "source": [
    "nn_model.fit(\n",
    "    X_train_scaled,\n",
    "    y_train_scaled,\n",
    "    epochs=100,\n",
    "    shuffle=False,\n",
    "    verbose=2\n",
    ")"
   ],
   "metadata": {
    "collapsed": false,
    "pycharm": {
     "name": "#%%\n",
     "is_executing": false
    }
   }
  },
  {
   "cell_type": "code",
   "execution_count": 18,
   "outputs": [
    {
     "name": "stdout",
     "text": [
      "477/477 - 1s - loss: 0.0019 - mean_squared_error: 0.0019 - mean_absolute_error: 0.0297\n"
     ],
     "output_type": "stream"
    },
    {
     "data": {
      "text/plain": "[0.0019235607608567057, 0.0019235607, 0.029700931]"
     },
     "metadata": {},
     "output_type": "execute_result",
     "execution_count": 18
    }
   ],
   "source": [
    "nn_model.evaluate(\n",
    "    X_test_scaled, y_test_scaled, verbose=2)"
   ],
   "metadata": {
    "collapsed": false,
    "pycharm": {
     "name": "#%%\n",
     "is_executing": false
    }
   }
  },
  {
   "cell_type": "code",
   "execution_count": 19,
   "outputs": [],
   "source": [
    "nn_model.save(\"Resources/nn_model.h5\")"
   ],
   "metadata": {
    "collapsed": false,
    "pycharm": {
     "name": "#%%\n",
     "is_executing": false
    }
   }
  },
  {
   "cell_type": "code",
   "execution_count": 20,
   "outputs": [],
   "source": [
    "pd.to_pickle(scalers, \"Resources/scalers.pickle\")\n",
    "pd.to_pickle((X_train_scaled, y_train_scaled), \"Resources/train_scaled.pickle\")\n",
    "pd.to_pickle((X_test_scaled, y_test_scaled), \"Resources/test_scaled.pickle\")"
   ],
   "metadata": {
    "collapsed": false,
    "pycharm": {
     "name": "#%%\n",
     "is_executing": false
    }
   }
  },
  {
   "cell_type": "code",
   "execution_count": 21,
   "outputs": [
    {
     "name": "stdout",
     "text": [
      "Theaters => 1\nBudget => 1\nRuntime => 1\nGenre => 18\nDirector => 2738\nProducer => 10728\nWriter => 2732\nStudio => 45\nRating => 5\nMonth => 12\nDay => 31\n"
     ],
     "output_type": "stream"
    }
   ],
   "source": [
    "prev_col = None\n",
    "count = 0\n",
    "for c in data.columns:\n",
    "    cg = str(c).split(\"_\")[0]\n",
    "    if cg != prev_col:\n",
    "        if prev_col:\n",
    "            print(f\"{prev_col} => {count}\")\n",
    "        prev_col = cg\n",
    "        count = 0\n",
    "    count += 1\n",
    "else:\n",
    "    print(f\"{prev_col} => {count}\")"
   ],
   "metadata": {
    "collapsed": false,
    "pycharm": {
     "name": "#%%\n",
     "is_executing": false
    }
   }
  },
  {
   "cell_type": "code",
   "execution_count": null,
   "outputs": [],
   "source": [
    "\n"
   ],
   "metadata": {
    "collapsed": false,
    "pycharm": {
     "name": "#%%\n"
    }
   }
  }
 ],
 "metadata": {
  "kernel_info": {
   "name": "dev"
  },
  "kernelspec": {
   "display_name": "Python 3",
   "language": "python",
   "name": "python3"
  },
  "language_info": {
   "codemirror_mode": {
    "name": "ipython",
    "version": 3
   },
   "file_extension": ".py",
   "mimetype": "text/x-python",
   "name": "python",
   "nbconvert_exporter": "python",
   "pygments_lexer": "ipython3",
   "version": "3.7.3"
  },
  "nteract": {
   "version": "0.12.3"
  },
  "pycharm": {
   "stem_cell": {
    "cell_type": "raw",
    "source": [],
    "metadata": {
     "collapsed": false
    }
   }
  }
 },
 "nbformat": 4,
 "nbformat_minor": 2
}