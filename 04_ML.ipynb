{
 "cells": [
  {
   "cell_type": "code",
   "execution_count": 1,
   "metadata": {},
   "outputs": [
    {
     "name": "stderr",
     "output_type": "stream",
     "text": [
      "Using TensorFlow backend.\n"
     ]
    }
   ],
   "source": [
    "import pandas as pd\n",
    "\n",
    "# import matplotlib.pyplot as plt\n",
    "\n",
    "import sklearn\n",
    "from sklearn.preprocessing import MultiLabelBinarizer\n",
    "from sklearn.preprocessing import LabelEncoder, OneHotEncoder\n",
    "from sklearn.model_selection import train_test_split\n",
    "from sklearn.preprocessing import MinMaxScaler\n",
    "from sklearn_pandas import DataFrameMapper\n",
    "\n",
    "from keras.utils import to_categorical\n",
    "from tensorflow.keras.models import Sequential\n",
    "from tensorflow.keras.layers import Dense\n",
    "\n",
    "import numpy as np\n",
    "import json\n",
    "\n",
    "from sklearn.metrics import mean_squared_error\n",
    "\n",
    "\n"
   ]
  },
  {
   "cell_type": "markdown",
   "metadata": {},
   "source": [
    "# Read the CSV and Perform Basic Data Cleaning"
   ]
  },
  {
   "cell_type": "code",
   "execution_count": 2,
   "metadata": {
    "scrolled": false
   },
   "outputs": [
    {
     "data": {
      "text/html": [
       "<div>\n",
       "<style scoped>\n",
       "    .dataframe tbody tr th:only-of-type {\n",
       "        vertical-align: middle;\n",
       "    }\n",
       "\n",
       "    .dataframe tbody tr th {\n",
       "        vertical-align: top;\n",
       "    }\n",
       "\n",
       "    .dataframe thead th {\n",
       "        text-align: right;\n",
       "    }\n",
       "</style>\n",
       "<table border=\"1\" class=\"dataframe\">\n",
       "  <thead>\n",
       "    <tr style=\"text-align: right;\">\n",
       "      <th></th>\n",
       "      <th>Opening</th>\n",
       "      <th>Theaters</th>\n",
       "      <th>Budget</th>\n",
       "      <th>Runtime</th>\n",
       "      <th>Genre_Action</th>\n",
       "      <th>Genre_Adventure</th>\n",
       "      <th>Genre_Animation</th>\n",
       "      <th>Genre_Comedy</th>\n",
       "      <th>Genre_Crime</th>\n",
       "      <th>Genre_Documentary</th>\n",
       "      <th>...</th>\n",
       "      <th>Writer_Yvette Kaplan</th>\n",
       "      <th>Writer_Zach Helm</th>\n",
       "      <th>Writer_Zach Shields</th>\n",
       "      <th>Writer_Zack Snyder</th>\n",
       "      <th>Writer_Zack Stentz</th>\n",
       "      <th>Writer_Zak Penn</th>\n",
       "      <th>Writer_Zane Smith</th>\n",
       "      <th>Writer_Zeke Richardson</th>\n",
       "      <th>Writer_Álvaro Rodríguez</th>\n",
       "      <th>Writer_Éric Toledano</th>\n",
       "    </tr>\n",
       "  </thead>\n",
       "  <tbody>\n",
       "    <tr>\n",
       "      <th>count</th>\n",
       "      <td>1.907000e+03</td>\n",
       "      <td>1907.000000</td>\n",
       "      <td>1.907000e+03</td>\n",
       "      <td>1907.000000</td>\n",
       "      <td>1907.000000</td>\n",
       "      <td>1907.000000</td>\n",
       "      <td>1907.000000</td>\n",
       "      <td>1907.000000</td>\n",
       "      <td>1907.000000</td>\n",
       "      <td>1907.000000</td>\n",
       "      <td>...</td>\n",
       "      <td>1907.000000</td>\n",
       "      <td>1907.000000</td>\n",
       "      <td>1907.000000</td>\n",
       "      <td>1907.000000</td>\n",
       "      <td>1907.000000</td>\n",
       "      <td>1907.000000</td>\n",
       "      <td>1907.000000</td>\n",
       "      <td>1907.000000</td>\n",
       "      <td>1907.000000</td>\n",
       "      <td>1907.000000</td>\n",
       "    </tr>\n",
       "    <tr>\n",
       "      <th>mean</th>\n",
       "      <td>2.792583e+07</td>\n",
       "      <td>2913.979549</td>\n",
       "      <td>6.206534e+07</td>\n",
       "      <td>110.750393</td>\n",
       "      <td>0.359203</td>\n",
       "      <td>0.280545</td>\n",
       "      <td>0.093865</td>\n",
       "      <td>0.409544</td>\n",
       "      <td>0.149449</td>\n",
       "      <td>0.004719</td>\n",
       "      <td>...</td>\n",
       "      <td>0.000524</td>\n",
       "      <td>0.000524</td>\n",
       "      <td>0.000524</td>\n",
       "      <td>0.002622</td>\n",
       "      <td>0.001573</td>\n",
       "      <td>0.004719</td>\n",
       "      <td>0.000524</td>\n",
       "      <td>0.000524</td>\n",
       "      <td>0.000524</td>\n",
       "      <td>0.000524</td>\n",
       "    </tr>\n",
       "    <tr>\n",
       "      <th>std</th>\n",
       "      <td>2.729695e+07</td>\n",
       "      <td>702.092481</td>\n",
       "      <td>5.495635e+07</td>\n",
       "      <td>18.674676</td>\n",
       "      <td>0.479893</td>\n",
       "      <td>0.449384</td>\n",
       "      <td>0.291717</td>\n",
       "      <td>0.491879</td>\n",
       "      <td>0.356624</td>\n",
       "      <td>0.068554</td>\n",
       "      <td>...</td>\n",
       "      <td>0.022899</td>\n",
       "      <td>0.022899</td>\n",
       "      <td>0.022899</td>\n",
       "      <td>0.051151</td>\n",
       "      <td>0.039642</td>\n",
       "      <td>0.068554</td>\n",
       "      <td>0.022899</td>\n",
       "      <td>0.022899</td>\n",
       "      <td>0.022899</td>\n",
       "      <td>0.022899</td>\n",
       "    </tr>\n",
       "    <tr>\n",
       "      <th>min</th>\n",
       "      <td>1.000198e+07</td>\n",
       "      <td>629.000000</td>\n",
       "      <td>0.000000e+00</td>\n",
       "      <td>26.000000</td>\n",
       "      <td>0.000000</td>\n",
       "      <td>0.000000</td>\n",
       "      <td>0.000000</td>\n",
       "      <td>0.000000</td>\n",
       "      <td>0.000000</td>\n",
       "      <td>0.000000</td>\n",
       "      <td>...</td>\n",
       "      <td>0.000000</td>\n",
       "      <td>0.000000</td>\n",
       "      <td>0.000000</td>\n",
       "      <td>0.000000</td>\n",
       "      <td>0.000000</td>\n",
       "      <td>0.000000</td>\n",
       "      <td>0.000000</td>\n",
       "      <td>0.000000</td>\n",
       "      <td>0.000000</td>\n",
       "      <td>0.000000</td>\n",
       "    </tr>\n",
       "    <tr>\n",
       "      <th>25%</th>\n",
       "      <td>1.339860e+07</td>\n",
       "      <td>2503.000000</td>\n",
       "      <td>2.400000e+07</td>\n",
       "      <td>97.000000</td>\n",
       "      <td>0.000000</td>\n",
       "      <td>0.000000</td>\n",
       "      <td>0.000000</td>\n",
       "      <td>0.000000</td>\n",
       "      <td>0.000000</td>\n",
       "      <td>0.000000</td>\n",
       "      <td>...</td>\n",
       "      <td>0.000000</td>\n",
       "      <td>0.000000</td>\n",
       "      <td>0.000000</td>\n",
       "      <td>0.000000</td>\n",
       "      <td>0.000000</td>\n",
       "      <td>0.000000</td>\n",
       "      <td>0.000000</td>\n",
       "      <td>0.000000</td>\n",
       "      <td>0.000000</td>\n",
       "      <td>0.000000</td>\n",
       "    </tr>\n",
       "    <tr>\n",
       "      <th>50%</th>\n",
       "      <td>1.896668e+07</td>\n",
       "      <td>2950.000000</td>\n",
       "      <td>4.600000e+07</td>\n",
       "      <td>108.000000</td>\n",
       "      <td>0.000000</td>\n",
       "      <td>0.000000</td>\n",
       "      <td>0.000000</td>\n",
       "      <td>0.000000</td>\n",
       "      <td>0.000000</td>\n",
       "      <td>0.000000</td>\n",
       "      <td>...</td>\n",
       "      <td>0.000000</td>\n",
       "      <td>0.000000</td>\n",
       "      <td>0.000000</td>\n",
       "      <td>0.000000</td>\n",
       "      <td>0.000000</td>\n",
       "      <td>0.000000</td>\n",
       "      <td>0.000000</td>\n",
       "      <td>0.000000</td>\n",
       "      <td>0.000000</td>\n",
       "      <td>0.000000</td>\n",
       "    </tr>\n",
       "    <tr>\n",
       "      <th>75%</th>\n",
       "      <td>3.053719e+07</td>\n",
       "      <td>3389.500000</td>\n",
       "      <td>8.000000e+07</td>\n",
       "      <td>122.000000</td>\n",
       "      <td>1.000000</td>\n",
       "      <td>1.000000</td>\n",
       "      <td>0.000000</td>\n",
       "      <td>1.000000</td>\n",
       "      <td>0.000000</td>\n",
       "      <td>0.000000</td>\n",
       "      <td>...</td>\n",
       "      <td>0.000000</td>\n",
       "      <td>0.000000</td>\n",
       "      <td>0.000000</td>\n",
       "      <td>0.000000</td>\n",
       "      <td>0.000000</td>\n",
       "      <td>0.000000</td>\n",
       "      <td>0.000000</td>\n",
       "      <td>0.000000</td>\n",
       "      <td>0.000000</td>\n",
       "      <td>0.000000</td>\n",
       "    </tr>\n",
       "    <tr>\n",
       "      <th>max</th>\n",
       "      <td>3.571150e+08</td>\n",
       "      <td>4662.000000</td>\n",
       "      <td>5.000000e+08</td>\n",
       "      <td>201.000000</td>\n",
       "      <td>1.000000</td>\n",
       "      <td>1.000000</td>\n",
       "      <td>1.000000</td>\n",
       "      <td>1.000000</td>\n",
       "      <td>1.000000</td>\n",
       "      <td>1.000000</td>\n",
       "      <td>...</td>\n",
       "      <td>1.000000</td>\n",
       "      <td>1.000000</td>\n",
       "      <td>1.000000</td>\n",
       "      <td>1.000000</td>\n",
       "      <td>1.000000</td>\n",
       "      <td>1.000000</td>\n",
       "      <td>1.000000</td>\n",
       "      <td>1.000000</td>\n",
       "      <td>1.000000</td>\n",
       "      <td>1.000000</td>\n",
       "    </tr>\n",
       "  </tbody>\n",
       "</table>\n",
       "<p>8 rows × 16220 columns</p>\n",
       "</div>"
      ],
      "text/plain": [
       "            Opening     Theaters        Budget      Runtime  Genre_Action  \\\n",
       "count  1.907000e+03  1907.000000  1.907000e+03  1907.000000   1907.000000   \n",
       "mean   2.792583e+07  2913.979549  6.206534e+07   110.750393      0.359203   \n",
       "std    2.729695e+07   702.092481  5.495635e+07    18.674676      0.479893   \n",
       "min    1.000198e+07   629.000000  0.000000e+00    26.000000      0.000000   \n",
       "25%    1.339860e+07  2503.000000  2.400000e+07    97.000000      0.000000   \n",
       "50%    1.896668e+07  2950.000000  4.600000e+07   108.000000      0.000000   \n",
       "75%    3.053719e+07  3389.500000  8.000000e+07   122.000000      1.000000   \n",
       "max    3.571150e+08  4662.000000  5.000000e+08   201.000000      1.000000   \n",
       "\n",
       "       Genre_Adventure  Genre_Animation  Genre_Comedy  Genre_Crime  \\\n",
       "count      1907.000000      1907.000000   1907.000000  1907.000000   \n",
       "mean          0.280545         0.093865      0.409544     0.149449   \n",
       "std           0.449384         0.291717      0.491879     0.356624   \n",
       "min           0.000000         0.000000      0.000000     0.000000   \n",
       "25%           0.000000         0.000000      0.000000     0.000000   \n",
       "50%           0.000000         0.000000      0.000000     0.000000   \n",
       "75%           1.000000         0.000000      1.000000     0.000000   \n",
       "max           1.000000         1.000000      1.000000     1.000000   \n",
       "\n",
       "       Genre_Documentary  ...  Writer_Yvette Kaplan  Writer_Zach Helm  \\\n",
       "count        1907.000000  ...           1907.000000       1907.000000   \n",
       "mean            0.004719  ...              0.000524          0.000524   \n",
       "std             0.068554  ...              0.022899          0.022899   \n",
       "min             0.000000  ...              0.000000          0.000000   \n",
       "25%             0.000000  ...              0.000000          0.000000   \n",
       "50%             0.000000  ...              0.000000          0.000000   \n",
       "75%             0.000000  ...              0.000000          0.000000   \n",
       "max             1.000000  ...              1.000000          1.000000   \n",
       "\n",
       "       Writer_Zach Shields  Writer_Zack Snyder  Writer_Zack Stentz  \\\n",
       "count          1907.000000         1907.000000         1907.000000   \n",
       "mean              0.000524            0.002622            0.001573   \n",
       "std               0.022899            0.051151            0.039642   \n",
       "min               0.000000            0.000000            0.000000   \n",
       "25%               0.000000            0.000000            0.000000   \n",
       "50%               0.000000            0.000000            0.000000   \n",
       "75%               0.000000            0.000000            0.000000   \n",
       "max               1.000000            1.000000            1.000000   \n",
       "\n",
       "       Writer_Zak Penn  Writer_Zane Smith  Writer_Zeke Richardson  \\\n",
       "count      1907.000000        1907.000000             1907.000000   \n",
       "mean          0.004719           0.000524                0.000524   \n",
       "std           0.068554           0.022899                0.022899   \n",
       "min           0.000000           0.000000                0.000000   \n",
       "25%           0.000000           0.000000                0.000000   \n",
       "50%           0.000000           0.000000                0.000000   \n",
       "75%           0.000000           0.000000                0.000000   \n",
       "max           1.000000           1.000000                1.000000   \n",
       "\n",
       "       Writer_Álvaro Rodríguez  Writer_Éric Toledano  \n",
       "count              1907.000000           1907.000000  \n",
       "mean                  0.000524              0.000524  \n",
       "std                   0.022899              0.022899  \n",
       "min                   0.000000              0.000000  \n",
       "25%                   0.000000              0.000000  \n",
       "50%                   0.000000              0.000000  \n",
       "75%                   0.000000              0.000000  \n",
       "max                   1.000000              1.000000  \n",
       "\n",
       "[8 rows x 16220 columns]"
      ]
     },
     "execution_count": 2,
     "metadata": {},
     "output_type": "execute_result"
    }
   ],
   "source": [
    "df = pd.read_csv(\"Resources/03_new_df.csv\")\n",
    "df.describe()"
   ]
  },
  {
   "cell_type": "code",
   "execution_count": 3,
   "metadata": {},
   "outputs": [
    {
     "data": {
      "text/html": [
       "<div>\n",
       "<style scoped>\n",
       "    .dataframe tbody tr th:only-of-type {\n",
       "        vertical-align: middle;\n",
       "    }\n",
       "\n",
       "    .dataframe tbody tr th {\n",
       "        vertical-align: top;\n",
       "    }\n",
       "\n",
       "    .dataframe thead th {\n",
       "        text-align: right;\n",
       "    }\n",
       "</style>\n",
       "<table border=\"1\" class=\"dataframe\">\n",
       "  <thead>\n",
       "    <tr style=\"text-align: right;\">\n",
       "      <th></th>\n",
       "      <th>Studio</th>\n",
       "      <th>Opening</th>\n",
       "      <th>Theaters</th>\n",
       "      <th>Date</th>\n",
       "      <th>Budget</th>\n",
       "      <th>Runtime</th>\n",
       "      <th>Rating</th>\n",
       "      <th>Genre_Action</th>\n",
       "      <th>Genre_Adventure</th>\n",
       "      <th>Genre_Animation</th>\n",
       "      <th>...</th>\n",
       "      <th>Writer_Yvette Kaplan</th>\n",
       "      <th>Writer_Zach Helm</th>\n",
       "      <th>Writer_Zach Shields</th>\n",
       "      <th>Writer_Zack Snyder</th>\n",
       "      <th>Writer_Zack Stentz</th>\n",
       "      <th>Writer_Zak Penn</th>\n",
       "      <th>Writer_Zane Smith</th>\n",
       "      <th>Writer_Zeke Richardson</th>\n",
       "      <th>Writer_Álvaro Rodríguez</th>\n",
       "      <th>Writer_Éric Toledano</th>\n",
       "    </tr>\n",
       "  </thead>\n",
       "  <tbody>\n",
       "    <tr>\n",
       "      <th>0</th>\n",
       "      <td>BV</td>\n",
       "      <td>357115007</td>\n",
       "      <td>4662</td>\n",
       "      <td>2019-04-26</td>\n",
       "      <td>356000000</td>\n",
       "      <td>181.0</td>\n",
       "      <td>PG-13</td>\n",
       "      <td>1</td>\n",
       "      <td>1</td>\n",
       "      <td>0</td>\n",
       "      <td>...</td>\n",
       "      <td>0</td>\n",
       "      <td>0</td>\n",
       "      <td>0</td>\n",
       "      <td>0</td>\n",
       "      <td>0</td>\n",
       "      <td>0</td>\n",
       "      <td>0</td>\n",
       "      <td>0</td>\n",
       "      <td>0</td>\n",
       "      <td>0</td>\n",
       "    </tr>\n",
       "    <tr>\n",
       "      <th>1</th>\n",
       "      <td>BV</td>\n",
       "      <td>257698183</td>\n",
       "      <td>4474</td>\n",
       "      <td>2018-04-27</td>\n",
       "      <td>300000000</td>\n",
       "      <td>149.0</td>\n",
       "      <td>PG-13</td>\n",
       "      <td>1</td>\n",
       "      <td>1</td>\n",
       "      <td>0</td>\n",
       "      <td>...</td>\n",
       "      <td>0</td>\n",
       "      <td>0</td>\n",
       "      <td>0</td>\n",
       "      <td>0</td>\n",
       "      <td>0</td>\n",
       "      <td>0</td>\n",
       "      <td>0</td>\n",
       "      <td>0</td>\n",
       "      <td>0</td>\n",
       "      <td>0</td>\n",
       "    </tr>\n",
       "    <tr>\n",
       "      <th>2</th>\n",
       "      <td>BV</td>\n",
       "      <td>247966675</td>\n",
       "      <td>4134</td>\n",
       "      <td>2015-12-18</td>\n",
       "      <td>245000000</td>\n",
       "      <td>136.0</td>\n",
       "      <td>PG-13</td>\n",
       "      <td>1</td>\n",
       "      <td>1</td>\n",
       "      <td>0</td>\n",
       "      <td>...</td>\n",
       "      <td>0</td>\n",
       "      <td>0</td>\n",
       "      <td>0</td>\n",
       "      <td>0</td>\n",
       "      <td>0</td>\n",
       "      <td>0</td>\n",
       "      <td>0</td>\n",
       "      <td>0</td>\n",
       "      <td>0</td>\n",
       "      <td>0</td>\n",
       "    </tr>\n",
       "    <tr>\n",
       "      <th>3</th>\n",
       "      <td>BV</td>\n",
       "      <td>220009584</td>\n",
       "      <td>4232</td>\n",
       "      <td>2017-12-15</td>\n",
       "      <td>200000000</td>\n",
       "      <td>152.0</td>\n",
       "      <td>PG-13</td>\n",
       "      <td>1</td>\n",
       "      <td>1</td>\n",
       "      <td>0</td>\n",
       "      <td>...</td>\n",
       "      <td>0</td>\n",
       "      <td>0</td>\n",
       "      <td>0</td>\n",
       "      <td>0</td>\n",
       "      <td>0</td>\n",
       "      <td>0</td>\n",
       "      <td>0</td>\n",
       "      <td>0</td>\n",
       "      <td>0</td>\n",
       "      <td>0</td>\n",
       "    </tr>\n",
       "    <tr>\n",
       "      <th>4</th>\n",
       "      <td>Uni.</td>\n",
       "      <td>208806270</td>\n",
       "      <td>4274</td>\n",
       "      <td>2015-06-12</td>\n",
       "      <td>150000000</td>\n",
       "      <td>124.0</td>\n",
       "      <td>PG-13</td>\n",
       "      <td>1</td>\n",
       "      <td>1</td>\n",
       "      <td>0</td>\n",
       "      <td>...</td>\n",
       "      <td>0</td>\n",
       "      <td>0</td>\n",
       "      <td>0</td>\n",
       "      <td>0</td>\n",
       "      <td>0</td>\n",
       "      <td>0</td>\n",
       "      <td>0</td>\n",
       "      <td>0</td>\n",
       "      <td>0</td>\n",
       "      <td>0</td>\n",
       "    </tr>\n",
       "  </tbody>\n",
       "</table>\n",
       "<p>5 rows × 16223 columns</p>\n",
       "</div>"
      ],
      "text/plain": [
       "  Studio    Opening  Theaters        Date     Budget  Runtime Rating  \\\n",
       "0     BV  357115007      4662  2019-04-26  356000000    181.0  PG-13   \n",
       "1     BV  257698183      4474  2018-04-27  300000000    149.0  PG-13   \n",
       "2     BV  247966675      4134  2015-12-18  245000000    136.0  PG-13   \n",
       "3     BV  220009584      4232  2017-12-15  200000000    152.0  PG-13   \n",
       "4   Uni.  208806270      4274  2015-06-12  150000000    124.0  PG-13   \n",
       "\n",
       "   Genre_Action  Genre_Adventure  Genre_Animation  ...  Writer_Yvette Kaplan  \\\n",
       "0             1                1                0  ...                     0   \n",
       "1             1                1                0  ...                     0   \n",
       "2             1                1                0  ...                     0   \n",
       "3             1                1                0  ...                     0   \n",
       "4             1                1                0  ...                     0   \n",
       "\n",
       "   Writer_Zach Helm  Writer_Zach Shields  Writer_Zack Snyder  \\\n",
       "0                 0                    0                   0   \n",
       "1                 0                    0                   0   \n",
       "2                 0                    0                   0   \n",
       "3                 0                    0                   0   \n",
       "4                 0                    0                   0   \n",
       "\n",
       "   Writer_Zack Stentz  Writer_Zak Penn  Writer_Zane Smith  \\\n",
       "0                   0                0                  0   \n",
       "1                   0                0                  0   \n",
       "2                   0                0                  0   \n",
       "3                   0                0                  0   \n",
       "4                   0                0                  0   \n",
       "\n",
       "   Writer_Zeke Richardson  Writer_Álvaro Rodríguez  Writer_Éric Toledano  \n",
       "0                       0                        0                     0  \n",
       "1                       0                        0                     0  \n",
       "2                       0                        0                     0  \n",
       "3                       0                        0                     0  \n",
       "4                       0                        0                     0  \n",
       "\n",
       "[5 rows x 16223 columns]"
      ]
     },
     "execution_count": 3,
     "metadata": {},
     "output_type": "execute_result"
    }
   ],
   "source": [
    "df.head()"
   ]
  },
  {
   "cell_type": "markdown",
   "metadata": {},
   "source": [
    "# Change Date"
   ]
  },
  {
   "cell_type": "code",
   "execution_count": 4,
   "metadata": {},
   "outputs": [],
   "source": [
    "date_column = df[\"Date\"].str.split(\"-\", n = 2, expand = True) \n",
    "year_col= date_column[0] \n",
    "month_col= date_column[1] \n",
    "day_col= date_column[2] "
   ]
  },
  {
   "cell_type": "code",
   "execution_count": 5,
   "metadata": {},
   "outputs": [],
   "source": [
    "# one_hot_year = OneHotEncoder(dtype=np.int, categories=\"auto\", sparse=False).fit_transform(year_col.values.reshape(-1,1))\n",
    "# one_hot_year = pd.Series(list(one_hot_year))\n",
    "# # Create DataFrame \n",
    "# new_year_df = pd.DataFrame(one_hot_year, columns=[\"Year\"]) "
   ]
  },
  {
   "cell_type": "code",
   "execution_count": 6,
   "metadata": {},
   "outputs": [],
   "source": [
    "# one_hot_month = OneHotEncoder(dtype=np.int, categories=\"auto\", sparse=False).fit_transform(month_col.values.reshape(-1,1))\n",
    "# one_hot_month = pd.Series(list(one_hot_month))\n",
    "# new_month_df = pd.DataFrame(one_hot_month, columns=[\"Month\"]) "
   ]
  },
  {
   "cell_type": "code",
   "execution_count": 7,
   "metadata": {},
   "outputs": [],
   "source": [
    "# one_hot_day = OneHotEncoder(dtype=np.int, categories=\"auto\", sparse=False).fit_transform(day_col.values.reshape(-1,1))\n",
    "# one_hot_day = pd.Series(list(one_hot_day))\n",
    "# new_day_df = pd.DataFrame(one_hot_day, columns=[\"Day\"]) "
   ]
  },
  {
   "cell_type": "code",
   "execution_count": null,
   "metadata": {},
   "outputs": [],
   "source": []
  },
  {
   "cell_type": "code",
   "execution_count": 8,
   "metadata": {},
   "outputs": [
    {
     "data": {
      "text/plain": [
       "count     1907\n",
       "unique      40\n",
       "top       2012\n",
       "freq        89\n",
       "Name: 0, dtype: object"
      ]
     },
     "execution_count": 8,
     "metadata": {},
     "output_type": "execute_result"
    }
   ],
   "source": [
    "year_col.describe()"
   ]
  },
  {
   "cell_type": "code",
   "execution_count": 9,
   "metadata": {},
   "outputs": [],
   "source": [
    "label_encoder = LabelEncoder()\n",
    "label_encoder.fit(year_col)\n",
    "encoded_year = label_encoder.transform(year_col)"
   ]
  },
  {
   "cell_type": "code",
   "execution_count": 10,
   "metadata": {},
   "outputs": [
    {
     "data": {
      "text/plain": [
       "array([39, 38, 35, ..., 26, 34, 32])"
      ]
     },
     "execution_count": 10,
     "metadata": {},
     "output_type": "execute_result"
    }
   ],
   "source": [
    "encoded_year"
   ]
  },
  {
   "cell_type": "code",
   "execution_count": 11,
   "metadata": {},
   "outputs": [
    {
     "data": {
      "text/plain": [
       "array([[0., 0., 0., ..., 0., 0., 1.],\n",
       "       [0., 0., 0., ..., 0., 1., 0.],\n",
       "       [0., 0., 0., ..., 0., 0., 0.],\n",
       "       ...,\n",
       "       [0., 0., 0., ..., 0., 0., 0.],\n",
       "       [0., 0., 0., ..., 0., 0., 0.],\n",
       "       [0., 0., 0., ..., 0., 0., 0.]], dtype=float32)"
      ]
     },
     "execution_count": 11,
     "metadata": {},
     "output_type": "execute_result"
    }
   ],
   "source": [
    "one_hot_year = to_categorical(encoded_year)\n",
    "one_hot_year"
   ]
  },
  {
   "cell_type": "code",
   "execution_count": 12,
   "metadata": {},
   "outputs": [
    {
     "data": {
      "text/plain": [
       "(1907, 40)"
      ]
     },
     "execution_count": 12,
     "metadata": {},
     "output_type": "execute_result"
    }
   ],
   "source": [
    "one_hot_year.shape"
   ]
  },
  {
   "cell_type": "code",
   "execution_count": 13,
   "metadata": {},
   "outputs": [
    {
     "data": {
      "text/plain": [
       "array([[0., 0., 0., ..., 0., 0., 0.],\n",
       "       [0., 0., 0., ..., 0., 0., 0.],\n",
       "       [0., 0., 0., ..., 0., 0., 1.],\n",
       "       ...,\n",
       "       [0., 0., 0., ..., 0., 0., 0.],\n",
       "       [0., 0., 0., ..., 1., 0., 0.],\n",
       "       [0., 0., 0., ..., 0., 0., 0.]], dtype=float32)"
      ]
     },
     "execution_count": 13,
     "metadata": {},
     "output_type": "execute_result"
    }
   ],
   "source": [
    "one_hot_month = to_categorical(month_col)\n",
    "one_hot_month"
   ]
  },
  {
   "cell_type": "code",
   "execution_count": 14,
   "metadata": {},
   "outputs": [
    {
     "data": {
      "text/plain": [
       "(1907, 13)"
      ]
     },
     "execution_count": 14,
     "metadata": {},
     "output_type": "execute_result"
    }
   ],
   "source": [
    "one_hot_month.shape"
   ]
  },
  {
   "cell_type": "code",
   "execution_count": 15,
   "metadata": {},
   "outputs": [
    {
     "data": {
      "text/plain": [
       "array([[0., 0., 0., ..., 0., 0., 0.],\n",
       "       [0., 0., 0., ..., 0., 0., 0.],\n",
       "       [0., 0., 0., ..., 0., 0., 0.],\n",
       "       ...,\n",
       "       [0., 0., 0., ..., 0., 0., 0.],\n",
       "       [0., 0., 0., ..., 0., 0., 0.],\n",
       "       [0., 0., 0., ..., 1., 0., 0.]], dtype=float32)"
      ]
     },
     "execution_count": 15,
     "metadata": {},
     "output_type": "execute_result"
    }
   ],
   "source": [
    "one_hot_day = to_categorical(day_col)\n",
    "one_hot_day"
   ]
  },
  {
   "cell_type": "code",
   "execution_count": 16,
   "metadata": {},
   "outputs": [
    {
     "data": {
      "text/plain": [
       "(1907, 32)"
      ]
     },
     "execution_count": 16,
     "metadata": {},
     "output_type": "execute_result"
    }
   ],
   "source": [
    "one_hot_day.shape"
   ]
  },
  {
   "cell_type": "code",
   "execution_count": null,
   "metadata": {},
   "outputs": [],
   "source": []
  },
  {
   "cell_type": "code",
   "execution_count": 17,
   "metadata": {},
   "outputs": [],
   "source": [
    "year_df = pd.DataFrame(one_hot_year).add_prefix('Year_')"
   ]
  },
  {
   "cell_type": "code",
   "execution_count": 18,
   "metadata": {},
   "outputs": [],
   "source": [
    "month_df = pd.DataFrame(one_hot_month).add_prefix('Month_')"
   ]
  },
  {
   "cell_type": "code",
   "execution_count": 19,
   "metadata": {},
   "outputs": [],
   "source": [
    "day_df = pd.DataFrame(one_hot_day).add_prefix('Day_')"
   ]
  },
  {
   "cell_type": "code",
   "execution_count": 20,
   "metadata": {},
   "outputs": [
    {
     "data": {
      "text/plain": [
       "(1907, 45)"
      ]
     },
     "execution_count": 20,
     "metadata": {},
     "output_type": "execute_result"
    }
   ],
   "source": [
    "# date_df = pd.concat([year_df, month_df, day_df], axis=1)\n",
    "# trying it without YEAR\n",
    "date_df = pd.concat([month_df, day_df], axis=1)\n",
    "date_df.shape"
   ]
  },
  {
   "cell_type": "code",
   "execution_count": null,
   "metadata": {},
   "outputs": [],
   "source": []
  },
  {
   "cell_type": "code",
   "execution_count": 21,
   "metadata": {},
   "outputs": [
    {
     "data": {
      "text/html": [
       "<div>\n",
       "<style scoped>\n",
       "    .dataframe tbody tr th:only-of-type {\n",
       "        vertical-align: middle;\n",
       "    }\n",
       "\n",
       "    .dataframe tbody tr th {\n",
       "        vertical-align: top;\n",
       "    }\n",
       "\n",
       "    .dataframe thead th {\n",
       "        text-align: right;\n",
       "    }\n",
       "</style>\n",
       "<table border=\"1\" class=\"dataframe\">\n",
       "  <thead>\n",
       "    <tr style=\"text-align: right;\">\n",
       "      <th></th>\n",
       "      <th>Opening</th>\n",
       "      <th>Theaters</th>\n",
       "      <th>Budget</th>\n",
       "      <th>Runtime</th>\n",
       "      <th>Genre_Action</th>\n",
       "      <th>Genre_Adventure</th>\n",
       "      <th>Genre_Animation</th>\n",
       "      <th>Genre_Comedy</th>\n",
       "      <th>Genre_Crime</th>\n",
       "      <th>Genre_Documentary</th>\n",
       "      <th>...</th>\n",
       "      <th>Studio_Uni.</th>\n",
       "      <th>Studio_W/Dim.</th>\n",
       "      <th>Studio_WB</th>\n",
       "      <th>Studio_WB (NL)</th>\n",
       "      <th>Studio_Wein.</th>\n",
       "      <th>Rating_G</th>\n",
       "      <th>Rating_NR</th>\n",
       "      <th>Rating_PG</th>\n",
       "      <th>Rating_PG-13</th>\n",
       "      <th>Rating_R</th>\n",
       "    </tr>\n",
       "  </thead>\n",
       "  <tbody>\n",
       "    <tr>\n",
       "      <th>0</th>\n",
       "      <td>357115007</td>\n",
       "      <td>4662</td>\n",
       "      <td>356000000</td>\n",
       "      <td>181.0</td>\n",
       "      <td>1</td>\n",
       "      <td>1</td>\n",
       "      <td>0</td>\n",
       "      <td>0</td>\n",
       "      <td>0</td>\n",
       "      <td>0</td>\n",
       "      <td>...</td>\n",
       "      <td>0</td>\n",
       "      <td>0</td>\n",
       "      <td>0</td>\n",
       "      <td>0</td>\n",
       "      <td>0</td>\n",
       "      <td>0</td>\n",
       "      <td>0</td>\n",
       "      <td>0</td>\n",
       "      <td>1</td>\n",
       "      <td>0</td>\n",
       "    </tr>\n",
       "    <tr>\n",
       "      <th>1</th>\n",
       "      <td>257698183</td>\n",
       "      <td>4474</td>\n",
       "      <td>300000000</td>\n",
       "      <td>149.0</td>\n",
       "      <td>1</td>\n",
       "      <td>1</td>\n",
       "      <td>0</td>\n",
       "      <td>0</td>\n",
       "      <td>0</td>\n",
       "      <td>0</td>\n",
       "      <td>...</td>\n",
       "      <td>0</td>\n",
       "      <td>0</td>\n",
       "      <td>0</td>\n",
       "      <td>0</td>\n",
       "      <td>0</td>\n",
       "      <td>0</td>\n",
       "      <td>0</td>\n",
       "      <td>0</td>\n",
       "      <td>1</td>\n",
       "      <td>0</td>\n",
       "    </tr>\n",
       "    <tr>\n",
       "      <th>2</th>\n",
       "      <td>247966675</td>\n",
       "      <td>4134</td>\n",
       "      <td>245000000</td>\n",
       "      <td>136.0</td>\n",
       "      <td>1</td>\n",
       "      <td>1</td>\n",
       "      <td>0</td>\n",
       "      <td>0</td>\n",
       "      <td>0</td>\n",
       "      <td>0</td>\n",
       "      <td>...</td>\n",
       "      <td>0</td>\n",
       "      <td>0</td>\n",
       "      <td>0</td>\n",
       "      <td>0</td>\n",
       "      <td>0</td>\n",
       "      <td>0</td>\n",
       "      <td>0</td>\n",
       "      <td>0</td>\n",
       "      <td>1</td>\n",
       "      <td>0</td>\n",
       "    </tr>\n",
       "    <tr>\n",
       "      <th>3</th>\n",
       "      <td>220009584</td>\n",
       "      <td>4232</td>\n",
       "      <td>200000000</td>\n",
       "      <td>152.0</td>\n",
       "      <td>1</td>\n",
       "      <td>1</td>\n",
       "      <td>0</td>\n",
       "      <td>0</td>\n",
       "      <td>0</td>\n",
       "      <td>0</td>\n",
       "      <td>...</td>\n",
       "      <td>0</td>\n",
       "      <td>0</td>\n",
       "      <td>0</td>\n",
       "      <td>0</td>\n",
       "      <td>0</td>\n",
       "      <td>0</td>\n",
       "      <td>0</td>\n",
       "      <td>0</td>\n",
       "      <td>1</td>\n",
       "      <td>0</td>\n",
       "    </tr>\n",
       "    <tr>\n",
       "      <th>4</th>\n",
       "      <td>208806270</td>\n",
       "      <td>4274</td>\n",
       "      <td>150000000</td>\n",
       "      <td>124.0</td>\n",
       "      <td>1</td>\n",
       "      <td>1</td>\n",
       "      <td>0</td>\n",
       "      <td>0</td>\n",
       "      <td>0</td>\n",
       "      <td>0</td>\n",
       "      <td>...</td>\n",
       "      <td>1</td>\n",
       "      <td>0</td>\n",
       "      <td>0</td>\n",
       "      <td>0</td>\n",
       "      <td>0</td>\n",
       "      <td>0</td>\n",
       "      <td>0</td>\n",
       "      <td>0</td>\n",
       "      <td>1</td>\n",
       "      <td>0</td>\n",
       "    </tr>\n",
       "  </tbody>\n",
       "</table>\n",
       "<p>5 rows × 16270 columns</p>\n",
       "</div>"
      ],
      "text/plain": [
       "     Opening  Theaters     Budget  Runtime  Genre_Action  Genre_Adventure  \\\n",
       "0  357115007      4662  356000000    181.0             1                1   \n",
       "1  257698183      4474  300000000    149.0             1                1   \n",
       "2  247966675      4134  245000000    136.0             1                1   \n",
       "3  220009584      4232  200000000    152.0             1                1   \n",
       "4  208806270      4274  150000000    124.0             1                1   \n",
       "\n",
       "   Genre_Animation  Genre_Comedy  Genre_Crime  Genre_Documentary  ...  \\\n",
       "0                0             0            0                  0  ...   \n",
       "1                0             0            0                  0  ...   \n",
       "2                0             0            0                  0  ...   \n",
       "3                0             0            0                  0  ...   \n",
       "4                0             0            0                  0  ...   \n",
       "\n",
       "   Studio_Uni.  Studio_W/Dim.  Studio_WB  Studio_WB (NL)  Studio_Wein.  \\\n",
       "0            0              0          0               0             0   \n",
       "1            0              0          0               0             0   \n",
       "2            0              0          0               0             0   \n",
       "3            0              0          0               0             0   \n",
       "4            1              0          0               0             0   \n",
       "\n",
       "   Rating_G  Rating_NR  Rating_PG  Rating_PG-13  Rating_R  \n",
       "0         0          0          0             1         0  \n",
       "1         0          0          0             1         0  \n",
       "2         0          0          0             1         0  \n",
       "3         0          0          0             1         0  \n",
       "4         0          0          0             1         0  \n",
       "\n",
       "[5 rows x 16270 columns]"
      ]
     },
     "execution_count": 21,
     "metadata": {},
     "output_type": "execute_result"
    }
   ],
   "source": [
    "df = df.drop(columns=[\"Date\"])\n",
    "df = pd.get_dummies(df)\n",
    "df.head()"
   ]
  },
  {
   "cell_type": "code",
   "execution_count": 22,
   "metadata": {
    "scrolled": true
   },
   "outputs": [
    {
     "data": {
      "text/html": [
       "<div>\n",
       "<style scoped>\n",
       "    .dataframe tbody tr th:only-of-type {\n",
       "        vertical-align: middle;\n",
       "    }\n",
       "\n",
       "    .dataframe tbody tr th {\n",
       "        vertical-align: top;\n",
       "    }\n",
       "\n",
       "    .dataframe thead th {\n",
       "        text-align: right;\n",
       "    }\n",
       "</style>\n",
       "<table border=\"1\" class=\"dataframe\">\n",
       "  <thead>\n",
       "    <tr style=\"text-align: right;\">\n",
       "      <th></th>\n",
       "      <th>Opening</th>\n",
       "      <th>Theaters</th>\n",
       "      <th>Budget</th>\n",
       "      <th>Runtime</th>\n",
       "      <th>Genre_Action</th>\n",
       "      <th>Genre_Adventure</th>\n",
       "      <th>Genre_Animation</th>\n",
       "      <th>Genre_Comedy</th>\n",
       "      <th>Genre_Crime</th>\n",
       "      <th>Genre_Documentary</th>\n",
       "      <th>...</th>\n",
       "      <th>Day_22</th>\n",
       "      <th>Day_23</th>\n",
       "      <th>Day_24</th>\n",
       "      <th>Day_25</th>\n",
       "      <th>Day_26</th>\n",
       "      <th>Day_27</th>\n",
       "      <th>Day_28</th>\n",
       "      <th>Day_29</th>\n",
       "      <th>Day_30</th>\n",
       "      <th>Day_31</th>\n",
       "    </tr>\n",
       "  </thead>\n",
       "  <tbody>\n",
       "    <tr>\n",
       "      <th>0</th>\n",
       "      <td>357115007</td>\n",
       "      <td>4662</td>\n",
       "      <td>356000000</td>\n",
       "      <td>181.0</td>\n",
       "      <td>1</td>\n",
       "      <td>1</td>\n",
       "      <td>0</td>\n",
       "      <td>0</td>\n",
       "      <td>0</td>\n",
       "      <td>0</td>\n",
       "      <td>...</td>\n",
       "      <td>0.0</td>\n",
       "      <td>0.0</td>\n",
       "      <td>0.0</td>\n",
       "      <td>0.0</td>\n",
       "      <td>1.0</td>\n",
       "      <td>0.0</td>\n",
       "      <td>0.0</td>\n",
       "      <td>0.0</td>\n",
       "      <td>0.0</td>\n",
       "      <td>0.0</td>\n",
       "    </tr>\n",
       "    <tr>\n",
       "      <th>1</th>\n",
       "      <td>257698183</td>\n",
       "      <td>4474</td>\n",
       "      <td>300000000</td>\n",
       "      <td>149.0</td>\n",
       "      <td>1</td>\n",
       "      <td>1</td>\n",
       "      <td>0</td>\n",
       "      <td>0</td>\n",
       "      <td>0</td>\n",
       "      <td>0</td>\n",
       "      <td>...</td>\n",
       "      <td>0.0</td>\n",
       "      <td>0.0</td>\n",
       "      <td>0.0</td>\n",
       "      <td>0.0</td>\n",
       "      <td>0.0</td>\n",
       "      <td>1.0</td>\n",
       "      <td>0.0</td>\n",
       "      <td>0.0</td>\n",
       "      <td>0.0</td>\n",
       "      <td>0.0</td>\n",
       "    </tr>\n",
       "    <tr>\n",
       "      <th>2</th>\n",
       "      <td>247966675</td>\n",
       "      <td>4134</td>\n",
       "      <td>245000000</td>\n",
       "      <td>136.0</td>\n",
       "      <td>1</td>\n",
       "      <td>1</td>\n",
       "      <td>0</td>\n",
       "      <td>0</td>\n",
       "      <td>0</td>\n",
       "      <td>0</td>\n",
       "      <td>...</td>\n",
       "      <td>0.0</td>\n",
       "      <td>0.0</td>\n",
       "      <td>0.0</td>\n",
       "      <td>0.0</td>\n",
       "      <td>0.0</td>\n",
       "      <td>0.0</td>\n",
       "      <td>0.0</td>\n",
       "      <td>0.0</td>\n",
       "      <td>0.0</td>\n",
       "      <td>0.0</td>\n",
       "    </tr>\n",
       "    <tr>\n",
       "      <th>3</th>\n",
       "      <td>220009584</td>\n",
       "      <td>4232</td>\n",
       "      <td>200000000</td>\n",
       "      <td>152.0</td>\n",
       "      <td>1</td>\n",
       "      <td>1</td>\n",
       "      <td>0</td>\n",
       "      <td>0</td>\n",
       "      <td>0</td>\n",
       "      <td>0</td>\n",
       "      <td>...</td>\n",
       "      <td>0.0</td>\n",
       "      <td>0.0</td>\n",
       "      <td>0.0</td>\n",
       "      <td>0.0</td>\n",
       "      <td>0.0</td>\n",
       "      <td>0.0</td>\n",
       "      <td>0.0</td>\n",
       "      <td>0.0</td>\n",
       "      <td>0.0</td>\n",
       "      <td>0.0</td>\n",
       "    </tr>\n",
       "    <tr>\n",
       "      <th>4</th>\n",
       "      <td>208806270</td>\n",
       "      <td>4274</td>\n",
       "      <td>150000000</td>\n",
       "      <td>124.0</td>\n",
       "      <td>1</td>\n",
       "      <td>1</td>\n",
       "      <td>0</td>\n",
       "      <td>0</td>\n",
       "      <td>0</td>\n",
       "      <td>0</td>\n",
       "      <td>...</td>\n",
       "      <td>0.0</td>\n",
       "      <td>0.0</td>\n",
       "      <td>0.0</td>\n",
       "      <td>0.0</td>\n",
       "      <td>0.0</td>\n",
       "      <td>0.0</td>\n",
       "      <td>0.0</td>\n",
       "      <td>0.0</td>\n",
       "      <td>0.0</td>\n",
       "      <td>0.0</td>\n",
       "    </tr>\n",
       "  </tbody>\n",
       "</table>\n",
       "<p>5 rows × 16315 columns</p>\n",
       "</div>"
      ],
      "text/plain": [
       "     Opening  Theaters     Budget  Runtime  Genre_Action  Genre_Adventure  \\\n",
       "0  357115007      4662  356000000    181.0             1                1   \n",
       "1  257698183      4474  300000000    149.0             1                1   \n",
       "2  247966675      4134  245000000    136.0             1                1   \n",
       "3  220009584      4232  200000000    152.0             1                1   \n",
       "4  208806270      4274  150000000    124.0             1                1   \n",
       "\n",
       "   Genre_Animation  Genre_Comedy  Genre_Crime  Genre_Documentary  ...  Day_22  \\\n",
       "0                0             0            0                  0  ...     0.0   \n",
       "1                0             0            0                  0  ...     0.0   \n",
       "2                0             0            0                  0  ...     0.0   \n",
       "3                0             0            0                  0  ...     0.0   \n",
       "4                0             0            0                  0  ...     0.0   \n",
       "\n",
       "   Day_23  Day_24  Day_25  Day_26  Day_27  Day_28  Day_29  Day_30  Day_31  \n",
       "0     0.0     0.0     0.0     1.0     0.0     0.0     0.0     0.0     0.0  \n",
       "1     0.0     0.0     0.0     0.0     1.0     0.0     0.0     0.0     0.0  \n",
       "2     0.0     0.0     0.0     0.0     0.0     0.0     0.0     0.0     0.0  \n",
       "3     0.0     0.0     0.0     0.0     0.0     0.0     0.0     0.0     0.0  \n",
       "4     0.0     0.0     0.0     0.0     0.0     0.0     0.0     0.0     0.0  \n",
       "\n",
       "[5 rows x 16315 columns]"
      ]
     },
     "execution_count": 22,
     "metadata": {},
     "output_type": "execute_result"
    }
   ],
   "source": [
    "df = pd.concat([df, date_df], axis=1)\n",
    "df.head()"
   ]
  },
  {
   "cell_type": "markdown",
   "metadata": {},
   "source": [
    "# Create a Train Test Split\n",
    "Use `Opening` for the y values"
   ]
  },
  {
   "cell_type": "code",
   "execution_count": 23,
   "metadata": {
    "scrolled": true
   },
   "outputs": [
    {
     "data": {
      "text/html": [
       "<div>\n",
       "<style scoped>\n",
       "    .dataframe tbody tr th:only-of-type {\n",
       "        vertical-align: middle;\n",
       "    }\n",
       "\n",
       "    .dataframe tbody tr th {\n",
       "        vertical-align: top;\n",
       "    }\n",
       "\n",
       "    .dataframe thead th {\n",
       "        text-align: right;\n",
       "    }\n",
       "</style>\n",
       "<table border=\"1\" class=\"dataframe\">\n",
       "  <thead>\n",
       "    <tr style=\"text-align: right;\">\n",
       "      <th></th>\n",
       "      <th>Theaters</th>\n",
       "      <th>Budget</th>\n",
       "      <th>Runtime</th>\n",
       "      <th>Genre_Action</th>\n",
       "      <th>Genre_Adventure</th>\n",
       "      <th>Genre_Animation</th>\n",
       "      <th>Genre_Comedy</th>\n",
       "      <th>Genre_Crime</th>\n",
       "      <th>Genre_Documentary</th>\n",
       "      <th>Genre_Drama</th>\n",
       "      <th>...</th>\n",
       "      <th>Day_22</th>\n",
       "      <th>Day_23</th>\n",
       "      <th>Day_24</th>\n",
       "      <th>Day_25</th>\n",
       "      <th>Day_26</th>\n",
       "      <th>Day_27</th>\n",
       "      <th>Day_28</th>\n",
       "      <th>Day_29</th>\n",
       "      <th>Day_30</th>\n",
       "      <th>Day_31</th>\n",
       "    </tr>\n",
       "  </thead>\n",
       "  <tbody>\n",
       "    <tr>\n",
       "      <th>0</th>\n",
       "      <td>4662</td>\n",
       "      <td>356000000</td>\n",
       "      <td>181.0</td>\n",
       "      <td>1</td>\n",
       "      <td>1</td>\n",
       "      <td>0</td>\n",
       "      <td>0</td>\n",
       "      <td>0</td>\n",
       "      <td>0</td>\n",
       "      <td>0</td>\n",
       "      <td>...</td>\n",
       "      <td>0.0</td>\n",
       "      <td>0.0</td>\n",
       "      <td>0.0</td>\n",
       "      <td>0.0</td>\n",
       "      <td>1.0</td>\n",
       "      <td>0.0</td>\n",
       "      <td>0.0</td>\n",
       "      <td>0.0</td>\n",
       "      <td>0.0</td>\n",
       "      <td>0.0</td>\n",
       "    </tr>\n",
       "    <tr>\n",
       "      <th>1</th>\n",
       "      <td>4474</td>\n",
       "      <td>300000000</td>\n",
       "      <td>149.0</td>\n",
       "      <td>1</td>\n",
       "      <td>1</td>\n",
       "      <td>0</td>\n",
       "      <td>0</td>\n",
       "      <td>0</td>\n",
       "      <td>0</td>\n",
       "      <td>0</td>\n",
       "      <td>...</td>\n",
       "      <td>0.0</td>\n",
       "      <td>0.0</td>\n",
       "      <td>0.0</td>\n",
       "      <td>0.0</td>\n",
       "      <td>0.0</td>\n",
       "      <td>1.0</td>\n",
       "      <td>0.0</td>\n",
       "      <td>0.0</td>\n",
       "      <td>0.0</td>\n",
       "      <td>0.0</td>\n",
       "    </tr>\n",
       "    <tr>\n",
       "      <th>2</th>\n",
       "      <td>4134</td>\n",
       "      <td>245000000</td>\n",
       "      <td>136.0</td>\n",
       "      <td>1</td>\n",
       "      <td>1</td>\n",
       "      <td>0</td>\n",
       "      <td>0</td>\n",
       "      <td>0</td>\n",
       "      <td>0</td>\n",
       "      <td>0</td>\n",
       "      <td>...</td>\n",
       "      <td>0.0</td>\n",
       "      <td>0.0</td>\n",
       "      <td>0.0</td>\n",
       "      <td>0.0</td>\n",
       "      <td>0.0</td>\n",
       "      <td>0.0</td>\n",
       "      <td>0.0</td>\n",
       "      <td>0.0</td>\n",
       "      <td>0.0</td>\n",
       "      <td>0.0</td>\n",
       "    </tr>\n",
       "    <tr>\n",
       "      <th>3</th>\n",
       "      <td>4232</td>\n",
       "      <td>200000000</td>\n",
       "      <td>152.0</td>\n",
       "      <td>1</td>\n",
       "      <td>1</td>\n",
       "      <td>0</td>\n",
       "      <td>0</td>\n",
       "      <td>0</td>\n",
       "      <td>0</td>\n",
       "      <td>0</td>\n",
       "      <td>...</td>\n",
       "      <td>0.0</td>\n",
       "      <td>0.0</td>\n",
       "      <td>0.0</td>\n",
       "      <td>0.0</td>\n",
       "      <td>0.0</td>\n",
       "      <td>0.0</td>\n",
       "      <td>0.0</td>\n",
       "      <td>0.0</td>\n",
       "      <td>0.0</td>\n",
       "      <td>0.0</td>\n",
       "    </tr>\n",
       "    <tr>\n",
       "      <th>4</th>\n",
       "      <td>4274</td>\n",
       "      <td>150000000</td>\n",
       "      <td>124.0</td>\n",
       "      <td>1</td>\n",
       "      <td>1</td>\n",
       "      <td>0</td>\n",
       "      <td>0</td>\n",
       "      <td>0</td>\n",
       "      <td>0</td>\n",
       "      <td>0</td>\n",
       "      <td>...</td>\n",
       "      <td>0.0</td>\n",
       "      <td>0.0</td>\n",
       "      <td>0.0</td>\n",
       "      <td>0.0</td>\n",
       "      <td>0.0</td>\n",
       "      <td>0.0</td>\n",
       "      <td>0.0</td>\n",
       "      <td>0.0</td>\n",
       "      <td>0.0</td>\n",
       "      <td>0.0</td>\n",
       "    </tr>\n",
       "  </tbody>\n",
       "</table>\n",
       "<p>5 rows × 16314 columns</p>\n",
       "</div>"
      ],
      "text/plain": [
       "   Theaters     Budget  Runtime  Genre_Action  Genre_Adventure  \\\n",
       "0      4662  356000000    181.0             1                1   \n",
       "1      4474  300000000    149.0             1                1   \n",
       "2      4134  245000000    136.0             1                1   \n",
       "3      4232  200000000    152.0             1                1   \n",
       "4      4274  150000000    124.0             1                1   \n",
       "\n",
       "   Genre_Animation  Genre_Comedy  Genre_Crime  Genre_Documentary  Genre_Drama  \\\n",
       "0                0             0            0                  0            0   \n",
       "1                0             0            0                  0            0   \n",
       "2                0             0            0                  0            0   \n",
       "3                0             0            0                  0            0   \n",
       "4                0             0            0                  0            0   \n",
       "\n",
       "   ...  Day_22  Day_23  Day_24  Day_25  Day_26  Day_27  Day_28  Day_29  \\\n",
       "0  ...     0.0     0.0     0.0     0.0     1.0     0.0     0.0     0.0   \n",
       "1  ...     0.0     0.0     0.0     0.0     0.0     1.0     0.0     0.0   \n",
       "2  ...     0.0     0.0     0.0     0.0     0.0     0.0     0.0     0.0   \n",
       "3  ...     0.0     0.0     0.0     0.0     0.0     0.0     0.0     0.0   \n",
       "4  ...     0.0     0.0     0.0     0.0     0.0     0.0     0.0     0.0   \n",
       "\n",
       "   Day_30  Day_31  \n",
       "0     0.0     0.0  \n",
       "1     0.0     0.0  \n",
       "2     0.0     0.0  \n",
       "3     0.0     0.0  \n",
       "4     0.0     0.0  \n",
       "\n",
       "[5 rows x 16314 columns]"
      ]
     },
     "execution_count": 23,
     "metadata": {},
     "output_type": "execute_result"
    }
   ],
   "source": [
    "target = df[\"Opening\"]\n",
    "data = df.drop(\"Opening\", axis=1)\n",
    "feature_names = data.columns\n",
    "data.head()"
   ]
  },
  {
   "cell_type": "code",
   "execution_count": 24,
   "metadata": {},
   "outputs": [],
   "source": [
    "X_train, X_test, y_train, y_test = train_test_split(data, target, random_state=42)"
   ]
  },
  {
   "cell_type": "code",
   "execution_count": 25,
   "metadata": {
    "scrolled": true
   },
   "outputs": [
    {
     "data": {
      "text/plain": [
       "(1430, 16314)"
      ]
     },
     "execution_count": 25,
     "metadata": {},
     "output_type": "execute_result"
    }
   ],
   "source": [
    "X_train.shape"
   ]
  },
  {
   "cell_type": "code",
   "execution_count": 26,
   "metadata": {},
   "outputs": [
    {
     "data": {
      "text/plain": [
       "(1430,)"
      ]
     },
     "execution_count": 26,
     "metadata": {},
     "output_type": "execute_result"
    }
   ],
   "source": [
    "y_train.shape"
   ]
  },
  {
   "cell_type": "markdown",
   "metadata": {},
   "source": [
    "# Pre-processing\n",
    "\n",
    "Scale the data using the MinMaxScaler"
   ]
  },
  {
   "cell_type": "code",
   "execution_count": 27,
   "metadata": {},
   "outputs": [],
   "source": [
    "X_minmax = MinMaxScaler().fit(X_train)\n",
    "# y_train.values.reshape(-1, 1)\n",
    "y_minmax = MinMaxScaler().fit(y_train.values.reshape(-1, 1))"
   ]
  },
  {
   "cell_type": "code",
   "execution_count": 28,
   "metadata": {},
   "outputs": [],
   "source": [
    "X_train_scaled = X_minmax.transform(X_train)\n",
    "X_test_scaled = X_minmax.transform(X_test)\n",
    "y_train_scaled = y_minmax.transform(y_train.values.reshape(-1, 1))\n",
    "y_test_scaled = y_minmax.transform(y_test.values.reshape(-1, 1))"
   ]
  },
  {
   "cell_type": "code",
   "execution_count": 29,
   "metadata": {},
   "outputs": [],
   "source": [
    "# X_mapper = DataFrameMapper([(['Theaters', 'Budget', 'Runtime'], MinMaxScaler())], \n",
    "#                           default=None).fit(X_train)"
   ]
  },
  {
   "cell_type": "code",
   "execution_count": 30,
   "metadata": {},
   "outputs": [],
   "source": [
    "# X_train_scaled = X_mapper.transform(X_train)\n",
    "# X_test_scaled = X_mapper.transform(X_test)"
   ]
  },
  {
   "cell_type": "code",
   "execution_count": 31,
   "metadata": {
    "scrolled": true
   },
   "outputs": [
    {
     "data": {
      "text/plain": [
       "(1430, 16314)"
      ]
     },
     "execution_count": 31,
     "metadata": {},
     "output_type": "execute_result"
    }
   ],
   "source": [
    "X_train_scaled.shape"
   ]
  },
  {
   "cell_type": "code",
   "execution_count": 32,
   "metadata": {
    "scrolled": true
   },
   "outputs": [
    {
     "data": {
      "text/plain": [
       "array([[0.56586366, 0.06      , 0.45142857, ..., 0.        , 0.        ,\n",
       "        0.        ],\n",
       "       [0.67657611, 0.32      , 0.55428571, ..., 0.        , 0.        ,\n",
       "        0.        ],\n",
       "       [0.61455664, 0.08      , 0.51428571, ..., 0.        , 1.        ,\n",
       "        0.        ],\n",
       "       ...,\n",
       "       [0.21655561, 0.05      , 0.56571429, ..., 0.        , 0.        ,\n",
       "        0.        ],\n",
       "       [0.63172732, 0.034     , 0.34857143, ..., 0.        , 0.        ,\n",
       "        0.        ],\n",
       "       [0.65171707, 0.064     , 0.34857143, ..., 0.        , 0.        ,\n",
       "        0.        ]])"
      ]
     },
     "execution_count": 32,
     "metadata": {},
     "output_type": "execute_result"
    }
   ],
   "source": [
    "X_train_scaled"
   ]
  },
  {
   "cell_type": "code",
   "execution_count": 33,
   "metadata": {},
   "outputs": [
    {
     "data": {
      "text/plain": [
       "(1430,)"
      ]
     },
     "execution_count": 33,
     "metadata": {},
     "output_type": "execute_result"
    }
   ],
   "source": [
    "y_train.shape"
   ]
  },
  {
   "cell_type": "markdown",
   "metadata": {},
   "source": [
    "# Try simple linear regression"
   ]
  },
  {
   "cell_type": "code",
   "execution_count": 34,
   "metadata": {},
   "outputs": [],
   "source": [
    "# # Import dependencies\n",
    "# from sklearn.linear_model import LinearRegression\n",
    "\n",
    "# # Create a linear model\n",
    "# model = LinearRegression()\n",
    "\n",
    "# # Fit (Train) our model to the data\n",
    "# model.fit(X_train_scaled, y_train_scaled)"
   ]
  },
  {
   "cell_type": "code",
   "execution_count": 35,
   "metadata": {},
   "outputs": [],
   "source": [
    "# predictions = model.predict(X_test_scaled)"
   ]
  },
  {
   "cell_type": "code",
   "execution_count": 36,
   "metadata": {},
   "outputs": [],
   "source": [
    "# # Overall Score for the model\n",
    "# model.score(X_train_scaled, y_train_scaled)"
   ]
  },
  {
   "cell_type": "code",
   "execution_count": 37,
   "metadata": {
    "scrolled": true
   },
   "outputs": [],
   "source": [
    "# model.score(X_test_scaled, y_test_scaled)"
   ]
  },
  {
   "cell_type": "code",
   "execution_count": 38,
   "metadata": {},
   "outputs": [],
   "source": [
    "# MSE = mean_squared_error(y_test_scaled, predictions)\n",
    "# r2 = model.score(X_test_scaled, y_test_scaled)\n",
    "\n",
    "# print(f\"MSE: {MSE}, R2: {r2}\")"
   ]
  },
  {
   "cell_type": "markdown",
   "metadata": {},
   "source": [
    "# LASSO model"
   ]
  },
  {
   "cell_type": "code",
   "execution_count": 39,
   "metadata": {},
   "outputs": [],
   "source": [
    "# # LASSO model\n",
    "# # Note: Use an alpha of .01 when creating the model for this activity\n",
    "# from sklearn.linear_model import Lasso\n",
    "\n",
    "# lasso = Lasso(alpha=.01).fit(X_train_scaled, y_train_scaled)\n",
    "\n",
    "# predictions = lasso.predict(X_test_scaled)\n",
    "\n",
    "# MSE = mean_squared_error(y_test_scaled, predictions)\n",
    "# r2 = lasso.score(X_test_scaled, y_test_scaled)\n",
    "# ### END SOLUTION\n",
    "\n",
    "# print(f\"MSE: {MSE}, R2: {r2}\")"
   ]
  },
  {
   "cell_type": "code",
   "execution_count": 40,
   "metadata": {},
   "outputs": [],
   "source": [
    "# lasso.score(X_train_scaled, y_train_scaled)"
   ]
  },
  {
   "cell_type": "code",
   "execution_count": 41,
   "metadata": {},
   "outputs": [],
   "source": [
    "# lasso.score(X_test_scaled, y_test_scaled)"
   ]
  },
  {
   "cell_type": "markdown",
   "metadata": {},
   "source": [
    "# Ridge model"
   ]
  },
  {
   "cell_type": "code",
   "execution_count": 42,
   "metadata": {
    "scrolled": true
   },
   "outputs": [],
   "source": [
    "# # Ridge model\n",
    "# # Note: Use an alpha of .01 when creating the model for this activity\n",
    "# from sklearn.linear_model import Ridge\n",
    "\n",
    "# ridge = Ridge(alpha=.01).fit(X_train_scaled, y_train_scaled)\n",
    "\n",
    "# predictions = ridge.predict(X_test_scaled)\n",
    "\n",
    "# MSE = mean_squared_error(y_test_scaled, predictions)\n",
    "# r2 = ridge.score(X_test_scaled, y_test_scaled)\n",
    "\n",
    "# print(f\"MSE: {MSE}, R2: {r2}\")"
   ]
  },
  {
   "cell_type": "code",
   "execution_count": 43,
   "metadata": {},
   "outputs": [],
   "source": [
    "# ridge.score(X_train_scaled, y_train_scaled)"
   ]
  },
  {
   "cell_type": "code",
   "execution_count": 44,
   "metadata": {},
   "outputs": [],
   "source": [
    "# ridge.score(X_test_scaled, y_test_scaled)"
   ]
  },
  {
   "cell_type": "code",
   "execution_count": null,
   "metadata": {},
   "outputs": [],
   "source": []
  },
  {
   "cell_type": "markdown",
   "metadata": {},
   "source": [
    "# ElasticNet model"
   ]
  },
  {
   "cell_type": "code",
   "execution_count": 45,
   "metadata": {},
   "outputs": [],
   "source": [
    "# # ElasticNet model\n",
    "# # Note: Use an alpha of .01 when creating the model for this activity\n",
    "# from sklearn.linear_model import ElasticNet\n",
    "\n",
    "# ### BEGIN SOLUTION\n",
    "# elasticnet = ElasticNet(alpha=.01).fit(X_train_scaled, y_train_scaled)\n",
    "# model.score(X_train_scaled, y_train_scaled)\n",
    "\n",
    "# model.score(X_test_scaled, y_test_scaled)\n",
    "# predictions = elasticnet.predict(X_test_scaled)\n",
    "\n",
    "# MSE = mean_squared_error(y_test_scaled, predictions)\n",
    "# r2 = elasticnet.score(X_test_scaled, y_test_scaled)\n",
    "# ### END SOLUTION\n",
    "\n",
    "# print(f\"MSE: {MSE}, R2: {r2}\")"
   ]
  },
  {
   "cell_type": "code",
   "execution_count": 46,
   "metadata": {},
   "outputs": [],
   "source": [
    "# elasticnet.score(X_train_scaled, y_train_scaled)"
   ]
  },
  {
   "cell_type": "code",
   "execution_count": 47,
   "metadata": {},
   "outputs": [],
   "source": [
    "# elasticnet.score(X_test_scaled, y_test_scaled)"
   ]
  },
  {
   "cell_type": "markdown",
   "metadata": {},
   "source": [
    "# Try Neural Net: Define the architecture"
   ]
  },
  {
   "cell_type": "code",
   "execution_count": 48,
   "metadata": {},
   "outputs": [],
   "source": [
    "nn_model = Sequential()"
   ]
  },
  {
   "cell_type": "code",
   "execution_count": 49,
   "metadata": {},
   "outputs": [
    {
     "name": "stdout",
     "output_type": "stream",
     "text": [
      "Model: \"sequential\"\n",
      "_________________________________________________________________\n",
      "Layer (type)                 Output Shape              Param #   \n",
      "=================================================================\n",
      "dense (Dense)                (None, 1500)              24472500  \n",
      "_________________________________________________________________\n",
      "dense_1 (Dense)              (None, 800)               1200800   \n",
      "_________________________________________________________________\n",
      "dense_2 (Dense)              (None, 300)               240300    \n",
      "_________________________________________________________________\n",
      "dense_3 (Dense)              (None, 1)                 301       \n",
      "=================================================================\n",
      "Total params: 25,913,901\n",
      "Trainable params: 25,913,901\n",
      "Non-trainable params: 0\n",
      "_________________________________________________________________\n"
     ]
    }
   ],
   "source": [
    "nn_model.add(Dense(units=1500, input_dim=16314, activation='relu'))\n",
    "nn_model.add(Dense(units=800, activation='relu'))\n",
    "nn_model.add(Dense(units=300, activation='relu'))\n",
    "nn_model.add(Dense(units=1, activation='linear'))\n",
    "nn_model.summary()"
   ]
  },
  {
   "cell_type": "code",
   "execution_count": 50,
   "metadata": {},
   "outputs": [],
   "source": [
    "nn_model.compile(loss='mse', optimizer='adam', metrics=['mse','mae'])"
   ]
  },
  {
   "cell_type": "code",
   "execution_count": 51,
   "metadata": {
    "scrolled": true
   },
   "outputs": [
    {
     "name": "stdout",
     "output_type": "stream",
     "text": [
      "Train on 1430 samples\n",
      "Epoch 1/100\n",
      "1430/1430 - 6s - loss: 0.0069 - mse: 0.0069 - mae: 0.0520\n",
      "Epoch 2/100\n",
      "1430/1430 - 6s - loss: 0.0052 - mse: 0.0052 - mae: 0.0382\n",
      "Epoch 3/100\n",
      "1430/1430 - 7s - loss: 0.0031 - mse: 0.0031 - mae: 0.0314\n",
      "Epoch 4/100\n",
      "1430/1430 - 6s - loss: 0.0041 - mse: 0.0041 - mae: 0.0320\n",
      "Epoch 5/100\n",
      "1430/1430 - 6s - loss: 0.0067 - mse: 0.0067 - mae: 0.0351\n",
      "Epoch 6/100\n",
      "1430/1430 - 6s - loss: 0.0082 - mse: 0.0082 - mae: 0.0291\n",
      "Epoch 7/100\n",
      "1430/1430 - 5s - loss: 0.0041 - mse: 0.0041 - mae: 0.0272\n",
      "Epoch 8/100\n",
      "1430/1430 - 5s - loss: 0.0069 - mse: 0.0069 - mae: 0.0264\n",
      "Epoch 9/100\n",
      "1430/1430 - 5s - loss: 0.0016 - mse: 0.0016 - mae: 0.0190\n",
      "Epoch 10/100\n",
      "1430/1430 - 5s - loss: 6.4843e-04 - mse: 6.4843e-04 - mae: 0.0142\n",
      "Epoch 11/100\n",
      "1430/1430 - 5s - loss: 7.5800e-04 - mse: 7.5800e-04 - mae: 0.0144\n",
      "Epoch 12/100\n",
      "1430/1430 - 5s - loss: 0.0010 - mse: 0.0010 - mae: 0.0163\n",
      "Epoch 13/100\n",
      "1430/1430 - 5s - loss: 0.0015 - mse: 0.0015 - mae: 0.0181\n",
      "Epoch 14/100\n",
      "1430/1430 - 5s - loss: 0.0014 - mse: 0.0014 - mae: 0.0192\n",
      "Epoch 15/100\n",
      "1430/1430 - 5s - loss: 9.8909e-04 - mse: 9.8909e-04 - mae: 0.0187\n",
      "Epoch 16/100\n",
      "1430/1430 - 5s - loss: 8.7680e-04 - mse: 8.7680e-04 - mae: 0.0182\n",
      "Epoch 17/100\n",
      "1430/1430 - 5s - loss: 5.9704e-04 - mse: 5.9704e-04 - mae: 0.0149\n",
      "Epoch 18/100\n",
      "1430/1430 - 5s - loss: 4.4702e-04 - mse: 4.4702e-04 - mae: 0.0121\n",
      "Epoch 19/100\n",
      "1430/1430 - 5s - loss: 7.1990e-04 - mse: 7.1990e-04 - mae: 0.0143\n",
      "Epoch 20/100\n",
      "1430/1430 - 5s - loss: 9.9618e-04 - mse: 9.9618e-04 - mae: 0.0141\n",
      "Epoch 21/100\n",
      "1430/1430 - 5s - loss: 6.5675e-04 - mse: 6.5675e-04 - mae: 0.0130\n",
      "Epoch 22/100\n",
      "1430/1430 - 5s - loss: 4.5100e-04 - mse: 4.5100e-04 - mae: 0.0114\n",
      "Epoch 23/100\n",
      "1430/1430 - 5s - loss: 3.3601e-04 - mse: 3.3601e-04 - mae: 0.0103\n",
      "Epoch 24/100\n",
      "1430/1430 - 5s - loss: 2.2549e-04 - mse: 2.2549e-04 - mae: 0.0087\n",
      "Epoch 25/100\n",
      "1430/1430 - 5s - loss: 3.3098e-04 - mse: 3.3098e-04 - mae: 0.0103\n",
      "Epoch 26/100\n",
      "1430/1430 - 5s - loss: 4.7710e-04 - mse: 4.7710e-04 - mae: 0.0113\n",
      "Epoch 27/100\n",
      "1430/1430 - 5s - loss: 4.2626e-04 - mse: 4.2626e-04 - mae: 0.0101\n",
      "Epoch 28/100\n",
      "1430/1430 - 5s - loss: 4.5926e-04 - mse: 4.5926e-04 - mae: 0.0108\n",
      "Epoch 29/100\n",
      "1430/1430 - 5s - loss: 2.8102e-04 - mse: 2.8102e-04 - mae: 0.0097\n",
      "Epoch 30/100\n",
      "1430/1430 - 5s - loss: 4.3603e-04 - mse: 4.3603e-04 - mae: 0.0097\n",
      "Epoch 31/100\n",
      "1430/1430 - 5s - loss: 4.7571e-04 - mse: 4.7571e-04 - mae: 0.0090\n",
      "Epoch 32/100\n",
      "1430/1430 - 5s - loss: 3.1656e-04 - mse: 3.1656e-04 - mae: 0.0076\n",
      "Epoch 33/100\n",
      "1430/1430 - 5s - loss: 5.1372e-04 - mse: 5.1372e-04 - mae: 0.0112\n",
      "Epoch 34/100\n",
      "1430/1430 - 5s - loss: 8.7581e-04 - mse: 8.7581e-04 - mae: 0.0134\n",
      "Epoch 35/100\n",
      "1430/1430 - 5s - loss: 0.0017 - mse: 0.0017 - mae: 0.0151\n",
      "Epoch 36/100\n",
      "1430/1430 - 5s - loss: 0.0017 - mse: 0.0017 - mae: 0.0166\n",
      "Epoch 37/100\n",
      "1430/1430 - 5s - loss: 0.0015 - mse: 0.0015 - mae: 0.0158\n",
      "Epoch 38/100\n",
      "1430/1430 - 5s - loss: 0.0013 - mse: 0.0013 - mae: 0.0173\n",
      "Epoch 39/100\n",
      "1430/1430 - 5s - loss: 8.3025e-04 - mse: 8.3025e-04 - mae: 0.0144\n",
      "Epoch 40/100\n",
      "1430/1430 - 5s - loss: 7.3512e-04 - mse: 7.3512e-04 - mae: 0.0154\n",
      "Epoch 41/100\n",
      "1430/1430 - 5s - loss: 5.8699e-04 - mse: 5.8699e-04 - mae: 0.0150\n",
      "Epoch 42/100\n",
      "1430/1430 - 5s - loss: 7.0258e-04 - mse: 7.0258e-04 - mae: 0.0170\n",
      "Epoch 43/100\n",
      "1430/1430 - 5s - loss: 6.2669e-04 - mse: 6.2669e-04 - mae: 0.0155\n",
      "Epoch 44/100\n",
      "1430/1430 - 5s - loss: 0.0011 - mse: 0.0011 - mae: 0.0180\n",
      "Epoch 45/100\n",
      "1430/1430 - 5s - loss: 9.2302e-04 - mse: 9.2302e-04 - mae: 0.0172\n",
      "Epoch 46/100\n",
      "1430/1430 - 5s - loss: 7.6676e-04 - mse: 7.6676e-04 - mae: 0.0154\n",
      "Epoch 47/100\n",
      "1430/1430 - 5s - loss: 3.9394e-04 - mse: 3.9394e-04 - mae: 0.0111\n",
      "Epoch 48/100\n",
      "1430/1430 - 5s - loss: 3.9303e-04 - mse: 3.9303e-04 - mae: 0.0098\n",
      "Epoch 49/100\n",
      "1430/1430 - 5s - loss: 3.3931e-04 - mse: 3.3931e-04 - mae: 0.0097\n",
      "Epoch 50/100\n",
      "1430/1430 - 5s - loss: 2.1302e-04 - mse: 2.1302e-04 - mae: 0.0082\n",
      "Epoch 51/100\n",
      "1430/1430 - 5s - loss: 1.7967e-04 - mse: 1.7967e-04 - mae: 0.0075\n",
      "Epoch 52/100\n",
      "1430/1430 - 5s - loss: 1.0287e-04 - mse: 1.0287e-04 - mae: 0.0062\n",
      "Epoch 53/100\n",
      "1430/1430 - 5s - loss: 9.4123e-05 - mse: 9.4123e-05 - mae: 0.0054\n",
      "Epoch 54/100\n",
      "1430/1430 - 5s - loss: 6.1902e-05 - mse: 6.1902e-05 - mae: 0.0045\n",
      "Epoch 55/100\n",
      "1430/1430 - 5s - loss: 8.7542e-05 - mse: 8.7542e-05 - mae: 0.0054\n",
      "Epoch 56/100\n",
      "1430/1430 - 5s - loss: 8.7459e-05 - mse: 8.7459e-05 - mae: 0.0053\n",
      "Epoch 57/100\n",
      "1430/1430 - 5s - loss: 5.7504e-05 - mse: 5.7504e-05 - mae: 0.0044\n",
      "Epoch 58/100\n",
      "1430/1430 - 5s - loss: 6.2184e-05 - mse: 6.2184e-05 - mae: 0.0046\n",
      "Epoch 59/100\n",
      "1430/1430 - 5s - loss: 6.3546e-05 - mse: 6.3546e-05 - mae: 0.0048\n",
      "Epoch 60/100\n",
      "1430/1430 - 5s - loss: 5.4282e-05 - mse: 5.4282e-05 - mae: 0.0043\n",
      "Epoch 61/100\n",
      "1430/1430 - 5s - loss: 5.0655e-05 - mse: 5.0655e-05 - mae: 0.0043\n",
      "Epoch 62/100\n",
      "1430/1430 - 5s - loss: 7.3361e-05 - mse: 7.3361e-05 - mae: 0.0046\n",
      "Epoch 63/100\n",
      "1430/1430 - 5s - loss: 4.6463e-05 - mse: 4.6463e-05 - mae: 0.0044\n",
      "Epoch 64/100\n",
      "1430/1430 - 5s - loss: 4.8965e-05 - mse: 4.8965e-05 - mae: 0.0047\n",
      "Epoch 65/100\n",
      "1430/1430 - 5s - loss: 5.8743e-05 - mse: 5.8743e-05 - mae: 0.0046\n",
      "Epoch 66/100\n",
      "1430/1430 - 5s - loss: 6.4033e-05 - mse: 6.4033e-05 - mae: 0.0046\n",
      "Epoch 67/100\n",
      "1430/1430 - 5s - loss: 7.2230e-05 - mse: 7.2230e-05 - mae: 0.0051\n",
      "Epoch 68/100\n",
      "1430/1430 - 5s - loss: 8.2769e-05 - mse: 8.2769e-05 - mae: 0.0056\n",
      "Epoch 69/100\n",
      "1430/1430 - 5s - loss: 1.1338e-04 - mse: 1.1338e-04 - mae: 0.0061\n",
      "Epoch 70/100\n",
      "1430/1430 - 5s - loss: 1.2664e-04 - mse: 1.2664e-04 - mae: 0.0062\n",
      "Epoch 71/100\n",
      "1430/1430 - 5s - loss: 1.2612e-04 - mse: 1.2612e-04 - mae: 0.0072\n",
      "Epoch 72/100\n",
      "1430/1430 - 5s - loss: 1.7215e-04 - mse: 1.7215e-04 - mae: 0.0083\n",
      "Epoch 73/100\n",
      "1430/1430 - 5s - loss: 2.4996e-04 - mse: 2.4996e-04 - mae: 0.0086\n",
      "Epoch 74/100\n",
      "1430/1430 - 5s - loss: 2.1885e-04 - mse: 2.1885e-04 - mae: 0.0089\n",
      "Epoch 75/100\n",
      "1430/1430 - 5s - loss: 2.3405e-04 - mse: 2.3405e-04 - mae: 0.0100\n",
      "Epoch 76/100\n",
      "1430/1430 - 5s - loss: 9.7010e-04 - mse: 9.7010e-04 - mae: 0.0149\n",
      "Epoch 77/100\n",
      "1430/1430 - 5s - loss: 0.0010 - mse: 0.0010 - mae: 0.0153\n",
      "Epoch 78/100\n",
      "1430/1430 - 5s - loss: 0.0011 - mse: 0.0011 - mae: 0.0158\n",
      "Epoch 79/100\n",
      "1430/1430 - 5s - loss: 0.0014 - mse: 0.0014 - mae: 0.0180\n",
      "Epoch 80/100\n",
      "1430/1430 - 5s - loss: 7.0921e-04 - mse: 7.0921e-04 - mae: 0.0147\n",
      "Epoch 81/100\n",
      "1430/1430 - 5s - loss: 8.3834e-04 - mse: 8.3834e-04 - mae: 0.0143\n",
      "Epoch 82/100\n",
      "1430/1430 - 5s - loss: 0.0016 - mse: 0.0016 - mae: 0.0161\n",
      "Epoch 83/100\n",
      "1430/1430 - 5s - loss: 0.0010 - mse: 0.0010 - mae: 0.0151\n",
      "Epoch 84/100\n",
      "1430/1430 - 5s - loss: 6.1882e-04 - mse: 6.1882e-04 - mae: 0.0118\n",
      "Epoch 85/100\n",
      "1430/1430 - 5s - loss: 4.6673e-04 - mse: 4.6673e-04 - mae: 0.0120\n",
      "Epoch 86/100\n",
      "1430/1430 - 5s - loss: 0.0017 - mse: 0.0017 - mae: 0.0145\n",
      "Epoch 87/100\n",
      "1430/1430 - 5s - loss: 0.0017 - mse: 0.0017 - mae: 0.0146\n",
      "Epoch 88/100\n",
      "1430/1430 - 5s - loss: 0.0016 - mse: 0.0016 - mae: 0.0182\n",
      "Epoch 89/100\n",
      "1430/1430 - 5s - loss: 0.0013 - mse: 0.0013 - mae: 0.0187\n",
      "Epoch 90/100\n",
      "1430/1430 - 5s - loss: 8.9753e-04 - mse: 8.9753e-04 - mae: 0.0165\n",
      "Epoch 91/100\n",
      "1430/1430 - 5s - loss: 0.0012 - mse: 0.0012 - mae: 0.0178\n",
      "Epoch 92/100\n",
      "1430/1430 - 5s - loss: 0.0012 - mse: 0.0012 - mae: 0.0144\n",
      "Epoch 93/100\n",
      "1430/1430 - 5s - loss: 0.0011 - mse: 0.0011 - mae: 0.0150\n",
      "Epoch 94/100\n",
      "1430/1430 - 5s - loss: 9.0546e-04 - mse: 9.0546e-04 - mae: 0.0118\n",
      "Epoch 95/100\n",
      "1430/1430 - 5s - loss: 5.8236e-04 - mse: 5.8236e-04 - mae: 0.0115\n",
      "Epoch 96/100\n",
      "1430/1430 - 5s - loss: 0.0015 - mse: 0.0015 - mae: 0.0164\n",
      "Epoch 97/100\n",
      "1430/1430 - 5s - loss: 0.0012 - mse: 0.0012 - mae: 0.0176\n",
      "Epoch 98/100\n",
      "1430/1430 - 5s - loss: 0.0016 - mse: 0.0016 - mae: 0.0220\n",
      "Epoch 99/100\n",
      "1430/1430 - 5s - loss: 8.7991e-04 - mse: 8.7991e-04 - mae: 0.0164\n",
      "Epoch 100/100\n",
      "1430/1430 - 5s - loss: 3.2116e-04 - mse: 3.2116e-04 - mae: 0.0109\n"
     ]
    },
    {
     "data": {
      "text/plain": [
       "<tensorflow.python.keras.callbacks.History at 0x1a42424828>"
      ]
     },
     "execution_count": 51,
     "metadata": {},
     "output_type": "execute_result"
    }
   ],
   "source": [
    "nn_model.fit(\n",
    "    X_train_scaled,\n",
    "    y_train_scaled,\n",
    "    epochs=100,\n",
    "    shuffle=False,\n",
    "    verbose=2\n",
    ")"
   ]
  },
  {
   "cell_type": "code",
   "execution_count": 52,
   "metadata": {},
   "outputs": [
    {
     "name": "stdout",
     "output_type": "stream",
     "text": [
      "477/477 - 0s - loss: 0.0020 - mse: 0.0020 - mae: 0.0298\n"
     ]
    },
    {
     "data": {
      "text/plain": [
       "[0.001969248973090881, 0.0019692492, 0.029752612]"
      ]
     },
     "execution_count": 52,
     "metadata": {},
     "output_type": "execute_result"
    }
   ],
   "source": [
    "nn_model.evaluate(\n",
    "    X_test_scaled, y_test_scaled, verbose=2)"
   ]
  },
  {
   "cell_type": "code",
   "execution_count": null,
   "metadata": {},
   "outputs": [],
   "source": []
  }
 ],
 "metadata": {
  "kernel_info": {
   "name": "dev"
  },
  "kernelspec": {
   "display_name": "Python 3",
   "language": "python",
   "name": "python3"
  },
  "language_info": {
   "codemirror_mode": {
    "name": "ipython",
    "version": 3
   },
   "file_extension": ".py",
   "mimetype": "text/x-python",
   "name": "python",
   "nbconvert_exporter": "python",
   "pygments_lexer": "ipython3",
   "version": "3.7.3"
  },
  "nteract": {
   "version": "0.12.3"
  }
 },
 "nbformat": 4,
 "nbformat_minor": 2
}
