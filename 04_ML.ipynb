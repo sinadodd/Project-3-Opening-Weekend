{
 "cells": [
  {
   "cell_type": "code",
   "execution_count": 74,
   "metadata": {},
   "outputs": [],
   "source": [
    "import pandas as pd\n",
    "\n",
    "# import matplotlib.pyplot as plt\n",
    "\n",
    "import sklearn\n",
    "from sklearn.preprocessing import MultiLabelBinarizer\n",
    "from sklearn.preprocessing import LabelEncoder, OneHotEncoder\n",
    "from sklearn.model_selection import train_test_split\n",
    "from sklearn.preprocessing import MinMaxScaler\n",
    "from sklearn_pandas import DataFrameMapper\n",
    "\n",
    "from keras.utils import to_categorical\n",
    "from tensorflow.keras.models import Sequential\n",
    "from tensorflow.keras.layers import Dense\n",
    "\n",
    "import numpy as np\n",
    "import json\n",
    "\n",
    "from sklearn.metrics import mean_squared_error\n",
    "\n",
    "\n"
   ]
  },
  {
   "cell_type": "markdown",
   "metadata": {},
   "source": [
    "# Read the CSV and Perform Basic Data Cleaning"
   ]
  },
  {
   "cell_type": "code",
   "execution_count": 75,
   "metadata": {
    "scrolled": false
   },
   "outputs": [
    {
     "data": {
      "text/html": [
       "<div>\n",
       "<style scoped>\n",
       "    .dataframe tbody tr th:only-of-type {\n",
       "        vertical-align: middle;\n",
       "    }\n",
       "\n",
       "    .dataframe tbody tr th {\n",
       "        vertical-align: top;\n",
       "    }\n",
       "\n",
       "    .dataframe thead th {\n",
       "        text-align: right;\n",
       "    }\n",
       "</style>\n",
       "<table border=\"1\" class=\"dataframe\">\n",
       "  <thead>\n",
       "    <tr style=\"text-align: right;\">\n",
       "      <th></th>\n",
       "      <th>Opening</th>\n",
       "      <th>Theaters</th>\n",
       "      <th>Budget</th>\n",
       "      <th>Runtime</th>\n",
       "      <th>Genre_Action</th>\n",
       "      <th>Genre_Adventure</th>\n",
       "      <th>Genre_Animation</th>\n",
       "      <th>Genre_Comedy</th>\n",
       "      <th>Genre_Crime</th>\n",
       "      <th>Genre_Documentary</th>\n",
       "      <th>...</th>\n",
       "      <th>Writer_Yvette Kaplan</th>\n",
       "      <th>Writer_Zach Helm</th>\n",
       "      <th>Writer_Zach Shields</th>\n",
       "      <th>Writer_Zack Snyder</th>\n",
       "      <th>Writer_Zack Stentz</th>\n",
       "      <th>Writer_Zak Penn</th>\n",
       "      <th>Writer_Zane Smith</th>\n",
       "      <th>Writer_Zeke Richardson</th>\n",
       "      <th>Writer_Álvaro Rodríguez</th>\n",
       "      <th>Writer_Éric Toledano</th>\n",
       "    </tr>\n",
       "  </thead>\n",
       "  <tbody>\n",
       "    <tr>\n",
       "      <th>count</th>\n",
       "      <td>1.907000e+03</td>\n",
       "      <td>1907.000000</td>\n",
       "      <td>1.907000e+03</td>\n",
       "      <td>1907.000000</td>\n",
       "      <td>1907.000000</td>\n",
       "      <td>1907.000000</td>\n",
       "      <td>1907.000000</td>\n",
       "      <td>1907.000000</td>\n",
       "      <td>1907.000000</td>\n",
       "      <td>1907.000000</td>\n",
       "      <td>...</td>\n",
       "      <td>1907.000000</td>\n",
       "      <td>1907.000000</td>\n",
       "      <td>1907.000000</td>\n",
       "      <td>1907.000000</td>\n",
       "      <td>1907.000000</td>\n",
       "      <td>1907.000000</td>\n",
       "      <td>1907.000000</td>\n",
       "      <td>1907.000000</td>\n",
       "      <td>1907.000000</td>\n",
       "      <td>1907.000000</td>\n",
       "    </tr>\n",
       "    <tr>\n",
       "      <th>mean</th>\n",
       "      <td>2.792583e+07</td>\n",
       "      <td>2913.979549</td>\n",
       "      <td>6.206534e+07</td>\n",
       "      <td>110.750393</td>\n",
       "      <td>0.359203</td>\n",
       "      <td>0.280545</td>\n",
       "      <td>0.093865</td>\n",
       "      <td>0.409544</td>\n",
       "      <td>0.149449</td>\n",
       "      <td>0.004719</td>\n",
       "      <td>...</td>\n",
       "      <td>0.000524</td>\n",
       "      <td>0.000524</td>\n",
       "      <td>0.000524</td>\n",
       "      <td>0.002622</td>\n",
       "      <td>0.001573</td>\n",
       "      <td>0.004719</td>\n",
       "      <td>0.000524</td>\n",
       "      <td>0.000524</td>\n",
       "      <td>0.000524</td>\n",
       "      <td>0.000524</td>\n",
       "    </tr>\n",
       "    <tr>\n",
       "      <th>std</th>\n",
       "      <td>2.729695e+07</td>\n",
       "      <td>702.092481</td>\n",
       "      <td>5.495635e+07</td>\n",
       "      <td>18.674676</td>\n",
       "      <td>0.479893</td>\n",
       "      <td>0.449384</td>\n",
       "      <td>0.291717</td>\n",
       "      <td>0.491879</td>\n",
       "      <td>0.356624</td>\n",
       "      <td>0.068554</td>\n",
       "      <td>...</td>\n",
       "      <td>0.022899</td>\n",
       "      <td>0.022899</td>\n",
       "      <td>0.022899</td>\n",
       "      <td>0.051151</td>\n",
       "      <td>0.039642</td>\n",
       "      <td>0.068554</td>\n",
       "      <td>0.022899</td>\n",
       "      <td>0.022899</td>\n",
       "      <td>0.022899</td>\n",
       "      <td>0.022899</td>\n",
       "    </tr>\n",
       "    <tr>\n",
       "      <th>min</th>\n",
       "      <td>1.000198e+07</td>\n",
       "      <td>629.000000</td>\n",
       "      <td>0.000000e+00</td>\n",
       "      <td>26.000000</td>\n",
       "      <td>0.000000</td>\n",
       "      <td>0.000000</td>\n",
       "      <td>0.000000</td>\n",
       "      <td>0.000000</td>\n",
       "      <td>0.000000</td>\n",
       "      <td>0.000000</td>\n",
       "      <td>...</td>\n",
       "      <td>0.000000</td>\n",
       "      <td>0.000000</td>\n",
       "      <td>0.000000</td>\n",
       "      <td>0.000000</td>\n",
       "      <td>0.000000</td>\n",
       "      <td>0.000000</td>\n",
       "      <td>0.000000</td>\n",
       "      <td>0.000000</td>\n",
       "      <td>0.000000</td>\n",
       "      <td>0.000000</td>\n",
       "    </tr>\n",
       "    <tr>\n",
       "      <th>25%</th>\n",
       "      <td>1.339860e+07</td>\n",
       "      <td>2503.000000</td>\n",
       "      <td>2.400000e+07</td>\n",
       "      <td>97.000000</td>\n",
       "      <td>0.000000</td>\n",
       "      <td>0.000000</td>\n",
       "      <td>0.000000</td>\n",
       "      <td>0.000000</td>\n",
       "      <td>0.000000</td>\n",
       "      <td>0.000000</td>\n",
       "      <td>...</td>\n",
       "      <td>0.000000</td>\n",
       "      <td>0.000000</td>\n",
       "      <td>0.000000</td>\n",
       "      <td>0.000000</td>\n",
       "      <td>0.000000</td>\n",
       "      <td>0.000000</td>\n",
       "      <td>0.000000</td>\n",
       "      <td>0.000000</td>\n",
       "      <td>0.000000</td>\n",
       "      <td>0.000000</td>\n",
       "    </tr>\n",
       "    <tr>\n",
       "      <th>50%</th>\n",
       "      <td>1.896668e+07</td>\n",
       "      <td>2950.000000</td>\n",
       "      <td>4.600000e+07</td>\n",
       "      <td>108.000000</td>\n",
       "      <td>0.000000</td>\n",
       "      <td>0.000000</td>\n",
       "      <td>0.000000</td>\n",
       "      <td>0.000000</td>\n",
       "      <td>0.000000</td>\n",
       "      <td>0.000000</td>\n",
       "      <td>...</td>\n",
       "      <td>0.000000</td>\n",
       "      <td>0.000000</td>\n",
       "      <td>0.000000</td>\n",
       "      <td>0.000000</td>\n",
       "      <td>0.000000</td>\n",
       "      <td>0.000000</td>\n",
       "      <td>0.000000</td>\n",
       "      <td>0.000000</td>\n",
       "      <td>0.000000</td>\n",
       "      <td>0.000000</td>\n",
       "    </tr>\n",
       "    <tr>\n",
       "      <th>75%</th>\n",
       "      <td>3.053719e+07</td>\n",
       "      <td>3389.500000</td>\n",
       "      <td>8.000000e+07</td>\n",
       "      <td>122.000000</td>\n",
       "      <td>1.000000</td>\n",
       "      <td>1.000000</td>\n",
       "      <td>0.000000</td>\n",
       "      <td>1.000000</td>\n",
       "      <td>0.000000</td>\n",
       "      <td>0.000000</td>\n",
       "      <td>...</td>\n",
       "      <td>0.000000</td>\n",
       "      <td>0.000000</td>\n",
       "      <td>0.000000</td>\n",
       "      <td>0.000000</td>\n",
       "      <td>0.000000</td>\n",
       "      <td>0.000000</td>\n",
       "      <td>0.000000</td>\n",
       "      <td>0.000000</td>\n",
       "      <td>0.000000</td>\n",
       "      <td>0.000000</td>\n",
       "    </tr>\n",
       "    <tr>\n",
       "      <th>max</th>\n",
       "      <td>3.571150e+08</td>\n",
       "      <td>4662.000000</td>\n",
       "      <td>5.000000e+08</td>\n",
       "      <td>201.000000</td>\n",
       "      <td>1.000000</td>\n",
       "      <td>1.000000</td>\n",
       "      <td>1.000000</td>\n",
       "      <td>1.000000</td>\n",
       "      <td>1.000000</td>\n",
       "      <td>1.000000</td>\n",
       "      <td>...</td>\n",
       "      <td>1.000000</td>\n",
       "      <td>1.000000</td>\n",
       "      <td>1.000000</td>\n",
       "      <td>1.000000</td>\n",
       "      <td>1.000000</td>\n",
       "      <td>1.000000</td>\n",
       "      <td>1.000000</td>\n",
       "      <td>1.000000</td>\n",
       "      <td>1.000000</td>\n",
       "      <td>1.000000</td>\n",
       "    </tr>\n",
       "  </tbody>\n",
       "</table>\n",
       "<p>8 rows × 16220 columns</p>\n",
       "</div>"
      ],
      "text/plain": [
       "            Opening     Theaters        Budget      Runtime  Genre_Action  \\\n",
       "count  1.907000e+03  1907.000000  1.907000e+03  1907.000000   1907.000000   \n",
       "mean   2.792583e+07  2913.979549  6.206534e+07   110.750393      0.359203   \n",
       "std    2.729695e+07   702.092481  5.495635e+07    18.674676      0.479893   \n",
       "min    1.000198e+07   629.000000  0.000000e+00    26.000000      0.000000   \n",
       "25%    1.339860e+07  2503.000000  2.400000e+07    97.000000      0.000000   \n",
       "50%    1.896668e+07  2950.000000  4.600000e+07   108.000000      0.000000   \n",
       "75%    3.053719e+07  3389.500000  8.000000e+07   122.000000      1.000000   \n",
       "max    3.571150e+08  4662.000000  5.000000e+08   201.000000      1.000000   \n",
       "\n",
       "       Genre_Adventure  Genre_Animation  Genre_Comedy  Genre_Crime  \\\n",
       "count      1907.000000      1907.000000   1907.000000  1907.000000   \n",
       "mean          0.280545         0.093865      0.409544     0.149449   \n",
       "std           0.449384         0.291717      0.491879     0.356624   \n",
       "min           0.000000         0.000000      0.000000     0.000000   \n",
       "25%           0.000000         0.000000      0.000000     0.000000   \n",
       "50%           0.000000         0.000000      0.000000     0.000000   \n",
       "75%           1.000000         0.000000      1.000000     0.000000   \n",
       "max           1.000000         1.000000      1.000000     1.000000   \n",
       "\n",
       "       Genre_Documentary  ...  Writer_Yvette Kaplan  Writer_Zach Helm  \\\n",
       "count        1907.000000  ...           1907.000000       1907.000000   \n",
       "mean            0.004719  ...              0.000524          0.000524   \n",
       "std             0.068554  ...              0.022899          0.022899   \n",
       "min             0.000000  ...              0.000000          0.000000   \n",
       "25%             0.000000  ...              0.000000          0.000000   \n",
       "50%             0.000000  ...              0.000000          0.000000   \n",
       "75%             0.000000  ...              0.000000          0.000000   \n",
       "max             1.000000  ...              1.000000          1.000000   \n",
       "\n",
       "       Writer_Zach Shields  Writer_Zack Snyder  Writer_Zack Stentz  \\\n",
       "count          1907.000000         1907.000000         1907.000000   \n",
       "mean              0.000524            0.002622            0.001573   \n",
       "std               0.022899            0.051151            0.039642   \n",
       "min               0.000000            0.000000            0.000000   \n",
       "25%               0.000000            0.000000            0.000000   \n",
       "50%               0.000000            0.000000            0.000000   \n",
       "75%               0.000000            0.000000            0.000000   \n",
       "max               1.000000            1.000000            1.000000   \n",
       "\n",
       "       Writer_Zak Penn  Writer_Zane Smith  Writer_Zeke Richardson  \\\n",
       "count      1907.000000        1907.000000             1907.000000   \n",
       "mean          0.004719           0.000524                0.000524   \n",
       "std           0.068554           0.022899                0.022899   \n",
       "min           0.000000           0.000000                0.000000   \n",
       "25%           0.000000           0.000000                0.000000   \n",
       "50%           0.000000           0.000000                0.000000   \n",
       "75%           0.000000           0.000000                0.000000   \n",
       "max           1.000000           1.000000                1.000000   \n",
       "\n",
       "       Writer_Álvaro Rodríguez  Writer_Éric Toledano  \n",
       "count              1907.000000           1907.000000  \n",
       "mean                  0.000524              0.000524  \n",
       "std                   0.022899              0.022899  \n",
       "min                   0.000000              0.000000  \n",
       "25%                   0.000000              0.000000  \n",
       "50%                   0.000000              0.000000  \n",
       "75%                   0.000000              0.000000  \n",
       "max                   1.000000              1.000000  \n",
       "\n",
       "[8 rows x 16220 columns]"
      ]
     },
     "execution_count": 75,
     "metadata": {},
     "output_type": "execute_result"
    }
   ],
   "source": [
    "df = pd.read_csv(\"Resources/03_new_df.csv\")\n",
    "df.describe()"
   ]
  },
  {
   "cell_type": "code",
   "execution_count": 76,
   "metadata": {},
   "outputs": [
    {
     "data": {
      "text/html": [
       "<div>\n",
       "<style scoped>\n",
       "    .dataframe tbody tr th:only-of-type {\n",
       "        vertical-align: middle;\n",
       "    }\n",
       "\n",
       "    .dataframe tbody tr th {\n",
       "        vertical-align: top;\n",
       "    }\n",
       "\n",
       "    .dataframe thead th {\n",
       "        text-align: right;\n",
       "    }\n",
       "</style>\n",
       "<table border=\"1\" class=\"dataframe\">\n",
       "  <thead>\n",
       "    <tr style=\"text-align: right;\">\n",
       "      <th></th>\n",
       "      <th>Studio</th>\n",
       "      <th>Opening</th>\n",
       "      <th>Theaters</th>\n",
       "      <th>Date</th>\n",
       "      <th>Budget</th>\n",
       "      <th>Runtime</th>\n",
       "      <th>Rating</th>\n",
       "      <th>Genre_Action</th>\n",
       "      <th>Genre_Adventure</th>\n",
       "      <th>Genre_Animation</th>\n",
       "      <th>...</th>\n",
       "      <th>Writer_Yvette Kaplan</th>\n",
       "      <th>Writer_Zach Helm</th>\n",
       "      <th>Writer_Zach Shields</th>\n",
       "      <th>Writer_Zack Snyder</th>\n",
       "      <th>Writer_Zack Stentz</th>\n",
       "      <th>Writer_Zak Penn</th>\n",
       "      <th>Writer_Zane Smith</th>\n",
       "      <th>Writer_Zeke Richardson</th>\n",
       "      <th>Writer_Álvaro Rodríguez</th>\n",
       "      <th>Writer_Éric Toledano</th>\n",
       "    </tr>\n",
       "  </thead>\n",
       "  <tbody>\n",
       "    <tr>\n",
       "      <th>0</th>\n",
       "      <td>BV</td>\n",
       "      <td>357115007</td>\n",
       "      <td>4662</td>\n",
       "      <td>2019-04-26</td>\n",
       "      <td>356000000</td>\n",
       "      <td>181.0</td>\n",
       "      <td>PG-13</td>\n",
       "      <td>1</td>\n",
       "      <td>1</td>\n",
       "      <td>0</td>\n",
       "      <td>...</td>\n",
       "      <td>0</td>\n",
       "      <td>0</td>\n",
       "      <td>0</td>\n",
       "      <td>0</td>\n",
       "      <td>0</td>\n",
       "      <td>0</td>\n",
       "      <td>0</td>\n",
       "      <td>0</td>\n",
       "      <td>0</td>\n",
       "      <td>0</td>\n",
       "    </tr>\n",
       "    <tr>\n",
       "      <th>1</th>\n",
       "      <td>BV</td>\n",
       "      <td>257698183</td>\n",
       "      <td>4474</td>\n",
       "      <td>2018-04-27</td>\n",
       "      <td>300000000</td>\n",
       "      <td>149.0</td>\n",
       "      <td>PG-13</td>\n",
       "      <td>1</td>\n",
       "      <td>1</td>\n",
       "      <td>0</td>\n",
       "      <td>...</td>\n",
       "      <td>0</td>\n",
       "      <td>0</td>\n",
       "      <td>0</td>\n",
       "      <td>0</td>\n",
       "      <td>0</td>\n",
       "      <td>0</td>\n",
       "      <td>0</td>\n",
       "      <td>0</td>\n",
       "      <td>0</td>\n",
       "      <td>0</td>\n",
       "    </tr>\n",
       "    <tr>\n",
       "      <th>2</th>\n",
       "      <td>BV</td>\n",
       "      <td>247966675</td>\n",
       "      <td>4134</td>\n",
       "      <td>2015-12-18</td>\n",
       "      <td>245000000</td>\n",
       "      <td>136.0</td>\n",
       "      <td>PG-13</td>\n",
       "      <td>1</td>\n",
       "      <td>1</td>\n",
       "      <td>0</td>\n",
       "      <td>...</td>\n",
       "      <td>0</td>\n",
       "      <td>0</td>\n",
       "      <td>0</td>\n",
       "      <td>0</td>\n",
       "      <td>0</td>\n",
       "      <td>0</td>\n",
       "      <td>0</td>\n",
       "      <td>0</td>\n",
       "      <td>0</td>\n",
       "      <td>0</td>\n",
       "    </tr>\n",
       "    <tr>\n",
       "      <th>3</th>\n",
       "      <td>BV</td>\n",
       "      <td>220009584</td>\n",
       "      <td>4232</td>\n",
       "      <td>2017-12-15</td>\n",
       "      <td>200000000</td>\n",
       "      <td>152.0</td>\n",
       "      <td>PG-13</td>\n",
       "      <td>1</td>\n",
       "      <td>1</td>\n",
       "      <td>0</td>\n",
       "      <td>...</td>\n",
       "      <td>0</td>\n",
       "      <td>0</td>\n",
       "      <td>0</td>\n",
       "      <td>0</td>\n",
       "      <td>0</td>\n",
       "      <td>0</td>\n",
       "      <td>0</td>\n",
       "      <td>0</td>\n",
       "      <td>0</td>\n",
       "      <td>0</td>\n",
       "    </tr>\n",
       "    <tr>\n",
       "      <th>4</th>\n",
       "      <td>Uni.</td>\n",
       "      <td>208806270</td>\n",
       "      <td>4274</td>\n",
       "      <td>2015-06-12</td>\n",
       "      <td>150000000</td>\n",
       "      <td>124.0</td>\n",
       "      <td>PG-13</td>\n",
       "      <td>1</td>\n",
       "      <td>1</td>\n",
       "      <td>0</td>\n",
       "      <td>...</td>\n",
       "      <td>0</td>\n",
       "      <td>0</td>\n",
       "      <td>0</td>\n",
       "      <td>0</td>\n",
       "      <td>0</td>\n",
       "      <td>0</td>\n",
       "      <td>0</td>\n",
       "      <td>0</td>\n",
       "      <td>0</td>\n",
       "      <td>0</td>\n",
       "    </tr>\n",
       "  </tbody>\n",
       "</table>\n",
       "<p>5 rows × 16223 columns</p>\n",
       "</div>"
      ],
      "text/plain": [
       "  Studio    Opening  Theaters        Date     Budget  Runtime Rating  \\\n",
       "0     BV  357115007      4662  2019-04-26  356000000    181.0  PG-13   \n",
       "1     BV  257698183      4474  2018-04-27  300000000    149.0  PG-13   \n",
       "2     BV  247966675      4134  2015-12-18  245000000    136.0  PG-13   \n",
       "3     BV  220009584      4232  2017-12-15  200000000    152.0  PG-13   \n",
       "4   Uni.  208806270      4274  2015-06-12  150000000    124.0  PG-13   \n",
       "\n",
       "   Genre_Action  Genre_Adventure  Genre_Animation  ...  Writer_Yvette Kaplan  \\\n",
       "0             1                1                0  ...                     0   \n",
       "1             1                1                0  ...                     0   \n",
       "2             1                1                0  ...                     0   \n",
       "3             1                1                0  ...                     0   \n",
       "4             1                1                0  ...                     0   \n",
       "\n",
       "   Writer_Zach Helm  Writer_Zach Shields  Writer_Zack Snyder  \\\n",
       "0                 0                    0                   0   \n",
       "1                 0                    0                   0   \n",
       "2                 0                    0                   0   \n",
       "3                 0                    0                   0   \n",
       "4                 0                    0                   0   \n",
       "\n",
       "   Writer_Zack Stentz  Writer_Zak Penn  Writer_Zane Smith  \\\n",
       "0                   0                0                  0   \n",
       "1                   0                0                  0   \n",
       "2                   0                0                  0   \n",
       "3                   0                0                  0   \n",
       "4                   0                0                  0   \n",
       "\n",
       "   Writer_Zeke Richardson  Writer_Álvaro Rodríguez  Writer_Éric Toledano  \n",
       "0                       0                        0                     0  \n",
       "1                       0                        0                     0  \n",
       "2                       0                        0                     0  \n",
       "3                       0                        0                     0  \n",
       "4                       0                        0                     0  \n",
       "\n",
       "[5 rows x 16223 columns]"
      ]
     },
     "execution_count": 76,
     "metadata": {},
     "output_type": "execute_result"
    }
   ],
   "source": [
    "df.head()"
   ]
  },
  {
   "cell_type": "markdown",
   "metadata": {},
   "source": [
    "# Change Date"
   ]
  },
  {
   "cell_type": "code",
   "execution_count": 77,
   "metadata": {},
   "outputs": [],
   "source": [
    "date_column = df[\"Date\"].str.split(\"-\", n = 2, expand = True) \n",
    "year_col= date_column[0] \n",
    "month_col= date_column[1] \n",
    "day_col= date_column[2] "
   ]
  },
  {
   "cell_type": "code",
   "execution_count": 78,
   "metadata": {},
   "outputs": [],
   "source": [
    "# one_hot_year = OneHotEncoder(dtype=np.int, categories=\"auto\", sparse=False).fit_transform(year_col.values.reshape(-1,1))\n",
    "# one_hot_year = pd.Series(list(one_hot_year))\n",
    "# # Create DataFrame \n",
    "# new_year_df = pd.DataFrame(one_hot_year, columns=[\"Year\"]) "
   ]
  },
  {
   "cell_type": "code",
   "execution_count": 79,
   "metadata": {},
   "outputs": [],
   "source": [
    "# one_hot_month = OneHotEncoder(dtype=np.int, categories=\"auto\", sparse=False).fit_transform(month_col.values.reshape(-1,1))\n",
    "# one_hot_month = pd.Series(list(one_hot_month))\n",
    "# new_month_df = pd.DataFrame(one_hot_month, columns=[\"Month\"]) "
   ]
  },
  {
   "cell_type": "code",
   "execution_count": 80,
   "metadata": {},
   "outputs": [],
   "source": [
    "# one_hot_day = OneHotEncoder(dtype=np.int, categories=\"auto\", sparse=False).fit_transform(day_col.values.reshape(-1,1))\n",
    "# one_hot_day = pd.Series(list(one_hot_day))\n",
    "# new_day_df = pd.DataFrame(one_hot_day, columns=[\"Day\"]) "
   ]
  },
  {
   "cell_type": "code",
   "execution_count": null,
   "metadata": {},
   "outputs": [],
   "source": []
  },
  {
   "cell_type": "code",
   "execution_count": 81,
   "metadata": {},
   "outputs": [
    {
     "data": {
      "text/plain": [
       "count     1907\n",
       "unique      40\n",
       "top       2012\n",
       "freq        89\n",
       "Name: 0, dtype: object"
      ]
     },
     "execution_count": 81,
     "metadata": {},
     "output_type": "execute_result"
    }
   ],
   "source": [
    "year_col.describe()"
   ]
  },
  {
   "cell_type": "code",
   "execution_count": 82,
   "metadata": {},
   "outputs": [],
   "source": [
    "label_encoder = LabelEncoder()\n",
    "label_encoder.fit(year_col)\n",
    "encoded_year = label_encoder.transform(year_col)"
   ]
  },
  {
   "cell_type": "code",
   "execution_count": 83,
   "metadata": {},
   "outputs": [
    {
     "data": {
      "text/plain": [
       "array([39, 38, 35, ..., 26, 34, 32])"
      ]
     },
     "execution_count": 83,
     "metadata": {},
     "output_type": "execute_result"
    }
   ],
   "source": [
    "encoded_year"
   ]
  },
  {
   "cell_type": "code",
   "execution_count": 84,
   "metadata": {},
   "outputs": [
    {
     "data": {
      "text/plain": [
       "array([[0., 0., 0., ..., 0., 0., 1.],\n",
       "       [0., 0., 0., ..., 0., 1., 0.],\n",
       "       [0., 0., 0., ..., 0., 0., 0.],\n",
       "       ...,\n",
       "       [0., 0., 0., ..., 0., 0., 0.],\n",
       "       [0., 0., 0., ..., 0., 0., 0.],\n",
       "       [0., 0., 0., ..., 0., 0., 0.]], dtype=float32)"
      ]
     },
     "execution_count": 84,
     "metadata": {},
     "output_type": "execute_result"
    }
   ],
   "source": [
    "one_hot_year = to_categorical(encoded_year)\n",
    "one_hot_year"
   ]
  },
  {
   "cell_type": "code",
   "execution_count": 85,
   "metadata": {},
   "outputs": [
    {
     "data": {
      "text/plain": [
       "(1907, 40)"
      ]
     },
     "execution_count": 85,
     "metadata": {},
     "output_type": "execute_result"
    }
   ],
   "source": [
    "one_hot_year.shape"
   ]
  },
  {
   "cell_type": "code",
   "execution_count": 86,
   "metadata": {},
   "outputs": [
    {
     "data": {
      "text/plain": [
       "array([[0., 0., 0., ..., 0., 0., 0.],\n",
       "       [0., 0., 0., ..., 0., 0., 0.],\n",
       "       [0., 0., 0., ..., 0., 0., 1.],\n",
       "       ...,\n",
       "       [0., 0., 0., ..., 0., 0., 0.],\n",
       "       [0., 0., 0., ..., 1., 0., 0.],\n",
       "       [0., 0., 0., ..., 0., 0., 0.]], dtype=float32)"
      ]
     },
     "execution_count": 86,
     "metadata": {},
     "output_type": "execute_result"
    }
   ],
   "source": [
    "one_hot_month = to_categorical(month_col)\n",
    "one_hot_month"
   ]
  },
  {
   "cell_type": "code",
   "execution_count": 87,
   "metadata": {},
   "outputs": [
    {
     "data": {
      "text/plain": [
       "(1907, 13)"
      ]
     },
     "execution_count": 87,
     "metadata": {},
     "output_type": "execute_result"
    }
   ],
   "source": [
    "one_hot_month.shape"
   ]
  },
  {
   "cell_type": "code",
   "execution_count": 88,
   "metadata": {},
   "outputs": [
    {
     "data": {
      "text/plain": [
       "array([[0., 0., 0., ..., 0., 0., 0.],\n",
       "       [0., 0., 0., ..., 0., 0., 0.],\n",
       "       [0., 0., 0., ..., 0., 0., 0.],\n",
       "       ...,\n",
       "       [0., 0., 0., ..., 0., 0., 0.],\n",
       "       [0., 0., 0., ..., 0., 0., 0.],\n",
       "       [0., 0., 0., ..., 1., 0., 0.]], dtype=float32)"
      ]
     },
     "execution_count": 88,
     "metadata": {},
     "output_type": "execute_result"
    }
   ],
   "source": [
    "one_hot_day = to_categorical(day_col)\n",
    "one_hot_day"
   ]
  },
  {
   "cell_type": "code",
   "execution_count": 89,
   "metadata": {},
   "outputs": [
    {
     "data": {
      "text/plain": [
       "(1907, 32)"
      ]
     },
     "execution_count": 89,
     "metadata": {},
     "output_type": "execute_result"
    }
   ],
   "source": [
    "one_hot_day.shape"
   ]
  },
  {
   "cell_type": "code",
   "execution_count": null,
   "metadata": {},
   "outputs": [],
   "source": []
  },
  {
   "cell_type": "code",
   "execution_count": 90,
   "metadata": {},
   "outputs": [],
   "source": [
    "year_df = pd.DataFrame(one_hot_year).add_prefix('Year_')"
   ]
  },
  {
   "cell_type": "code",
   "execution_count": 91,
   "metadata": {},
   "outputs": [],
   "source": [
    "month_df = pd.DataFrame(one_hot_month).add_prefix('Month_')"
   ]
  },
  {
   "cell_type": "code",
   "execution_count": 92,
   "metadata": {},
   "outputs": [],
   "source": [
    "day_df = pd.DataFrame(one_hot_day).add_prefix('Day_')"
   ]
  },
  {
   "cell_type": "code",
   "execution_count": 93,
   "metadata": {},
   "outputs": [
    {
     "data": {
      "text/plain": [
       "(1907, 45)"
      ]
     },
     "execution_count": 93,
     "metadata": {},
     "output_type": "execute_result"
    }
   ],
   "source": [
    "# date_df = pd.concat([year_df, month_df, day_df], axis=1)\n",
    "# trying it without YEAR\n",
    "date_df = pd.concat([month_df, day_df], axis=1)\n",
    "date_df.shape"
   ]
  },
  {
   "cell_type": "code",
   "execution_count": null,
   "metadata": {},
   "outputs": [],
   "source": []
  },
  {
   "cell_type": "code",
   "execution_count": 94,
   "metadata": {},
   "outputs": [
    {
     "data": {
      "text/html": [
       "<div>\n",
       "<style scoped>\n",
       "    .dataframe tbody tr th:only-of-type {\n",
       "        vertical-align: middle;\n",
       "    }\n",
       "\n",
       "    .dataframe tbody tr th {\n",
       "        vertical-align: top;\n",
       "    }\n",
       "\n",
       "    .dataframe thead th {\n",
       "        text-align: right;\n",
       "    }\n",
       "</style>\n",
       "<table border=\"1\" class=\"dataframe\">\n",
       "  <thead>\n",
       "    <tr style=\"text-align: right;\">\n",
       "      <th></th>\n",
       "      <th>Opening</th>\n",
       "      <th>Theaters</th>\n",
       "      <th>Budget</th>\n",
       "      <th>Runtime</th>\n",
       "      <th>Genre_Action</th>\n",
       "      <th>Genre_Adventure</th>\n",
       "      <th>Genre_Animation</th>\n",
       "      <th>Genre_Comedy</th>\n",
       "      <th>Genre_Crime</th>\n",
       "      <th>Genre_Documentary</th>\n",
       "      <th>...</th>\n",
       "      <th>Studio_Uni.</th>\n",
       "      <th>Studio_W/Dim.</th>\n",
       "      <th>Studio_WB</th>\n",
       "      <th>Studio_WB (NL)</th>\n",
       "      <th>Studio_Wein.</th>\n",
       "      <th>Rating_G</th>\n",
       "      <th>Rating_NR</th>\n",
       "      <th>Rating_PG</th>\n",
       "      <th>Rating_PG-13</th>\n",
       "      <th>Rating_R</th>\n",
       "    </tr>\n",
       "  </thead>\n",
       "  <tbody>\n",
       "    <tr>\n",
       "      <th>0</th>\n",
       "      <td>357115007</td>\n",
       "      <td>4662</td>\n",
       "      <td>356000000</td>\n",
       "      <td>181.0</td>\n",
       "      <td>1</td>\n",
       "      <td>1</td>\n",
       "      <td>0</td>\n",
       "      <td>0</td>\n",
       "      <td>0</td>\n",
       "      <td>0</td>\n",
       "      <td>...</td>\n",
       "      <td>0</td>\n",
       "      <td>0</td>\n",
       "      <td>0</td>\n",
       "      <td>0</td>\n",
       "      <td>0</td>\n",
       "      <td>0</td>\n",
       "      <td>0</td>\n",
       "      <td>0</td>\n",
       "      <td>1</td>\n",
       "      <td>0</td>\n",
       "    </tr>\n",
       "    <tr>\n",
       "      <th>1</th>\n",
       "      <td>257698183</td>\n",
       "      <td>4474</td>\n",
       "      <td>300000000</td>\n",
       "      <td>149.0</td>\n",
       "      <td>1</td>\n",
       "      <td>1</td>\n",
       "      <td>0</td>\n",
       "      <td>0</td>\n",
       "      <td>0</td>\n",
       "      <td>0</td>\n",
       "      <td>...</td>\n",
       "      <td>0</td>\n",
       "      <td>0</td>\n",
       "      <td>0</td>\n",
       "      <td>0</td>\n",
       "      <td>0</td>\n",
       "      <td>0</td>\n",
       "      <td>0</td>\n",
       "      <td>0</td>\n",
       "      <td>1</td>\n",
       "      <td>0</td>\n",
       "    </tr>\n",
       "    <tr>\n",
       "      <th>2</th>\n",
       "      <td>247966675</td>\n",
       "      <td>4134</td>\n",
       "      <td>245000000</td>\n",
       "      <td>136.0</td>\n",
       "      <td>1</td>\n",
       "      <td>1</td>\n",
       "      <td>0</td>\n",
       "      <td>0</td>\n",
       "      <td>0</td>\n",
       "      <td>0</td>\n",
       "      <td>...</td>\n",
       "      <td>0</td>\n",
       "      <td>0</td>\n",
       "      <td>0</td>\n",
       "      <td>0</td>\n",
       "      <td>0</td>\n",
       "      <td>0</td>\n",
       "      <td>0</td>\n",
       "      <td>0</td>\n",
       "      <td>1</td>\n",
       "      <td>0</td>\n",
       "    </tr>\n",
       "    <tr>\n",
       "      <th>3</th>\n",
       "      <td>220009584</td>\n",
       "      <td>4232</td>\n",
       "      <td>200000000</td>\n",
       "      <td>152.0</td>\n",
       "      <td>1</td>\n",
       "      <td>1</td>\n",
       "      <td>0</td>\n",
       "      <td>0</td>\n",
       "      <td>0</td>\n",
       "      <td>0</td>\n",
       "      <td>...</td>\n",
       "      <td>0</td>\n",
       "      <td>0</td>\n",
       "      <td>0</td>\n",
       "      <td>0</td>\n",
       "      <td>0</td>\n",
       "      <td>0</td>\n",
       "      <td>0</td>\n",
       "      <td>0</td>\n",
       "      <td>1</td>\n",
       "      <td>0</td>\n",
       "    </tr>\n",
       "    <tr>\n",
       "      <th>4</th>\n",
       "      <td>208806270</td>\n",
       "      <td>4274</td>\n",
       "      <td>150000000</td>\n",
       "      <td>124.0</td>\n",
       "      <td>1</td>\n",
       "      <td>1</td>\n",
       "      <td>0</td>\n",
       "      <td>0</td>\n",
       "      <td>0</td>\n",
       "      <td>0</td>\n",
       "      <td>...</td>\n",
       "      <td>1</td>\n",
       "      <td>0</td>\n",
       "      <td>0</td>\n",
       "      <td>0</td>\n",
       "      <td>0</td>\n",
       "      <td>0</td>\n",
       "      <td>0</td>\n",
       "      <td>0</td>\n",
       "      <td>1</td>\n",
       "      <td>0</td>\n",
       "    </tr>\n",
       "  </tbody>\n",
       "</table>\n",
       "<p>5 rows × 16270 columns</p>\n",
       "</div>"
      ],
      "text/plain": [
       "     Opening  Theaters     Budget  Runtime  Genre_Action  Genre_Adventure  \\\n",
       "0  357115007      4662  356000000    181.0             1                1   \n",
       "1  257698183      4474  300000000    149.0             1                1   \n",
       "2  247966675      4134  245000000    136.0             1                1   \n",
       "3  220009584      4232  200000000    152.0             1                1   \n",
       "4  208806270      4274  150000000    124.0             1                1   \n",
       "\n",
       "   Genre_Animation  Genre_Comedy  Genre_Crime  Genre_Documentary  ...  \\\n",
       "0                0             0            0                  0  ...   \n",
       "1                0             0            0                  0  ...   \n",
       "2                0             0            0                  0  ...   \n",
       "3                0             0            0                  0  ...   \n",
       "4                0             0            0                  0  ...   \n",
       "\n",
       "   Studio_Uni.  Studio_W/Dim.  Studio_WB  Studio_WB (NL)  Studio_Wein.  \\\n",
       "0            0              0          0               0             0   \n",
       "1            0              0          0               0             0   \n",
       "2            0              0          0               0             0   \n",
       "3            0              0          0               0             0   \n",
       "4            1              0          0               0             0   \n",
       "\n",
       "   Rating_G  Rating_NR  Rating_PG  Rating_PG-13  Rating_R  \n",
       "0         0          0          0             1         0  \n",
       "1         0          0          0             1         0  \n",
       "2         0          0          0             1         0  \n",
       "3         0          0          0             1         0  \n",
       "4         0          0          0             1         0  \n",
       "\n",
       "[5 rows x 16270 columns]"
      ]
     },
     "execution_count": 94,
     "metadata": {},
     "output_type": "execute_result"
    }
   ],
   "source": [
    "df = df.drop(columns=[\"Date\"])\n",
    "df = pd.get_dummies(df)\n",
    "df.head()"
   ]
  },
  {
   "cell_type": "code",
   "execution_count": 95,
   "metadata": {
    "scrolled": true
   },
   "outputs": [
    {
     "data": {
      "text/html": [
       "<div>\n",
       "<style scoped>\n",
       "    .dataframe tbody tr th:only-of-type {\n",
       "        vertical-align: middle;\n",
       "    }\n",
       "\n",
       "    .dataframe tbody tr th {\n",
       "        vertical-align: top;\n",
       "    }\n",
       "\n",
       "    .dataframe thead th {\n",
       "        text-align: right;\n",
       "    }\n",
       "</style>\n",
       "<table border=\"1\" class=\"dataframe\">\n",
       "  <thead>\n",
       "    <tr style=\"text-align: right;\">\n",
       "      <th></th>\n",
       "      <th>Opening</th>\n",
       "      <th>Theaters</th>\n",
       "      <th>Budget</th>\n",
       "      <th>Runtime</th>\n",
       "      <th>Genre_Action</th>\n",
       "      <th>Genre_Adventure</th>\n",
       "      <th>Genre_Animation</th>\n",
       "      <th>Genre_Comedy</th>\n",
       "      <th>Genre_Crime</th>\n",
       "      <th>Genre_Documentary</th>\n",
       "      <th>...</th>\n",
       "      <th>Day_22</th>\n",
       "      <th>Day_23</th>\n",
       "      <th>Day_24</th>\n",
       "      <th>Day_25</th>\n",
       "      <th>Day_26</th>\n",
       "      <th>Day_27</th>\n",
       "      <th>Day_28</th>\n",
       "      <th>Day_29</th>\n",
       "      <th>Day_30</th>\n",
       "      <th>Day_31</th>\n",
       "    </tr>\n",
       "  </thead>\n",
       "  <tbody>\n",
       "    <tr>\n",
       "      <th>0</th>\n",
       "      <td>357115007</td>\n",
       "      <td>4662</td>\n",
       "      <td>356000000</td>\n",
       "      <td>181.0</td>\n",
       "      <td>1</td>\n",
       "      <td>1</td>\n",
       "      <td>0</td>\n",
       "      <td>0</td>\n",
       "      <td>0</td>\n",
       "      <td>0</td>\n",
       "      <td>...</td>\n",
       "      <td>0.0</td>\n",
       "      <td>0.0</td>\n",
       "      <td>0.0</td>\n",
       "      <td>0.0</td>\n",
       "      <td>1.0</td>\n",
       "      <td>0.0</td>\n",
       "      <td>0.0</td>\n",
       "      <td>0.0</td>\n",
       "      <td>0.0</td>\n",
       "      <td>0.0</td>\n",
       "    </tr>\n",
       "    <tr>\n",
       "      <th>1</th>\n",
       "      <td>257698183</td>\n",
       "      <td>4474</td>\n",
       "      <td>300000000</td>\n",
       "      <td>149.0</td>\n",
       "      <td>1</td>\n",
       "      <td>1</td>\n",
       "      <td>0</td>\n",
       "      <td>0</td>\n",
       "      <td>0</td>\n",
       "      <td>0</td>\n",
       "      <td>...</td>\n",
       "      <td>0.0</td>\n",
       "      <td>0.0</td>\n",
       "      <td>0.0</td>\n",
       "      <td>0.0</td>\n",
       "      <td>0.0</td>\n",
       "      <td>1.0</td>\n",
       "      <td>0.0</td>\n",
       "      <td>0.0</td>\n",
       "      <td>0.0</td>\n",
       "      <td>0.0</td>\n",
       "    </tr>\n",
       "    <tr>\n",
       "      <th>2</th>\n",
       "      <td>247966675</td>\n",
       "      <td>4134</td>\n",
       "      <td>245000000</td>\n",
       "      <td>136.0</td>\n",
       "      <td>1</td>\n",
       "      <td>1</td>\n",
       "      <td>0</td>\n",
       "      <td>0</td>\n",
       "      <td>0</td>\n",
       "      <td>0</td>\n",
       "      <td>...</td>\n",
       "      <td>0.0</td>\n",
       "      <td>0.0</td>\n",
       "      <td>0.0</td>\n",
       "      <td>0.0</td>\n",
       "      <td>0.0</td>\n",
       "      <td>0.0</td>\n",
       "      <td>0.0</td>\n",
       "      <td>0.0</td>\n",
       "      <td>0.0</td>\n",
       "      <td>0.0</td>\n",
       "    </tr>\n",
       "    <tr>\n",
       "      <th>3</th>\n",
       "      <td>220009584</td>\n",
       "      <td>4232</td>\n",
       "      <td>200000000</td>\n",
       "      <td>152.0</td>\n",
       "      <td>1</td>\n",
       "      <td>1</td>\n",
       "      <td>0</td>\n",
       "      <td>0</td>\n",
       "      <td>0</td>\n",
       "      <td>0</td>\n",
       "      <td>...</td>\n",
       "      <td>0.0</td>\n",
       "      <td>0.0</td>\n",
       "      <td>0.0</td>\n",
       "      <td>0.0</td>\n",
       "      <td>0.0</td>\n",
       "      <td>0.0</td>\n",
       "      <td>0.0</td>\n",
       "      <td>0.0</td>\n",
       "      <td>0.0</td>\n",
       "      <td>0.0</td>\n",
       "    </tr>\n",
       "    <tr>\n",
       "      <th>4</th>\n",
       "      <td>208806270</td>\n",
       "      <td>4274</td>\n",
       "      <td>150000000</td>\n",
       "      <td>124.0</td>\n",
       "      <td>1</td>\n",
       "      <td>1</td>\n",
       "      <td>0</td>\n",
       "      <td>0</td>\n",
       "      <td>0</td>\n",
       "      <td>0</td>\n",
       "      <td>...</td>\n",
       "      <td>0.0</td>\n",
       "      <td>0.0</td>\n",
       "      <td>0.0</td>\n",
       "      <td>0.0</td>\n",
       "      <td>0.0</td>\n",
       "      <td>0.0</td>\n",
       "      <td>0.0</td>\n",
       "      <td>0.0</td>\n",
       "      <td>0.0</td>\n",
       "      <td>0.0</td>\n",
       "    </tr>\n",
       "  </tbody>\n",
       "</table>\n",
       "<p>5 rows × 16315 columns</p>\n",
       "</div>"
      ],
      "text/plain": [
       "     Opening  Theaters     Budget  Runtime  Genre_Action  Genre_Adventure  \\\n",
       "0  357115007      4662  356000000    181.0             1                1   \n",
       "1  257698183      4474  300000000    149.0             1                1   \n",
       "2  247966675      4134  245000000    136.0             1                1   \n",
       "3  220009584      4232  200000000    152.0             1                1   \n",
       "4  208806270      4274  150000000    124.0             1                1   \n",
       "\n",
       "   Genre_Animation  Genre_Comedy  Genre_Crime  Genre_Documentary  ...  Day_22  \\\n",
       "0                0             0            0                  0  ...     0.0   \n",
       "1                0             0            0                  0  ...     0.0   \n",
       "2                0             0            0                  0  ...     0.0   \n",
       "3                0             0            0                  0  ...     0.0   \n",
       "4                0             0            0                  0  ...     0.0   \n",
       "\n",
       "   Day_23  Day_24  Day_25  Day_26  Day_27  Day_28  Day_29  Day_30  Day_31  \n",
       "0     0.0     0.0     0.0     1.0     0.0     0.0     0.0     0.0     0.0  \n",
       "1     0.0     0.0     0.0     0.0     1.0     0.0     0.0     0.0     0.0  \n",
       "2     0.0     0.0     0.0     0.0     0.0     0.0     0.0     0.0     0.0  \n",
       "3     0.0     0.0     0.0     0.0     0.0     0.0     0.0     0.0     0.0  \n",
       "4     0.0     0.0     0.0     0.0     0.0     0.0     0.0     0.0     0.0  \n",
       "\n",
       "[5 rows x 16315 columns]"
      ]
     },
     "execution_count": 95,
     "metadata": {},
     "output_type": "execute_result"
    }
   ],
   "source": [
    "df = pd.concat([df, date_df], axis=1)\n",
    "df.head()"
   ]
  },
  {
   "cell_type": "markdown",
   "metadata": {},
   "source": [
    "# Create a Train Test Split\n",
    "Use `Opening` for the y values"
   ]
  },
  {
   "cell_type": "code",
   "execution_count": 96,
   "metadata": {
    "scrolled": true
   },
   "outputs": [
    {
     "data": {
      "text/html": [
       "<div>\n",
       "<style scoped>\n",
       "    .dataframe tbody tr th:only-of-type {\n",
       "        vertical-align: middle;\n",
       "    }\n",
       "\n",
       "    .dataframe tbody tr th {\n",
       "        vertical-align: top;\n",
       "    }\n",
       "\n",
       "    .dataframe thead th {\n",
       "        text-align: right;\n",
       "    }\n",
       "</style>\n",
       "<table border=\"1\" class=\"dataframe\">\n",
       "  <thead>\n",
       "    <tr style=\"text-align: right;\">\n",
       "      <th></th>\n",
       "      <th>Theaters</th>\n",
       "      <th>Budget</th>\n",
       "      <th>Runtime</th>\n",
       "      <th>Genre_Action</th>\n",
       "      <th>Genre_Adventure</th>\n",
       "      <th>Genre_Animation</th>\n",
       "      <th>Genre_Comedy</th>\n",
       "      <th>Genre_Crime</th>\n",
       "      <th>Genre_Documentary</th>\n",
       "      <th>Genre_Drama</th>\n",
       "      <th>...</th>\n",
       "      <th>Day_22</th>\n",
       "      <th>Day_23</th>\n",
       "      <th>Day_24</th>\n",
       "      <th>Day_25</th>\n",
       "      <th>Day_26</th>\n",
       "      <th>Day_27</th>\n",
       "      <th>Day_28</th>\n",
       "      <th>Day_29</th>\n",
       "      <th>Day_30</th>\n",
       "      <th>Day_31</th>\n",
       "    </tr>\n",
       "  </thead>\n",
       "  <tbody>\n",
       "    <tr>\n",
       "      <th>0</th>\n",
       "      <td>4662</td>\n",
       "      <td>356000000</td>\n",
       "      <td>181.0</td>\n",
       "      <td>1</td>\n",
       "      <td>1</td>\n",
       "      <td>0</td>\n",
       "      <td>0</td>\n",
       "      <td>0</td>\n",
       "      <td>0</td>\n",
       "      <td>0</td>\n",
       "      <td>...</td>\n",
       "      <td>0.0</td>\n",
       "      <td>0.0</td>\n",
       "      <td>0.0</td>\n",
       "      <td>0.0</td>\n",
       "      <td>1.0</td>\n",
       "      <td>0.0</td>\n",
       "      <td>0.0</td>\n",
       "      <td>0.0</td>\n",
       "      <td>0.0</td>\n",
       "      <td>0.0</td>\n",
       "    </tr>\n",
       "    <tr>\n",
       "      <th>1</th>\n",
       "      <td>4474</td>\n",
       "      <td>300000000</td>\n",
       "      <td>149.0</td>\n",
       "      <td>1</td>\n",
       "      <td>1</td>\n",
       "      <td>0</td>\n",
       "      <td>0</td>\n",
       "      <td>0</td>\n",
       "      <td>0</td>\n",
       "      <td>0</td>\n",
       "      <td>...</td>\n",
       "      <td>0.0</td>\n",
       "      <td>0.0</td>\n",
       "      <td>0.0</td>\n",
       "      <td>0.0</td>\n",
       "      <td>0.0</td>\n",
       "      <td>1.0</td>\n",
       "      <td>0.0</td>\n",
       "      <td>0.0</td>\n",
       "      <td>0.0</td>\n",
       "      <td>0.0</td>\n",
       "    </tr>\n",
       "    <tr>\n",
       "      <th>2</th>\n",
       "      <td>4134</td>\n",
       "      <td>245000000</td>\n",
       "      <td>136.0</td>\n",
       "      <td>1</td>\n",
       "      <td>1</td>\n",
       "      <td>0</td>\n",
       "      <td>0</td>\n",
       "      <td>0</td>\n",
       "      <td>0</td>\n",
       "      <td>0</td>\n",
       "      <td>...</td>\n",
       "      <td>0.0</td>\n",
       "      <td>0.0</td>\n",
       "      <td>0.0</td>\n",
       "      <td>0.0</td>\n",
       "      <td>0.0</td>\n",
       "      <td>0.0</td>\n",
       "      <td>0.0</td>\n",
       "      <td>0.0</td>\n",
       "      <td>0.0</td>\n",
       "      <td>0.0</td>\n",
       "    </tr>\n",
       "    <tr>\n",
       "      <th>3</th>\n",
       "      <td>4232</td>\n",
       "      <td>200000000</td>\n",
       "      <td>152.0</td>\n",
       "      <td>1</td>\n",
       "      <td>1</td>\n",
       "      <td>0</td>\n",
       "      <td>0</td>\n",
       "      <td>0</td>\n",
       "      <td>0</td>\n",
       "      <td>0</td>\n",
       "      <td>...</td>\n",
       "      <td>0.0</td>\n",
       "      <td>0.0</td>\n",
       "      <td>0.0</td>\n",
       "      <td>0.0</td>\n",
       "      <td>0.0</td>\n",
       "      <td>0.0</td>\n",
       "      <td>0.0</td>\n",
       "      <td>0.0</td>\n",
       "      <td>0.0</td>\n",
       "      <td>0.0</td>\n",
       "    </tr>\n",
       "    <tr>\n",
       "      <th>4</th>\n",
       "      <td>4274</td>\n",
       "      <td>150000000</td>\n",
       "      <td>124.0</td>\n",
       "      <td>1</td>\n",
       "      <td>1</td>\n",
       "      <td>0</td>\n",
       "      <td>0</td>\n",
       "      <td>0</td>\n",
       "      <td>0</td>\n",
       "      <td>0</td>\n",
       "      <td>...</td>\n",
       "      <td>0.0</td>\n",
       "      <td>0.0</td>\n",
       "      <td>0.0</td>\n",
       "      <td>0.0</td>\n",
       "      <td>0.0</td>\n",
       "      <td>0.0</td>\n",
       "      <td>0.0</td>\n",
       "      <td>0.0</td>\n",
       "      <td>0.0</td>\n",
       "      <td>0.0</td>\n",
       "    </tr>\n",
       "  </tbody>\n",
       "</table>\n",
       "<p>5 rows × 16314 columns</p>\n",
       "</div>"
      ],
      "text/plain": [
       "   Theaters     Budget  Runtime  Genre_Action  Genre_Adventure  \\\n",
       "0      4662  356000000    181.0             1                1   \n",
       "1      4474  300000000    149.0             1                1   \n",
       "2      4134  245000000    136.0             1                1   \n",
       "3      4232  200000000    152.0             1                1   \n",
       "4      4274  150000000    124.0             1                1   \n",
       "\n",
       "   Genre_Animation  Genre_Comedy  Genre_Crime  Genre_Documentary  Genre_Drama  \\\n",
       "0                0             0            0                  0            0   \n",
       "1                0             0            0                  0            0   \n",
       "2                0             0            0                  0            0   \n",
       "3                0             0            0                  0            0   \n",
       "4                0             0            0                  0            0   \n",
       "\n",
       "   ...  Day_22  Day_23  Day_24  Day_25  Day_26  Day_27  Day_28  Day_29  \\\n",
       "0  ...     0.0     0.0     0.0     0.0     1.0     0.0     0.0     0.0   \n",
       "1  ...     0.0     0.0     0.0     0.0     0.0     1.0     0.0     0.0   \n",
       "2  ...     0.0     0.0     0.0     0.0     0.0     0.0     0.0     0.0   \n",
       "3  ...     0.0     0.0     0.0     0.0     0.0     0.0     0.0     0.0   \n",
       "4  ...     0.0     0.0     0.0     0.0     0.0     0.0     0.0     0.0   \n",
       "\n",
       "   Day_30  Day_31  \n",
       "0     0.0     0.0  \n",
       "1     0.0     0.0  \n",
       "2     0.0     0.0  \n",
       "3     0.0     0.0  \n",
       "4     0.0     0.0  \n",
       "\n",
       "[5 rows x 16314 columns]"
      ]
     },
     "execution_count": 96,
     "metadata": {},
     "output_type": "execute_result"
    }
   ],
   "source": [
    "target = df[\"Opening\"]\n",
    "data = df.drop(\"Opening\", axis=1)\n",
    "feature_names = data.columns\n",
    "data.head()"
   ]
  },
  {
   "cell_type": "code",
   "execution_count": 97,
   "metadata": {},
   "outputs": [],
   "source": [
    "X_train, X_test, y_train, y_test = train_test_split(data, target, random_state=42)"
   ]
  },
  {
   "cell_type": "code",
   "execution_count": 98,
   "metadata": {
    "scrolled": true
   },
   "outputs": [
    {
     "data": {
      "text/plain": [
       "(1430, 16314)"
      ]
     },
     "execution_count": 98,
     "metadata": {},
     "output_type": "execute_result"
    }
   ],
   "source": [
    "X_train.shape"
   ]
  },
  {
   "cell_type": "code",
   "execution_count": 99,
   "metadata": {},
   "outputs": [
    {
     "data": {
      "text/plain": [
       "(1430,)"
      ]
     },
     "execution_count": 99,
     "metadata": {},
     "output_type": "execute_result"
    }
   ],
   "source": [
    "y_train.shape"
   ]
  },
  {
   "cell_type": "markdown",
   "metadata": {},
   "source": [
    "# Pre-processing\n",
    "\n",
    "Scale the data using the MinMaxScaler"
   ]
  },
  {
   "cell_type": "code",
   "execution_count": 100,
   "metadata": {},
   "outputs": [],
   "source": [
    "X_minmax = MinMaxScaler().fit(X_train)\n",
    "# y_train.values.reshape(-1, 1)\n",
    "y_minmax = MinMaxScaler().fit(y_train.values.reshape(-1, 1))"
   ]
  },
  {
   "cell_type": "code",
   "execution_count": 101,
   "metadata": {},
   "outputs": [],
   "source": [
    "X_train_scaled = X_minmax.transform(X_train)\n",
    "X_test_scaled = X_minmax.transform(X_test)\n",
    "y_train_scaled = y_minmax.transform(y_train.values.reshape(-1, 1))\n",
    "y_test_scaled = y_minmax.transform(y_test.values.reshape(-1, 1))"
   ]
  },
  {
   "cell_type": "code",
   "execution_count": 102,
   "metadata": {},
   "outputs": [],
   "source": [
    "# X_mapper = DataFrameMapper([(['Theaters', 'Budget', 'Runtime'], MinMaxScaler())], \n",
    "#                           default=None).fit(X_train)"
   ]
  },
  {
   "cell_type": "code",
   "execution_count": 103,
   "metadata": {},
   "outputs": [],
   "source": [
    "# X_train_scaled = X_mapper.transform(X_train)\n",
    "# X_test_scaled = X_mapper.transform(X_test)"
   ]
  },
  {
   "cell_type": "code",
   "execution_count": 104,
   "metadata": {
    "scrolled": true
   },
   "outputs": [
    {
     "data": {
      "text/plain": [
       "(1430, 16314)"
      ]
     },
     "execution_count": 104,
     "metadata": {},
     "output_type": "execute_result"
    }
   ],
   "source": [
    "X_train_scaled.shape"
   ]
  },
  {
   "cell_type": "code",
   "execution_count": null,
   "metadata": {
    "scrolled": true
   },
   "outputs": [],
   "source": [
    "X_train_scaled"
   ]
  },
  {
   "cell_type": "code",
   "execution_count": null,
   "metadata": {},
   "outputs": [],
   "source": [
    "y_train.shape"
   ]
  },
  {
   "cell_type": "markdown",
   "metadata": {},
   "source": [
    "# Try simple linear regression"
   ]
  },
  {
   "cell_type": "code",
   "execution_count": 49,
   "metadata": {},
   "outputs": [
    {
     "data": {
      "text/plain": [
       "LinearRegression(copy_X=True, fit_intercept=True, n_jobs=None, normalize=False)"
      ]
     },
     "execution_count": 49,
     "metadata": {},
     "output_type": "execute_result"
    }
   ],
   "source": [
    "# Import dependencies\n",
    "from sklearn.linear_model import LinearRegression\n",
    "\n",
    "# Create a linear model\n",
    "model = LinearRegression()\n",
    "\n",
    "# Fit (Train) our model to the data\n",
    "model.fit(X_train_scaled, y_train_scaled)"
   ]
  },
  {
   "cell_type": "code",
   "execution_count": 50,
   "metadata": {},
   "outputs": [],
   "source": [
    "predictions = model.predict(X_test_scaled)"
   ]
  },
  {
   "cell_type": "code",
   "execution_count": 51,
   "metadata": {},
   "outputs": [
    {
     "data": {
      "text/plain": [
       "1.0"
      ]
     },
     "execution_count": 51,
     "metadata": {},
     "output_type": "execute_result"
    }
   ],
   "source": [
    "# Overall Score for the model\n",
    "model.score(X_train_scaled, y_train_scaled)"
   ]
  },
  {
   "cell_type": "code",
   "execution_count": 52,
   "metadata": {
    "scrolled": true
   },
   "outputs": [
    {
     "data": {
      "text/plain": [
       "-0.32788325379749295"
      ]
     },
     "execution_count": 52,
     "metadata": {},
     "output_type": "execute_result"
    }
   ],
   "source": [
    "model.score(X_test_scaled, y_test_scaled)"
   ]
  },
  {
   "cell_type": "code",
   "execution_count": 53,
   "metadata": {},
   "outputs": [
    {
     "name": "stdout",
     "output_type": "stream",
     "text": [
      "MSE: 0.004961736201694682, R2: -0.32788325379749295\n"
     ]
    }
   ],
   "source": [
    "MSE = mean_squared_error(y_test_scaled, predictions)\n",
    "r2 = model.score(X_test_scaled, y_test_scaled)\n",
    "### END SOLUTION\n",
    "\n",
    "print(f\"MSE: {MSE}, R2: {r2}\")"
   ]
  },
  {
   "cell_type": "markdown",
   "metadata": {},
   "source": [
    "# LASSO model"
   ]
  },
  {
   "cell_type": "code",
   "execution_count": null,
   "metadata": {},
   "outputs": [],
   "source": []
  },
  {
   "cell_type": "code",
   "execution_count": 54,
   "metadata": {},
   "outputs": [
    {
     "name": "stdout",
     "output_type": "stream",
     "text": [
      "MSE: 0.0035687697266425815, R2: 0.04490900684128174\n"
     ]
    }
   ],
   "source": [
    "# LASSO model\n",
    "# Note: Use an alpha of .01 when creating the model for this activity\n",
    "from sklearn.linear_model import Lasso\n",
    "\n",
    "### BEGIN SOLUTION\n",
    "lasso = Lasso(alpha=.01).fit(X_train_scaled, y_train_scaled)\n",
    "\n",
    "predictions = lasso.predict(X_test_scaled)\n",
    "\n",
    "MSE = mean_squared_error(y_test_scaled, predictions)\n",
    "r2 = lasso.score(X_test_scaled, y_test_scaled)\n",
    "### END SOLUTION\n",
    "\n",
    "print(f\"MSE: {MSE}, R2: {r2}\")"
   ]
  },
  {
   "cell_type": "code",
   "execution_count": 55,
   "metadata": {},
   "outputs": [
    {
     "data": {
      "text/plain": [
       "0.03869454088908797"
      ]
     },
     "execution_count": 55,
     "metadata": {},
     "output_type": "execute_result"
    }
   ],
   "source": [
    "lasso.score(X_train_scaled, y_train_scaled)"
   ]
  },
  {
   "cell_type": "code",
   "execution_count": 56,
   "metadata": {},
   "outputs": [
    {
     "data": {
      "text/plain": [
       "0.04490900684128174"
      ]
     },
     "execution_count": 56,
     "metadata": {},
     "output_type": "execute_result"
    }
   ],
   "source": [
    "lasso.score(X_test_scaled, y_test_scaled)"
   ]
  },
  {
   "cell_type": "markdown",
   "metadata": {},
   "source": [
    "# Ridge model"
   ]
  },
  {
   "cell_type": "code",
   "execution_count": 57,
   "metadata": {
    "scrolled": true
   },
   "outputs": [
    {
     "name": "stdout",
     "output_type": "stream",
     "text": [
      "MSE: 0.0044956111888195425, R2: -0.20313667848346606\n"
     ]
    }
   ],
   "source": [
    "# Ridge model\n",
    "# Note: Use an alpha of .01 when creating the model for this activity\n",
    "from sklearn.linear_model import Ridge\n",
    "\n",
    "### BEGIN SOLUTION\n",
    "ridge = Ridge(alpha=.01).fit(X_train_scaled, y_train_scaled)\n",
    "\n",
    "predictions = ridge.predict(X_test_scaled)\n",
    "\n",
    "MSE = mean_squared_error(y_test_scaled, predictions)\n",
    "r2 = ridge.score(X_test_scaled, y_test_scaled)\n",
    "### END SOLUTION\n",
    "\n",
    "print(f\"MSE: {MSE}, R2: {r2}\")"
   ]
  },
  {
   "cell_type": "code",
   "execution_count": 58,
   "metadata": {},
   "outputs": [
    {
     "data": {
      "text/plain": [
       "0.9999659567955442"
      ]
     },
     "execution_count": 58,
     "metadata": {},
     "output_type": "execute_result"
    }
   ],
   "source": [
    "ridge.score(X_train_scaled, y_train_scaled)"
   ]
  },
  {
   "cell_type": "code",
   "execution_count": 59,
   "metadata": {},
   "outputs": [
    {
     "data": {
      "text/plain": [
       "-0.20313667848346606"
      ]
     },
     "execution_count": 59,
     "metadata": {},
     "output_type": "execute_result"
    }
   ],
   "source": [
    "ridge.score(X_test_scaled, y_test_scaled)"
   ]
  },
  {
   "cell_type": "code",
   "execution_count": null,
   "metadata": {},
   "outputs": [],
   "source": []
  },
  {
   "cell_type": "markdown",
   "metadata": {},
   "source": [
    "# ElasticNet model"
   ]
  },
  {
   "cell_type": "code",
   "execution_count": 60,
   "metadata": {},
   "outputs": [
    {
     "name": "stdout",
     "output_type": "stream",
     "text": [
      "MSE: 0.002621397527550023, R2: 0.2984492248517925\n"
     ]
    }
   ],
   "source": [
    "# ElasticNet model\n",
    "# Note: Use an alpha of .01 when creating the model for this activity\n",
    "from sklearn.linear_model import ElasticNet\n",
    "\n",
    "### BEGIN SOLUTION\n",
    "elasticnet = ElasticNet(alpha=.01).fit(X_train_scaled, y_train_scaled)\n",
    "model.score(X_train_scaled, y_train_scaled)\n",
    "\n",
    "model.score(X_test_scaled, y_test_scaled)\n",
    "predictions = elasticnet.predict(X_test_scaled)\n",
    "\n",
    "MSE = mean_squared_error(y_test_scaled, predictions)\n",
    "r2 = elasticnet.score(X_test_scaled, y_test_scaled)\n",
    "### END SOLUTION\n",
    "\n",
    "print(f\"MSE: {MSE}, R2: {r2}\")"
   ]
  },
  {
   "cell_type": "code",
   "execution_count": 61,
   "metadata": {},
   "outputs": [
    {
     "data": {
      "text/plain": [
       "0.2336431355840808"
      ]
     },
     "execution_count": 61,
     "metadata": {},
     "output_type": "execute_result"
    }
   ],
   "source": [
    "elasticnet.score(X_train_scaled, y_train_scaled)"
   ]
  },
  {
   "cell_type": "code",
   "execution_count": 62,
   "metadata": {},
   "outputs": [
    {
     "data": {
      "text/plain": [
       "0.2984492248517925"
      ]
     },
     "execution_count": 62,
     "metadata": {},
     "output_type": "execute_result"
    }
   ],
   "source": [
    "elasticnet.score(X_test_scaled, y_test_scaled)"
   ]
  },
  {
   "cell_type": "markdown",
   "metadata": {},
   "source": [
    "# Try Neural Net: Define the architecture"
   ]
  },
  {
   "cell_type": "code",
   "execution_count": 112,
   "metadata": {},
   "outputs": [],
   "source": [
    "nn_model = Sequential()"
   ]
  },
  {
   "cell_type": "code",
   "execution_count": 113,
   "metadata": {},
   "outputs": [
    {
     "name": "stdout",
     "output_type": "stream",
     "text": [
      "Model: \"sequential_4\"\n",
      "_________________________________________________________________\n",
      "Layer (type)                 Output Shape              Param #   \n",
      "=================================================================\n",
      "dense_23 (Dense)             (None, 1500)              24472500  \n",
      "_________________________________________________________________\n",
      "dense_24 (Dense)             (None, 800)               1200800   \n",
      "_________________________________________________________________\n",
      "dense_25 (Dense)             (None, 300)               240300    \n",
      "_________________________________________________________________\n",
      "dense_26 (Dense)             (None, 1)                 301       \n",
      "=================================================================\n",
      "Total params: 25,913,901\n",
      "Trainable params: 25,913,901\n",
      "Non-trainable params: 0\n",
      "_________________________________________________________________\n"
     ]
    }
   ],
   "source": [
    "nn_model.add(Dense(units=1500, input_dim=16314, activation='relu'))\n",
    "nn_model.add(Dense(units=800, activation='relu'))\n",
    "nn_model.add(Dense(units=300, activation='relu'))\n",
    "nn_model.add(Dense(units=1, activation='linear'))\n",
    "nn_model.summary()"
   ]
  },
  {
   "cell_type": "code",
   "execution_count": 114,
   "metadata": {},
   "outputs": [],
   "source": [
    "nn_model.compile(loss='mse', optimizer='adam', metrics=['mse','mae'])"
   ]
  },
  {
   "cell_type": "code",
   "execution_count": 115,
   "metadata": {},
   "outputs": [
    {
     "name": "stdout",
     "output_type": "stream",
     "text": [
      "Train on 1430 samples\n",
      "Epoch 1/300\n",
      "1430/1430 - 5s - loss: 0.0075 - mse: 0.0075 - mae: 0.0531\n",
      "Epoch 2/300\n",
      "1430/1430 - 5s - loss: 0.0032 - mse: 0.0032 - mae: 0.0324\n",
      "Epoch 3/300\n",
      "1430/1430 - 5s - loss: 0.0027 - mse: 0.0027 - mae: 0.0295\n",
      "Epoch 4/300\n",
      "1430/1430 - 5s - loss: 0.0025 - mse: 0.0025 - mae: 0.0256\n",
      "Epoch 5/300\n",
      "1430/1430 - 5s - loss: 0.0039 - mse: 0.0039 - mae: 0.0252\n",
      "Epoch 6/300\n",
      "1430/1430 - 5s - loss: 0.0033 - mse: 0.0033 - mae: 0.0295\n",
      "Epoch 7/300\n",
      "1430/1430 - 5s - loss: 0.0047 - mse: 0.0047 - mae: 0.0262\n",
      "Epoch 8/300\n",
      "1430/1430 - 5s - loss: 0.0043 - mse: 0.0043 - mae: 0.0237\n",
      "Epoch 9/300\n",
      "1430/1430 - 5s - loss: 0.0028 - mse: 0.0028 - mae: 0.0225\n",
      "Epoch 10/300\n",
      "1430/1430 - 5s - loss: 0.0031 - mse: 0.0031 - mae: 0.0248\n",
      "Epoch 11/300\n",
      "1430/1430 - 5s - loss: 0.0023 - mse: 0.0023 - mae: 0.0228\n",
      "Epoch 12/300\n",
      "1430/1430 - 5s - loss: 0.0020 - mse: 0.0020 - mae: 0.0202\n",
      "Epoch 13/300\n",
      "1430/1430 - 5s - loss: 0.0012 - mse: 0.0012 - mae: 0.0193\n",
      "Epoch 14/300\n",
      "1430/1430 - 5s - loss: 5.5235e-04 - mse: 5.5235e-04 - mae: 0.0137\n",
      "Epoch 15/300\n",
      "1430/1430 - 5s - loss: 6.1356e-04 - mse: 6.1356e-04 - mae: 0.0123\n",
      "Epoch 16/300\n",
      "1430/1430 - 5s - loss: 5.1730e-04 - mse: 5.1730e-04 - mae: 0.0120\n",
      "Epoch 17/300\n",
      "1430/1430 - 5s - loss: 3.2308e-04 - mse: 3.2308e-04 - mae: 0.0110\n",
      "Epoch 18/300\n",
      "1430/1430 - 5s - loss: 3.7092e-04 - mse: 3.7092e-04 - mae: 0.0124\n",
      "Epoch 19/300\n",
      "1430/1430 - 5s - loss: 4.4891e-04 - mse: 4.4891e-04 - mae: 0.0124\n",
      "Epoch 20/300\n",
      "1430/1430 - 5s - loss: 2.7837e-04 - mse: 2.7837e-04 - mae: 0.0102\n",
      "Epoch 21/300\n",
      "1430/1430 - 5s - loss: 3.4564e-04 - mse: 3.4564e-04 - mae: 0.0103\n",
      "Epoch 22/300\n",
      "1430/1430 - 5s - loss: 5.2027e-04 - mse: 5.2027e-04 - mae: 0.0132\n",
      "Epoch 23/300\n",
      "1430/1430 - 5s - loss: 6.6431e-04 - mse: 6.6431e-04 - mae: 0.0131\n",
      "Epoch 24/300\n",
      "1430/1430 - 5s - loss: 8.9746e-04 - mse: 8.9746e-04 - mae: 0.0148\n",
      "Epoch 25/300\n",
      "1430/1430 - 5s - loss: 8.6616e-04 - mse: 8.6616e-04 - mae: 0.0138\n",
      "Epoch 26/300\n",
      "1430/1430 - 5s - loss: 5.4346e-04 - mse: 5.4346e-04 - mae: 0.0126\n",
      "Epoch 27/300\n",
      "1430/1430 - 6s - loss: 9.0899e-04 - mse: 9.0899e-04 - mae: 0.0160\n",
      "Epoch 28/300\n",
      "1430/1430 - 5s - loss: 0.0011 - mse: 0.0011 - mae: 0.0170\n",
      "Epoch 29/300\n",
      "1430/1430 - 5s - loss: 9.3649e-04 - mse: 9.3649e-04 - mae: 0.0148\n",
      "Epoch 30/300\n",
      "1430/1430 - 6s - loss: 4.6228e-04 - mse: 4.6228e-04 - mae: 0.0116\n",
      "Epoch 31/300\n",
      "1430/1430 - 5s - loss: 1.9921e-04 - mse: 1.9921e-04 - mae: 0.0060\n",
      "Epoch 32/300\n",
      "1430/1430 - 5s - loss: 1.7784e-04 - mse: 1.7784e-04 - mae: 0.0053\n",
      "Epoch 33/300\n",
      "1430/1430 - 5s - loss: 1.8815e-04 - mse: 1.8815e-04 - mae: 0.0042\n",
      "Epoch 34/300\n",
      "1430/1430 - 5s - loss: 1.4989e-04 - mse: 1.4989e-04 - mae: 0.0045\n",
      "Epoch 35/300\n",
      "1430/1430 - 5s - loss: 1.1123e-04 - mse: 1.1123e-04 - mae: 0.0052\n",
      "Epoch 36/300\n",
      "1430/1430 - 5s - loss: 7.7668e-05 - mse: 7.7668e-05 - mae: 0.0045\n",
      "Epoch 37/300\n",
      "1430/1430 - 5s - loss: 9.4694e-05 - mse: 9.4694e-05 - mae: 0.0054\n",
      "Epoch 38/300\n",
      "1430/1430 - 5s - loss: 1.4458e-04 - mse: 1.4458e-04 - mae: 0.0056\n",
      "Epoch 39/300\n",
      "1430/1430 - 5s - loss: 1.0999e-04 - mse: 1.0999e-04 - mae: 0.0047\n",
      "Epoch 40/300\n",
      "1430/1430 - 5s - loss: 1.2672e-04 - mse: 1.2672e-04 - mae: 0.0052\n",
      "Epoch 41/300\n",
      "1430/1430 - 5s - loss: 1.4183e-04 - mse: 1.4183e-04 - mae: 0.0051\n",
      "Epoch 42/300\n",
      "1430/1430 - 5s - loss: 9.3961e-05 - mse: 9.3961e-05 - mae: 0.0036\n",
      "Epoch 43/300\n",
      "1430/1430 - 5s - loss: 2.1861e-04 - mse: 2.1861e-04 - mae: 0.0056\n",
      "Epoch 44/300\n",
      "1430/1430 - 5s - loss: 3.9089e-04 - mse: 3.9089e-04 - mae: 0.0079\n",
      "Epoch 45/300\n",
      "1430/1430 - 5s - loss: 5.2793e-04 - mse: 5.2793e-04 - mae: 0.0112\n",
      "Epoch 46/300\n",
      "1430/1430 - 5s - loss: 5.6838e-04 - mse: 5.6838e-04 - mae: 0.0141\n",
      "Epoch 47/300\n",
      "1430/1430 - 5s - loss: 4.8669e-04 - mse: 4.8669e-04 - mae: 0.0120\n",
      "Epoch 48/300\n",
      "1430/1430 - 5s - loss: 4.7139e-04 - mse: 4.7139e-04 - mae: 0.0104\n",
      "Epoch 49/300\n",
      "1430/1430 - 5s - loss: 4.5947e-04 - mse: 4.5947e-04 - mae: 0.0094\n",
      "Epoch 50/300\n",
      "1430/1430 - 5s - loss: 5.8321e-04 - mse: 5.8321e-04 - mae: 0.0087\n",
      "Epoch 51/300\n",
      "1430/1430 - 5s - loss: 7.5915e-04 - mse: 7.5915e-04 - mae: 0.0100\n",
      "Epoch 52/300\n",
      "1430/1430 - 5s - loss: 6.4055e-04 - mse: 6.4055e-04 - mae: 0.0119\n",
      "Epoch 53/300\n",
      "1430/1430 - 5s - loss: 4.3212e-04 - mse: 4.3212e-04 - mae: 0.0102\n",
      "Epoch 54/300\n",
      "1430/1430 - 5s - loss: 5.7225e-04 - mse: 5.7225e-04 - mae: 0.0134\n",
      "Epoch 55/300\n",
      "1430/1430 - 5s - loss: 4.9824e-04 - mse: 4.9824e-04 - mae: 0.0118\n",
      "Epoch 56/300\n",
      "1430/1430 - 5s - loss: 4.0779e-04 - mse: 4.0779e-04 - mae: 0.0113\n",
      "Epoch 57/300\n",
      "1430/1430 - 5s - loss: 2.6819e-04 - mse: 2.6819e-04 - mae: 0.0095\n",
      "Epoch 58/300\n",
      "1430/1430 - 5s - loss: 1.9281e-04 - mse: 1.9281e-04 - mae: 0.0072\n",
      "Epoch 59/300\n",
      "1430/1430 - 5s - loss: 8.6501e-05 - mse: 8.6501e-05 - mae: 0.0053\n",
      "Epoch 60/300\n",
      "1430/1430 - 5s - loss: 2.0753e-04 - mse: 2.0753e-04 - mae: 0.0088\n",
      "Epoch 61/300\n",
      "1430/1430 - 5s - loss: 1.6737e-04 - mse: 1.6737e-04 - mae: 0.0079\n",
      "Epoch 62/300\n",
      "1430/1430 - 5s - loss: 1.7634e-04 - mse: 1.7634e-04 - mae: 0.0085\n",
      "Epoch 63/300\n",
      "1430/1430 - 5s - loss: 1.7427e-04 - mse: 1.7427e-04 - mae: 0.0091\n",
      "Epoch 64/300\n",
      "1430/1430 - 5s - loss: 1.1126e-04 - mse: 1.1126e-04 - mae: 0.0077\n",
      "Epoch 65/300\n",
      "1430/1430 - 5s - loss: 1.4680e-04 - mse: 1.4680e-04 - mae: 0.0080\n",
      "Epoch 66/300\n",
      "1430/1430 - 5s - loss: 1.2115e-04 - mse: 1.2115e-04 - mae: 0.0061\n",
      "Epoch 67/300\n",
      "1430/1430 - 5s - loss: 1.3837e-04 - mse: 1.3837e-04 - mae: 0.0074\n",
      "Epoch 68/300\n",
      "1430/1430 - 5s - loss: 1.2691e-04 - mse: 1.2691e-04 - mae: 0.0094\n",
      "Epoch 69/300\n",
      "1430/1430 - 5s - loss: 2.4465e-04 - mse: 2.4465e-04 - mae: 0.0110\n",
      "Epoch 70/300\n",
      "1430/1430 - 5s - loss: 2.5570e-04 - mse: 2.5570e-04 - mae: 0.0115\n",
      "Epoch 71/300\n",
      "1430/1430 - 5s - loss: 2.6105e-04 - mse: 2.6105e-04 - mae: 0.0119\n",
      "Epoch 72/300\n",
      "1430/1430 - 5s - loss: 2.7937e-04 - mse: 2.7937e-04 - mae: 0.0124\n",
      "Epoch 73/300\n",
      "1430/1430 - 5s - loss: 5.3800e-04 - mse: 5.3800e-04 - mae: 0.0162\n",
      "Epoch 74/300\n",
      "1430/1430 - 5s - loss: 8.5051e-04 - mse: 8.5051e-04 - mae: 0.0164\n",
      "Epoch 75/300\n",
      "1430/1430 - 5s - loss: 9.7468e-04 - mse: 9.7468e-04 - mae: 0.0156\n",
      "Epoch 76/300\n",
      "1430/1430 - 5s - loss: 8.6114e-04 - mse: 8.6114e-04 - mae: 0.0148\n",
      "Epoch 77/300\n",
      "1430/1430 - 5s - loss: 0.0015 - mse: 0.0015 - mae: 0.0158\n",
      "Epoch 78/300\n",
      "1430/1430 - 5s - loss: 0.0010 - mse: 0.0010 - mae: 0.0159\n",
      "Epoch 79/300\n",
      "1430/1430 - 5s - loss: 9.1973e-04 - mse: 9.1973e-04 - mae: 0.0144\n",
      "Epoch 80/300\n",
      "1430/1430 - 5s - loss: 0.0011 - mse: 0.0011 - mae: 0.0158\n",
      "Epoch 81/300\n",
      "1430/1430 - 5s - loss: 0.0015 - mse: 0.0015 - mae: 0.0168\n",
      "Epoch 82/300\n",
      "1430/1430 - 5s - loss: 0.0012 - mse: 0.0012 - mae: 0.0154\n",
      "Epoch 83/300\n",
      "1430/1430 - 5s - loss: 0.0014 - mse: 0.0014 - mae: 0.0151\n",
      "Epoch 84/300\n",
      "1430/1430 - 5s - loss: 0.0035 - mse: 0.0035 - mae: 0.0228\n",
      "Epoch 85/300\n",
      "1430/1430 - 5s - loss: 0.0021 - mse: 0.0021 - mae: 0.0239\n",
      "Epoch 86/300\n",
      "1430/1430 - 5s - loss: 7.9904e-04 - mse: 7.9904e-04 - mae: 0.0173\n",
      "Epoch 87/300\n",
      "1430/1430 - 5s - loss: 0.0016 - mse: 0.0016 - mae: 0.0182\n",
      "Epoch 88/300\n",
      "1430/1430 - 5s - loss: 9.4415e-04 - mse: 9.4415e-04 - mae: 0.0149\n",
      "Epoch 89/300\n",
      "1430/1430 - 5s - loss: 7.7870e-04 - mse: 7.7870e-04 - mae: 0.0163\n",
      "Epoch 90/300\n",
      "1430/1430 - 5s - loss: 9.9413e-04 - mse: 9.9413e-04 - mae: 0.0172\n",
      "Epoch 91/300\n",
      "1430/1430 - 5s - loss: 4.8050e-04 - mse: 4.8050e-04 - mae: 0.0133\n",
      "Epoch 92/300\n",
      "1430/1430 - 5s - loss: 4.0387e-04 - mse: 4.0387e-04 - mae: 0.0141\n",
      "Epoch 93/300\n",
      "1430/1430 - 5s - loss: 2.3524e-04 - mse: 2.3524e-04 - mae: 0.0099\n",
      "Epoch 94/300\n",
      "1430/1430 - 5s - loss: 1.5917e-04 - mse: 1.5917e-04 - mae: 0.0077\n",
      "Epoch 95/300\n",
      "1430/1430 - 5s - loss: 1.6066e-04 - mse: 1.6066e-04 - mae: 0.0068\n",
      "Epoch 96/300\n",
      "1430/1430 - 5s - loss: 2.5400e-04 - mse: 2.5400e-04 - mae: 0.0081\n",
      "Epoch 97/300\n",
      "1430/1430 - 5s - loss: 1.3952e-04 - mse: 1.3952e-04 - mae: 0.0079\n",
      "Epoch 98/300\n",
      "1430/1430 - 5s - loss: 2.3212e-04 - mse: 2.3212e-04 - mae: 0.0092\n",
      "Epoch 99/300\n",
      "1430/1430 - 5s - loss: 1.4810e-04 - mse: 1.4810e-04 - mae: 0.0076\n",
      "Epoch 100/300\n",
      "1430/1430 - 5s - loss: 1.7611e-04 - mse: 1.7611e-04 - mae: 0.0081\n",
      "Epoch 101/300\n",
      "1430/1430 - 5s - loss: 6.3905e-05 - mse: 6.3905e-05 - mae: 0.0048\n",
      "Epoch 102/300\n",
      "1430/1430 - 5s - loss: 1.0064e-04 - mse: 1.0064e-04 - mae: 0.0044\n",
      "Epoch 103/300\n",
      "1430/1430 - 5s - loss: 6.2520e-05 - mse: 6.2520e-05 - mae: 0.0032\n",
      "Epoch 104/300\n",
      "1430/1430 - 5s - loss: 9.8266e-05 - mse: 9.8266e-05 - mae: 0.0045\n",
      "Epoch 105/300\n",
      "1430/1430 - 5s - loss: 5.0686e-05 - mse: 5.0686e-05 - mae: 0.0043\n",
      "Epoch 106/300\n",
      "1430/1430 - 5s - loss: 1.0372e-04 - mse: 1.0372e-04 - mae: 0.0055\n"
     ]
    },
    {
     "name": "stdout",
     "output_type": "stream",
     "text": [
      "Epoch 107/300\n",
      "1430/1430 - 5s - loss: 6.8808e-05 - mse: 6.8808e-05 - mae: 0.0043\n",
      "Epoch 108/300\n",
      "1430/1430 - 5s - loss: 1.0121e-04 - mse: 1.0121e-04 - mae: 0.0050\n",
      "Epoch 109/300\n",
      "1430/1430 - 5s - loss: 5.0575e-05 - mse: 5.0575e-05 - mae: 0.0031\n",
      "Epoch 110/300\n",
      "1430/1430 - 5s - loss: 1.1894e-04 - mse: 1.1894e-04 - mae: 0.0037\n",
      "Epoch 111/300\n",
      "1430/1430 - 5s - loss: 1.0051e-04 - mse: 1.0051e-04 - mae: 0.0040\n",
      "Epoch 112/300\n",
      "1430/1430 - 5s - loss: 1.7261e-04 - mse: 1.7261e-04 - mae: 0.0063\n",
      "Epoch 113/300\n",
      "1430/1430 - 5s - loss: 9.2237e-05 - mse: 9.2237e-05 - mae: 0.0052\n",
      "Epoch 114/300\n",
      "1430/1430 - 5s - loss: 2.2118e-04 - mse: 2.2118e-04 - mae: 0.0074\n",
      "Epoch 115/300\n",
      "1430/1430 - 5s - loss: 1.5792e-04 - mse: 1.5792e-04 - mae: 0.0057\n",
      "Epoch 116/300\n",
      "1430/1430 - 5s - loss: 2.6375e-04 - mse: 2.6375e-04 - mae: 0.0062\n",
      "Epoch 117/300\n",
      "1430/1430 - 5s - loss: 1.4126e-04 - mse: 1.4126e-04 - mae: 0.0048\n",
      "Epoch 118/300\n",
      "1430/1430 - 5s - loss: 2.9423e-04 - mse: 2.9423e-04 - mae: 0.0070\n",
      "Epoch 119/300\n",
      "1430/1430 - 5s - loss: 2.4227e-04 - mse: 2.4227e-04 - mae: 0.0074\n",
      "Epoch 120/300\n",
      "1430/1430 - 5s - loss: 3.4279e-04 - mse: 3.4279e-04 - mae: 0.0095\n",
      "Epoch 121/300\n",
      "1430/1430 - 5s - loss: 2.1779e-04 - mse: 2.1779e-04 - mae: 0.0085\n",
      "Epoch 122/300\n",
      "1430/1430 - 5s - loss: 2.8685e-04 - mse: 2.8685e-04 - mae: 0.0078\n",
      "Epoch 123/300\n",
      "1430/1430 - 5s - loss: 2.7694e-04 - mse: 2.7694e-04 - mae: 0.0067\n",
      "Epoch 124/300\n",
      "1430/1430 - 5s - loss: 3.0472e-04 - mse: 3.0472e-04 - mae: 0.0082\n",
      "Epoch 125/300\n",
      "1430/1430 - 5s - loss: 2.0285e-04 - mse: 2.0285e-04 - mae: 0.0073\n",
      "Epoch 126/300\n",
      "1430/1430 - 5s - loss: 1.9739e-04 - mse: 1.9739e-04 - mae: 0.0088\n",
      "Epoch 127/300\n",
      "1430/1430 - 5s - loss: 2.2200e-04 - mse: 2.2200e-04 - mae: 0.0088\n",
      "Epoch 128/300\n",
      "1430/1430 - 5s - loss: 2.0980e-04 - mse: 2.0980e-04 - mae: 0.0086\n",
      "Epoch 129/300\n",
      "1430/1430 - 5s - loss: 1.5807e-04 - mse: 1.5807e-04 - mae: 0.0073\n",
      "Epoch 130/300\n",
      "1430/1430 - 5s - loss: 1.3194e-04 - mse: 1.3194e-04 - mae: 0.0072\n",
      "Epoch 131/300\n",
      "1430/1430 - 5s - loss: 2.1808e-04 - mse: 2.1808e-04 - mae: 0.0088\n",
      "Epoch 132/300\n",
      "1430/1430 - 5s - loss: 1.8359e-04 - mse: 1.8359e-04 - mae: 0.0095\n",
      "Epoch 133/300\n",
      "1430/1430 - 5s - loss: 2.4098e-04 - mse: 2.4098e-04 - mae: 0.0117\n",
      "Epoch 134/300\n",
      "1430/1430 - 5s - loss: 1.7748e-04 - mse: 1.7748e-04 - mae: 0.0101\n",
      "Epoch 135/300\n",
      "1430/1430 - 5s - loss: 2.9004e-04 - mse: 2.9004e-04 - mae: 0.0118\n",
      "Epoch 136/300\n",
      "1430/1430 - 5s - loss: 3.5422e-04 - mse: 3.5422e-04 - mae: 0.0136\n",
      "Epoch 137/300\n",
      "1430/1430 - 5s - loss: 3.8883e-04 - mse: 3.8883e-04 - mae: 0.0129\n",
      "Epoch 138/300\n",
      "1430/1430 - 5s - loss: 3.1645e-04 - mse: 3.1645e-04 - mae: 0.0124\n",
      "Epoch 139/300\n",
      "1430/1430 - 5s - loss: 4.3461e-04 - mse: 4.3461e-04 - mae: 0.0140\n",
      "Epoch 140/300\n",
      "1430/1430 - 5s - loss: 5.6193e-04 - mse: 5.6193e-04 - mae: 0.0181\n",
      "Epoch 141/300\n",
      "1430/1430 - 5s - loss: 4.6899e-04 - mse: 4.6899e-04 - mae: 0.0169\n",
      "Epoch 142/300\n",
      "1430/1430 - 5s - loss: 3.0767e-04 - mse: 3.0767e-04 - mae: 0.0133\n",
      "Epoch 143/300\n",
      "1430/1430 - 5s - loss: 1.8050e-04 - mse: 1.8050e-04 - mae: 0.0091\n",
      "Epoch 144/300\n",
      "1430/1430 - 5s - loss: 1.7030e-04 - mse: 1.7030e-04 - mae: 0.0082\n",
      "Epoch 145/300\n",
      "1430/1430 - 5s - loss: 2.1896e-04 - mse: 2.1896e-04 - mae: 0.0084\n",
      "Epoch 146/300\n",
      "1430/1430 - 5s - loss: 1.4669e-04 - mse: 1.4669e-04 - mae: 0.0060\n",
      "Epoch 147/300\n",
      "1430/1430 - 5s - loss: 1.0781e-04 - mse: 1.0781e-04 - mae: 0.0047\n",
      "Epoch 148/300\n",
      "1430/1430 - 5s - loss: 9.5195e-05 - mse: 9.5195e-05 - mae: 0.0041\n",
      "Epoch 149/300\n",
      "1430/1430 - 5s - loss: 2.2959e-04 - mse: 2.2959e-04 - mae: 0.0067\n",
      "Epoch 150/300\n",
      "1430/1430 - 5s - loss: 2.0536e-04 - mse: 2.0536e-04 - mae: 0.0076\n",
      "Epoch 151/300\n",
      "1430/1430 - 5s - loss: 2.9494e-04 - mse: 2.9494e-04 - mae: 0.0090\n",
      "Epoch 152/300\n",
      "1430/1430 - 5s - loss: 1.5358e-04 - mse: 1.5358e-04 - mae: 0.0066\n",
      "Epoch 153/300\n",
      "1430/1430 - 5s - loss: 1.9680e-04 - mse: 1.9680e-04 - mae: 0.0087\n",
      "Epoch 154/300\n",
      "1430/1430 - 5s - loss: 1.8106e-04 - mse: 1.8106e-04 - mae: 0.0081\n",
      "Epoch 155/300\n",
      "1430/1430 - 5s - loss: 1.2236e-04 - mse: 1.2236e-04 - mae: 0.0057\n",
      "Epoch 156/300\n",
      "1430/1430 - 5s - loss: 1.4484e-04 - mse: 1.4484e-04 - mae: 0.0055\n",
      "Epoch 157/300\n",
      "1430/1430 - 5s - loss: 6.9426e-05 - mse: 6.9426e-05 - mae: 0.0034\n",
      "Epoch 158/300\n",
      "1430/1430 - 5s - loss: 2.1394e-04 - mse: 2.1394e-04 - mae: 0.0055\n",
      "Epoch 159/300\n",
      "1430/1430 - 5s - loss: 1.5118e-04 - mse: 1.5118e-04 - mae: 0.0049\n",
      "Epoch 160/300\n",
      "1430/1430 - 5s - loss: 2.0147e-04 - mse: 2.0147e-04 - mae: 0.0070\n",
      "Epoch 161/300\n",
      "1430/1430 - 5s - loss: 1.0499e-04 - mse: 1.0499e-04 - mae: 0.0053\n",
      "Epoch 162/300\n",
      "1430/1430 - 5s - loss: 1.1313e-04 - mse: 1.1313e-04 - mae: 0.0058\n",
      "Epoch 163/300\n",
      "1430/1430 - 5s - loss: 1.4896e-04 - mse: 1.4896e-04 - mae: 0.0063\n",
      "Epoch 164/300\n",
      "1430/1430 - 5s - loss: 9.7106e-05 - mse: 9.7106e-05 - mae: 0.0041\n",
      "Epoch 165/300\n",
      "1430/1430 - 5s - loss: 1.4610e-04 - mse: 1.4610e-04 - mae: 0.0046\n",
      "Epoch 166/300\n",
      "1430/1430 - 5s - loss: 6.7860e-05 - mse: 6.7860e-05 - mae: 0.0031\n",
      "Epoch 167/300\n",
      "1430/1430 - 5s - loss: 1.5277e-04 - mse: 1.5277e-04 - mae: 0.0055\n",
      "Epoch 168/300\n",
      "1430/1430 - 5s - loss: 1.0672e-04 - mse: 1.0672e-04 - mae: 0.0050\n",
      "Epoch 169/300\n",
      "1430/1430 - 5s - loss: 1.1758e-04 - mse: 1.1758e-04 - mae: 0.0059\n",
      "Epoch 170/300\n",
      "1430/1430 - 5s - loss: 1.0741e-04 - mse: 1.0741e-04 - mae: 0.0056\n",
      "Epoch 171/300\n",
      "1430/1430 - 5s - loss: 7.4380e-05 - mse: 7.4380e-05 - mae: 0.0043\n",
      "Epoch 172/300\n",
      "1430/1430 - 5s - loss: 1.7407e-04 - mse: 1.7407e-04 - mae: 0.0048\n",
      "Epoch 173/300\n",
      "1430/1430 - 5s - loss: 1.2397e-04 - mse: 1.2397e-04 - mae: 0.0041\n",
      "Epoch 174/300\n",
      "1430/1430 - 5s - loss: 2.0257e-04 - mse: 2.0257e-04 - mae: 0.0065\n",
      "Epoch 175/300\n",
      "1430/1430 - 5s - loss: 1.1082e-04 - mse: 1.1082e-04 - mae: 0.0052\n",
      "Epoch 176/300\n",
      "1430/1430 - 5s - loss: 1.4119e-04 - mse: 1.4119e-04 - mae: 0.0073\n",
      "Epoch 177/300\n",
      "1430/1430 - 5s - loss: 1.6275e-04 - mse: 1.6275e-04 - mae: 0.0079\n",
      "Epoch 178/300\n",
      "1430/1430 - 5s - loss: 1.1963e-04 - mse: 1.1963e-04 - mae: 0.0067\n",
      "Epoch 179/300\n",
      "1430/1430 - 5s - loss: 1.0550e-04 - mse: 1.0550e-04 - mae: 0.0063\n",
      "Epoch 180/300\n",
      "1430/1430 - 5s - loss: 1.6885e-04 - mse: 1.6885e-04 - mae: 0.0058\n",
      "Epoch 181/300\n",
      "1430/1430 - 5s - loss: 1.4150e-04 - mse: 1.4150e-04 - mae: 0.0064\n",
      "Epoch 182/300\n",
      "1430/1430 - 5s - loss: 2.8943e-04 - mse: 2.8943e-04 - mae: 0.0078\n",
      "Epoch 183/300\n",
      "1430/1430 - 5s - loss: 2.1895e-04 - mse: 2.1895e-04 - mae: 0.0086\n",
      "Epoch 184/300\n",
      "1430/1430 - 5s - loss: 2.5190e-04 - mse: 2.5190e-04 - mae: 0.0106\n",
      "Epoch 185/300\n",
      "1430/1430 - 5s - loss: 2.8201e-04 - mse: 2.8201e-04 - mae: 0.0118\n",
      "Epoch 186/300\n",
      "1430/1430 - 5s - loss: 2.6468e-04 - mse: 2.6468e-04 - mae: 0.0126\n",
      "Epoch 187/300\n",
      "1430/1430 - 5s - loss: 4.0308e-04 - mse: 4.0308e-04 - mae: 0.0141\n",
      "Epoch 188/300\n",
      "1430/1430 - 5s - loss: 2.6368e-04 - mse: 2.6368e-04 - mae: 0.0111\n",
      "Epoch 189/300\n",
      "1430/1430 - 5s - loss: 2.7728e-04 - mse: 2.7728e-04 - mae: 0.0103\n",
      "Epoch 190/300\n",
      "1430/1430 - 5s - loss: 1.7085e-04 - mse: 1.7085e-04 - mae: 0.0082\n",
      "Epoch 191/300\n",
      "1430/1430 - 5s - loss: 2.8219e-04 - mse: 2.8219e-04 - mae: 0.0098\n",
      "Epoch 192/300\n",
      "1430/1430 - 5s - loss: 2.9089e-04 - mse: 2.9089e-04 - mae: 0.0115\n",
      "Epoch 193/300\n",
      "1430/1430 - 5s - loss: 2.8580e-04 - mse: 2.8580e-04 - mae: 0.0126\n",
      "Epoch 194/300\n",
      "1430/1430 - 5s - loss: 2.8841e-04 - mse: 2.8841e-04 - mae: 0.0118\n",
      "Epoch 195/300\n",
      "1430/1430 - 5s - loss: 2.3332e-04 - mse: 2.3332e-04 - mae: 0.0110\n",
      "Epoch 196/300\n",
      "1430/1430 - 5s - loss: 2.1703e-04 - mse: 2.1703e-04 - mae: 0.0109\n",
      "Epoch 197/300\n",
      "1430/1430 - 5s - loss: 1.6518e-04 - mse: 1.6518e-04 - mae: 0.0096\n",
      "Epoch 198/300\n",
      "1430/1430 - 5s - loss: 2.0627e-04 - mse: 2.0627e-04 - mae: 0.0088\n",
      "Epoch 199/300\n",
      "1430/1430 - 5s - loss: 2.1764e-04 - mse: 2.1763e-04 - mae: 0.0097\n",
      "Epoch 200/300\n",
      "1430/1430 - 5s - loss: 2.9407e-04 - mse: 2.9407e-04 - mae: 0.0108\n",
      "Epoch 201/300\n",
      "1430/1430 - 5s - loss: 1.9837e-04 - mse: 1.9837e-04 - mae: 0.0103\n",
      "Epoch 202/300\n",
      "1430/1430 - 5s - loss: 1.8854e-04 - mse: 1.8854e-04 - mae: 0.0097\n",
      "Epoch 203/300\n",
      "1430/1430 - 5s - loss: 2.3863e-04 - mse: 2.3863e-04 - mae: 0.0114\n",
      "Epoch 204/300\n",
      "1430/1430 - 5s - loss: 2.0954e-04 - mse: 2.0954e-04 - mae: 0.0119\n",
      "Epoch 205/300\n",
      "1430/1430 - 5s - loss: 2.3574e-04 - mse: 2.3574e-04 - mae: 0.0118\n",
      "Epoch 206/300\n",
      "1430/1430 - 5s - loss: 1.6936e-04 - mse: 1.6936e-04 - mae: 0.0094\n",
      "Epoch 207/300\n",
      "1430/1430 - 5s - loss: 1.0884e-04 - mse: 1.0884e-04 - mae: 0.0080\n",
      "Epoch 208/300\n",
      "1430/1430 - 5s - loss: 7.7653e-05 - mse: 7.7653e-05 - mae: 0.0069\n",
      "Epoch 209/300\n",
      "1430/1430 - 5s - loss: 4.3570e-05 - mse: 4.3570e-05 - mae: 0.0051\n"
     ]
    },
    {
     "name": "stdout",
     "output_type": "stream",
     "text": [
      "Epoch 210/300\n",
      "1430/1430 - 5s - loss: 2.5918e-05 - mse: 2.5918e-05 - mae: 0.0040\n",
      "Epoch 211/300\n",
      "1430/1430 - 5s - loss: 2.2459e-05 - mse: 2.2459e-05 - mae: 0.0035\n",
      "Epoch 212/300\n",
      "1430/1430 - 5s - loss: 1.4746e-05 - mse: 1.4746e-05 - mae: 0.0027\n",
      "Epoch 213/300\n",
      "1430/1430 - 5s - loss: 1.1771e-05 - mse: 1.1771e-05 - mae: 0.0022\n",
      "Epoch 214/300\n",
      "1430/1430 - 5s - loss: 1.0116e-05 - mse: 1.0116e-05 - mae: 0.0017\n",
      "Epoch 215/300\n",
      "1430/1430 - 5s - loss: 7.0849e-06 - mse: 7.0849e-06 - mae: 0.0013\n",
      "Epoch 216/300\n",
      "1430/1430 - 5s - loss: 1.4994e-05 - mse: 1.4994e-05 - mae: 0.0017\n",
      "Epoch 217/300\n",
      "1430/1430 - 5s - loss: 1.8061e-05 - mse: 1.8061e-05 - mae: 0.0020\n",
      "Epoch 218/300\n",
      "1430/1430 - 5s - loss: 1.8597e-05 - mse: 1.8597e-05 - mae: 0.0024\n",
      "Epoch 219/300\n",
      "1430/1430 - 5s - loss: 3.6949e-05 - mse: 3.6949e-05 - mae: 0.0033\n",
      "Epoch 220/300\n",
      "1430/1430 - 5s - loss: 3.7782e-05 - mse: 3.7782e-05 - mae: 0.0035\n",
      "Epoch 221/300\n",
      "1430/1430 - 5s - loss: 3.6803e-05 - mse: 3.6803e-05 - mae: 0.0040\n",
      "Epoch 222/300\n",
      "1430/1430 - 5s - loss: 9.7884e-05 - mse: 9.7884e-05 - mae: 0.0058\n",
      "Epoch 223/300\n",
      "1430/1430 - 5s - loss: 1.2499e-04 - mse: 1.2499e-04 - mae: 0.0060\n",
      "Epoch 224/300\n",
      "1430/1430 - 5s - loss: 1.2414e-04 - mse: 1.2414e-04 - mae: 0.0056\n",
      "Epoch 225/300\n",
      "1430/1430 - 5s - loss: 2.4783e-04 - mse: 2.4783e-04 - mae: 0.0073\n",
      "Epoch 226/300\n",
      "1430/1430 - 5s - loss: 1.9428e-04 - mse: 1.9428e-04 - mae: 0.0066\n",
      "Epoch 227/300\n",
      "1430/1430 - 5s - loss: 1.5968e-04 - mse: 1.5968e-04 - mae: 0.0065\n",
      "Epoch 228/300\n",
      "1430/1430 - 5s - loss: 4.8479e-04 - mse: 4.8479e-04 - mae: 0.0100\n",
      "Epoch 229/300\n",
      "1430/1430 - 5s - loss: 4.0877e-04 - mse: 4.0877e-04 - mae: 0.0096\n",
      "Epoch 230/300\n",
      "1430/1430 - 5s - loss: 2.8938e-04 - mse: 2.8938e-04 - mae: 0.0086\n",
      "Epoch 231/300\n",
      "1430/1430 - 5s - loss: 1.9559e-04 - mse: 1.9559e-04 - mae: 0.0070\n",
      "Epoch 232/300\n",
      "1430/1430 - 5s - loss: 7.8552e-05 - mse: 7.8552e-05 - mae: 0.0049\n",
      "Epoch 233/300\n",
      "1430/1430 - 5s - loss: 1.4905e-04 - mse: 1.4905e-04 - mae: 0.0055\n",
      "Epoch 234/300\n",
      "1430/1430 - 5s - loss: 7.7207e-05 - mse: 7.7207e-05 - mae: 0.0037\n",
      "Epoch 235/300\n",
      "1430/1430 - 5s - loss: 7.1987e-05 - mse: 7.1987e-05 - mae: 0.0043\n",
      "Epoch 236/300\n",
      "1430/1430 - 5s - loss: 3.0908e-05 - mse: 3.0908e-05 - mae: 0.0027\n",
      "Epoch 237/300\n",
      "1430/1430 - 5s - loss: 1.5057e-05 - mse: 1.5057e-05 - mae: 0.0022\n",
      "Epoch 238/300\n",
      "1430/1430 - 5s - loss: 2.1759e-05 - mse: 2.1759e-05 - mae: 0.0025\n",
      "Epoch 239/300\n",
      "1430/1430 - 5s - loss: 1.1174e-05 - mse: 1.1174e-05 - mae: 0.0017\n",
      "Epoch 240/300\n",
      "1430/1430 - 5s - loss: 1.1635e-05 - mse: 1.1635e-05 - mae: 0.0015\n",
      "Epoch 241/300\n",
      "1430/1430 - 5s - loss: 1.0398e-05 - mse: 1.0398e-05 - mae: 0.0013\n",
      "Epoch 242/300\n",
      "1430/1430 - 5s - loss: 5.4554e-06 - mse: 5.4554e-06 - mae: 0.0011\n",
      "Epoch 243/300\n",
      "1430/1430 - 5s - loss: 8.9733e-06 - mse: 8.9733e-06 - mae: 0.0017\n",
      "Epoch 244/300\n",
      "1430/1430 - 5s - loss: 1.1058e-05 - mse: 1.1058e-05 - mae: 0.0018\n",
      "Epoch 245/300\n",
      "1430/1430 - 5s - loss: 6.7069e-06 - mse: 6.7069e-06 - mae: 0.0015\n",
      "Epoch 246/300\n",
      "1430/1430 - 5s - loss: 9.3534e-06 - mse: 9.3534e-06 - mae: 0.0018\n",
      "Epoch 247/300\n",
      "1430/1430 - 5s - loss: 9.0357e-06 - mse: 9.0357e-06 - mae: 0.0017\n",
      "Epoch 248/300\n",
      "1430/1430 - 5s - loss: 7.4948e-06 - mse: 7.4948e-06 - mae: 0.0015\n",
      "Epoch 249/300\n",
      "1430/1430 - 5s - loss: 1.4852e-05 - mse: 1.4852e-05 - mae: 0.0017\n",
      "Epoch 250/300\n",
      "1430/1430 - 5s - loss: 1.7079e-05 - mse: 1.7079e-05 - mae: 0.0018\n",
      "Epoch 251/300\n",
      "1430/1430 - 5s - loss: 1.7502e-05 - mse: 1.7502e-05 - mae: 0.0025\n",
      "Epoch 252/300\n",
      "1430/1430 - 5s - loss: 3.6154e-05 - mse: 3.6154e-05 - mae: 0.0035\n",
      "Epoch 253/300\n",
      "1430/1430 - 5s - loss: 3.7217e-05 - mse: 3.7217e-05 - mae: 0.0036\n",
      "Epoch 254/300\n",
      "1430/1430 - 5s - loss: 3.5682e-05 - mse: 3.5682e-05 - mae: 0.0040\n",
      "Epoch 255/300\n",
      "1430/1430 - 5s - loss: 7.1053e-05 - mse: 7.1053e-05 - mae: 0.0052\n",
      "Epoch 256/300\n",
      "1430/1430 - 5s - loss: 9.3045e-05 - mse: 9.3045e-05 - mae: 0.0052\n",
      "Epoch 257/300\n",
      "1430/1430 - 5s - loss: 8.7491e-05 - mse: 8.7491e-05 - mae: 0.0048\n",
      "Epoch 258/300\n",
      "1430/1430 - 5s - loss: 1.6099e-04 - mse: 1.6099e-04 - mae: 0.0050\n",
      "Epoch 259/300\n",
      "1430/1430 - 5s - loss: 2.0662e-04 - mse: 2.0662e-04 - mae: 0.0053\n",
      "Epoch 260/300\n",
      "1430/1430 - 5s - loss: 1.8067e-04 - mse: 1.8067e-04 - mae: 0.0074\n",
      "Epoch 261/300\n",
      "1430/1430 - 5s - loss: 1.8840e-04 - mse: 1.8840e-04 - mae: 0.0084\n",
      "Epoch 262/300\n",
      "1430/1430 - 5s - loss: 5.4763e-04 - mse: 5.4763e-04 - mae: 0.0136\n",
      "Epoch 263/300\n",
      "1430/1430 - 5s - loss: 5.4466e-04 - mse: 5.4466e-04 - mae: 0.0150\n",
      "Epoch 264/300\n",
      "1430/1430 - 5s - loss: 3.4104e-04 - mse: 3.4104e-04 - mae: 0.0139\n",
      "Epoch 265/300\n",
      "1430/1430 - 5s - loss: 2.6903e-04 - mse: 2.6903e-04 - mae: 0.0124\n",
      "Epoch 266/300\n",
      "1430/1430 - 5s - loss: 2.8124e-04 - mse: 2.8124e-04 - mae: 0.0123\n",
      "Epoch 267/300\n",
      "1430/1430 - 5s - loss: 1.8370e-04 - mse: 1.8370e-04 - mae: 0.0098\n",
      "Epoch 268/300\n",
      "1430/1430 - 5s - loss: 1.8771e-04 - mse: 1.8771e-04 - mae: 0.0095\n",
      "Epoch 269/300\n",
      "1430/1430 - 5s - loss: 1.7343e-04 - mse: 1.7343e-04 - mae: 0.0088\n",
      "Epoch 270/300\n",
      "1430/1430 - 5s - loss: 1.5858e-04 - mse: 1.5858e-04 - mae: 0.0095\n",
      "Epoch 271/300\n",
      "1430/1430 - 5s - loss: 1.5770e-04 - mse: 1.5770e-04 - mae: 0.0099\n",
      "Epoch 272/300\n",
      "1430/1430 - 5s - loss: 1.6129e-04 - mse: 1.6129e-04 - mae: 0.0102\n",
      "Epoch 273/300\n",
      "1430/1430 - 5s - loss: 1.5559e-04 - mse: 1.5559e-04 - mae: 0.0101\n",
      "Epoch 274/300\n",
      "1430/1430 - 5s - loss: 2.0644e-04 - mse: 2.0644e-04 - mae: 0.0106\n",
      "Epoch 275/300\n",
      "1430/1430 - 5s - loss: 1.9871e-04 - mse: 1.9871e-04 - mae: 0.0112\n",
      "Epoch 276/300\n",
      "1430/1430 - 5s - loss: 1.9425e-04 - mse: 1.9425e-04 - mae: 0.0115\n",
      "Epoch 277/300\n",
      "1430/1430 - 5s - loss: 1.7862e-04 - mse: 1.7862e-04 - mae: 0.0107\n",
      "Epoch 278/300\n",
      "1430/1430 - 5s - loss: 1.4961e-04 - mse: 1.4961e-04 - mae: 0.0098\n",
      "Epoch 279/300\n",
      "1430/1430 - 5s - loss: 1.2018e-04 - mse: 1.2018e-04 - mae: 0.0087\n",
      "Epoch 280/300\n",
      "1430/1430 - 5s - loss: 9.3660e-05 - mse: 9.3660e-05 - mae: 0.0077\n",
      "Epoch 281/300\n",
      "1430/1430 - 5s - loss: 8.1663e-05 - mse: 8.1663e-05 - mae: 0.0067\n",
      "Epoch 282/300\n",
      "1430/1430 - 5s - loss: 6.1893e-05 - mse: 6.1893e-05 - mae: 0.0057\n",
      "Epoch 283/300\n",
      "1430/1430 - 5s - loss: 4.9327e-05 - mse: 4.9327e-05 - mae: 0.0052\n",
      "Epoch 284/300\n",
      "1430/1430 - 5s - loss: 4.7869e-05 - mse: 4.7869e-05 - mae: 0.0051\n",
      "Epoch 285/300\n",
      "1430/1430 - 5s - loss: 4.4024e-05 - mse: 4.4024e-05 - mae: 0.0048\n",
      "Epoch 286/300\n",
      "1430/1430 - 5s - loss: 3.0453e-05 - mse: 3.0453e-05 - mae: 0.0040\n",
      "Epoch 287/300\n",
      "1430/1430 - 5s - loss: 2.6176e-05 - mse: 2.6176e-05 - mae: 0.0036\n",
      "Epoch 288/300\n",
      "1430/1430 - 5s - loss: 3.2120e-05 - mse: 3.2120e-05 - mae: 0.0036\n",
      "Epoch 289/300\n",
      "1430/1430 - 5s - loss: 2.6572e-05 - mse: 2.6572e-05 - mae: 0.0030\n",
      "Epoch 290/300\n",
      "1430/1430 - 5s - loss: 2.5384e-05 - mse: 2.5384e-05 - mae: 0.0029\n",
      "Epoch 291/300\n",
      "1430/1430 - 5s - loss: 3.6708e-05 - mse: 3.6708e-05 - mae: 0.0033\n",
      "Epoch 292/300\n",
      "1430/1430 - 6s - loss: 3.5556e-05 - mse: 3.5556e-05 - mae: 0.0032\n",
      "Epoch 293/300\n",
      "1430/1430 - 5s - loss: 3.0986e-05 - mse: 3.0986e-05 - mae: 0.0031\n",
      "Epoch 294/300\n",
      "1430/1430 - 5s - loss: 6.7055e-05 - mse: 6.7055e-05 - mae: 0.0042\n",
      "Epoch 295/300\n",
      "1430/1430 - 5s - loss: 9.1294e-05 - mse: 9.1294e-05 - mae: 0.0045\n",
      "Epoch 296/300\n",
      "1430/1430 - 5s - loss: 6.8004e-05 - mse: 6.8004e-05 - mae: 0.0041\n",
      "Epoch 297/300\n",
      "1430/1430 - 5s - loss: 1.0660e-04 - mse: 1.0660e-04 - mae: 0.0055\n",
      "Epoch 298/300\n",
      "1430/1430 - 5s - loss: 1.3998e-04 - mse: 1.3998e-04 - mae: 0.0063\n",
      "Epoch 299/300\n",
      "1430/1430 - 5s - loss: 9.8523e-05 - mse: 9.8523e-05 - mae: 0.0059\n",
      "Epoch 300/300\n",
      "1430/1430 - 5s - loss: 1.7270e-04 - mse: 1.7270e-04 - mae: 0.0076\n"
     ]
    },
    {
     "data": {
      "text/plain": [
       "<tensorflow.python.keras.callbacks.History at 0x1a3a5d8e80>"
      ]
     },
     "execution_count": 115,
     "metadata": {},
     "output_type": "execute_result"
    }
   ],
   "source": [
    "nn_model.fit(\n",
    "    X_train_scaled,\n",
    "    y_train_scaled,\n",
    "    epochs=300,\n",
    "    shuffle=False,\n",
    "    verbose=2\n",
    ")"
   ]
  },
  {
   "cell_type": "code",
   "execution_count": 118,
   "metadata": {},
   "outputs": [
    {
     "name": "stdout",
     "output_type": "stream",
     "text": [
      "477/477 - 0s - loss: 0.0025 - mse: 0.0025 - mae: 0.0320\n"
     ]
    },
    {
     "data": {
      "text/plain": [
       "[0.0024977298175224904, 0.0024977298, 0.031986564]"
      ]
     },
     "execution_count": 118,
     "metadata": {},
     "output_type": "execute_result"
    }
   ],
   "source": [
    "nn_model.evaluate(\n",
    "    X_test_scaled, y_test_scaled, verbose=2)"
   ]
  },
  {
   "cell_type": "code",
   "execution_count": null,
   "metadata": {},
   "outputs": [],
   "source": []
  }
 ],
 "metadata": {
  "kernel_info": {
   "name": "dev"
  },
  "kernelspec": {
   "display_name": "Python 3",
   "language": "python",
   "name": "python3"
  },
  "language_info": {
   "codemirror_mode": {
    "name": "ipython",
    "version": 3
   },
   "file_extension": ".py",
   "mimetype": "text/x-python",
   "name": "python",
   "nbconvert_exporter": "python",
   "pygments_lexer": "ipython3",
   "version": "3.7.3"
  },
  "nteract": {
   "version": "0.12.3"
  }
 },
 "nbformat": 4,
 "nbformat_minor": 2
}
