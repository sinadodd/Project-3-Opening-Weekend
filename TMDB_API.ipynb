{
 "cells": [
  {
   "cell_type": "markdown",
   "metadata": {},
   "source": [
    "## From movie titles, get movie IDs"
   ]
  },
  {
   "cell_type": "code",
   "execution_count": 48,
   "metadata": {},
   "outputs": [],
   "source": [
    "import requests\n",
    "import json\n",
    "from config import api_key\n",
    "import time\n",
    "    \n",
    "url = \"https://api.themoviedb.org/3/search/movie?api_key=\" + api_key + \"&language=en-US&query=\""
   ]
  },
  {
   "cell_type": "code",
   "execution_count": 49,
   "metadata": {},
   "outputs": [
    {
     "name": "stdout",
     "output_type": "stream",
     "text": [
      "The ID of Aliens is 679\n",
      "The ID of Sing is 335797\n",
      "The ID of Moana is 277834\n"
     ]
    }
   ],
   "source": [
    "movies = [\"Aliens\", \"Sing\", \"Moana\"]\n",
    "\n",
    "movie_ids = [];\n",
    "\n",
    "for movie in movies:\n",
    "    movie_data = requests.get(url + movie).json()\n",
    "#     movie_ids.append(movie_data)\n",
    "    movie_ids.append(movie_data[\"results\"][0][\"id\"])\n",
    "    print(f'The ID of {movie} is {movie_data[\"results\"][0][\"id\"]}')"
   ]
  },
  {
   "cell_type": "code",
   "execution_count": 50,
   "metadata": {},
   "outputs": [
    {
     "data": {
      "text/plain": [
       "[679, 335797, 277834]"
      ]
     },
     "execution_count": 50,
     "metadata": {},
     "output_type": "execute_result"
    }
   ],
   "source": [
    "movie_ids"
   ]
  },
  {
   "cell_type": "markdown",
   "metadata": {},
   "source": [
    "## from movie IDs, get info"
   ]
  },
  {
   "cell_type": "code",
   "execution_count": 44,
   "metadata": {},
   "outputs": [],
   "source": [
    "# url = \"https://api.themoviedb.org/3/movie/\"\n",
    "\n",
    "# query_url = f\"{url}{movie_ids}?api_key={api_key}&language=en-US\""
   ]
  },
  {
   "cell_type": "code",
   "execution_count": 52,
   "metadata": {
    "scrolled": true
   },
   "outputs": [
    {
     "name": "stdout",
     "output_type": "stream",
     "text": [
      "The budget of 679 is 18500000\n",
      "The budget of 335797 is 75000000\n",
      "The budget of 277834 is 150000000\n"
     ]
    }
   ],
   "source": [
    "results = []\n",
    "\n",
    "for each_id in movie_ids:\n",
    "    movie_data = requests.get(\"https://api.themoviedb.org/3/movie/\" + str(each_id) + \"?api_key=\" + api_key + \"&language=en-US\").json()\n",
    "    results.append(movie_data)\n",
    "    print(f'The budget of {each_id} is {movie_data[\"budget\"]}')"
   ]
  },
  {
   "cell_type": "code",
   "execution_count": 53,
   "metadata": {},
   "outputs": [
    {
     "data": {
      "text/plain": [
       "[{'adult': False,\n",
       "  'backdrop_path': '/fYoe6SqpNpTjUIIZhLGHfHu1Nt8.jpg',\n",
       "  'belongs_to_collection': {'id': 8091,\n",
       "   'name': 'Alien Collection',\n",
       "   'poster_path': '/iVzIeC3PbG9BtDAudpwSNdKAgh6.jpg',\n",
       "   'backdrop_path': '/kB0Y3uGe9ohJa59Lk8UO9cUOxGM.jpg'},\n",
       "  'budget': 18500000,\n",
       "  'genres': [{'id': 28, 'name': 'Action'},\n",
       "   {'id': 53, 'name': 'Thriller'},\n",
       "   {'id': 878, 'name': 'Science Fiction'}],\n",
       "  'homepage': None,\n",
       "  'id': 679,\n",
       "  'imdb_id': 'tt0090605',\n",
       "  'original_language': 'en',\n",
       "  'original_title': 'Aliens',\n",
       "  'overview': \"When Ripley's lifepod is found by a salvage crew over 50 years later, she finds that terra-formers are on the very planet they found the alien species. When the company sends a family of colonists out to investigate her story—all contact is lost with the planet and colonists. They enlist Ripley and the colonial marines to return and search for answers.\",\n",
       "  'popularity': 23.214,\n",
       "  'poster_path': '/nORMXEkYEbzkU5WkMWMgRDJwjSZ.jpg',\n",
       "  'production_companies': [{'id': 19747,\n",
       "    'logo_path': None,\n",
       "    'name': 'Brandywine Productions',\n",
       "    'origin_country': ''},\n",
       "   {'id': 396,\n",
       "    'logo_path': None,\n",
       "    'name': 'SLM Production Group',\n",
       "    'origin_country': 'US'},\n",
       "   {'id': 25,\n",
       "    'logo_path': '/qZCc1lty5FzX30aOCVRBLzaVmcp.png',\n",
       "    'name': '20th Century Fox',\n",
       "    'origin_country': 'US'}],\n",
       "  'production_countries': [{'iso_3166_1': 'GB', 'name': 'United Kingdom'},\n",
       "   {'iso_3166_1': 'US', 'name': 'United States of America'}],\n",
       "  'release_date': '1986-07-18',\n",
       "  'revenue': 183316455,\n",
       "  'runtime': 137,\n",
       "  'spoken_languages': [{'iso_639_1': 'en', 'name': 'English'}],\n",
       "  'status': 'Released',\n",
       "  'tagline': \"This Time It's War\",\n",
       "  'title': 'Aliens',\n",
       "  'video': False,\n",
       "  'vote_average': 7.9,\n",
       "  'vote_count': 5169},\n",
       " {'adult': False,\n",
       "  'backdrop_path': '/fxDXp8un4qNY9b1dLd7SH6CKzC.jpg',\n",
       "  'belongs_to_collection': {'id': 544670,\n",
       "   'name': 'Sing Collection',\n",
       "   'poster_path': None,\n",
       "   'backdrop_path': '/m3OCUFUGAD2B7Ak9kiHcYcmoum0.jpg'},\n",
       "  'budget': 75000000,\n",
       "  'genres': [{'id': 16, 'name': 'Animation'},\n",
       "   {'id': 35, 'name': 'Comedy'},\n",
       "   {'id': 18, 'name': 'Drama'},\n",
       "   {'id': 10751, 'name': 'Family'}],\n",
       "  'homepage': 'http://www.singmovie.com/',\n",
       "  'id': 335797,\n",
       "  'imdb_id': 'tt3470600',\n",
       "  'original_language': 'en',\n",
       "  'original_title': 'Sing',\n",
       "  'overview': 'A koala named Buster recruits his best friend to help him drum up business for his theater by hosting a singing competition.',\n",
       "  'popularity': 19.64,\n",
       "  'poster_path': '/eSVtBB2PVFbQiFWC7CQi3EjIZnn.jpg',\n",
       "  'production_companies': [{'id': 6704,\n",
       "    'logo_path': '/fOG2oY4m1YuYTQh4bMqqZkmgOAI.png',\n",
       "    'name': 'Illumination Entertainment',\n",
       "    'origin_country': 'US'},\n",
       "   {'id': 33,\n",
       "    'logo_path': '/8lvHyhjr8oUKOOy2dKXoALWKdp0.png',\n",
       "    'name': 'Universal Pictures',\n",
       "    'origin_country': 'US'},\n",
       "   {'id': 3341,\n",
       "    'logo_path': '/dTG5dXE1kU2mpmL9BNnraffckLU.png',\n",
       "    'name': 'Fuji Television Network',\n",
       "    'origin_country': 'JP'},\n",
       "   {'id': 1778,\n",
       "    'logo_path': '/69xm6sF3JxugGVjfZfm1YY6d7EE.png',\n",
       "    'name': 'Dentsu',\n",
       "    'origin_country': 'JP'}],\n",
       "  'production_countries': [{'iso_3166_1': 'US',\n",
       "    'name': 'United States of America'}],\n",
       "  'release_date': '2016-11-23',\n",
       "  'revenue': 632443719,\n",
       "  'runtime': 108,\n",
       "  'spoken_languages': [{'iso_639_1': 'en', 'name': 'English'}],\n",
       "  'status': 'Released',\n",
       "  'tagline': 'Auditions begin 2016.',\n",
       "  'title': 'Sing',\n",
       "  'video': False,\n",
       "  'vote_average': 6.9,\n",
       "  'vote_count': 4362},\n",
       " {'adult': False,\n",
       "  'backdrop_path': '/1qGzqGUd1pa05aqYXGSbLkiBlLB.jpg',\n",
       "  'belongs_to_collection': None,\n",
       "  'budget': 150000000,\n",
       "  'genres': [{'id': 12, 'name': 'Adventure'},\n",
       "   {'id': 35, 'name': 'Comedy'},\n",
       "   {'id': 10751, 'name': 'Family'},\n",
       "   {'id': 16, 'name': 'Animation'}],\n",
       "  'homepage': 'http://movies.disney.com/moana',\n",
       "  'id': 277834,\n",
       "  'imdb_id': 'tt3521164',\n",
       "  'original_language': 'en',\n",
       "  'original_title': 'Moana',\n",
       "  'overview': \"In Ancient Polynesia, when a terrible curse incurred by Maui reaches an impetuous Chieftain's daughter's island, she answers the Ocean's call to seek out the demigod to set things right.\",\n",
       "  'popularity': 6.122,\n",
       "  'poster_path': '/z4x0Bp48ar3Mda8KiPD1vwSY3D8.jpg',\n",
       "  'production_companies': [{'id': 2,\n",
       "    'logo_path': '/wdrCwmRnLFJhEoH8GSfymY85KHT.png',\n",
       "    'name': 'Walt Disney Pictures',\n",
       "    'origin_country': 'US'},\n",
       "   {'id': 6125,\n",
       "    'logo_path': '/tVPmo07IHhBs4HuilrcV0yujsZ9.png',\n",
       "    'name': 'Walt Disney Animation Studios',\n",
       "    'origin_country': 'US'}],\n",
       "  'production_countries': [{'iso_3166_1': 'US',\n",
       "    'name': 'United States of America'}],\n",
       "  'release_date': '2016-11-23',\n",
       "  'revenue': 695331111,\n",
       "  'runtime': 107,\n",
       "  'spoken_languages': [{'iso_639_1': 'en', 'name': 'English'}],\n",
       "  'status': 'Released',\n",
       "  'tagline': 'The ocean is calling.',\n",
       "  'title': 'Moana',\n",
       "  'video': False,\n",
       "  'vote_average': 7.5,\n",
       "  'vote_count': 7014}]"
      ]
     },
     "execution_count": 53,
     "metadata": {},
     "output_type": "execute_result"
    }
   ],
   "source": [
    "results"
   ]
  },
  {
   "cell_type": "markdown",
   "metadata": {},
   "source": [
    "****************************************************************"
   ]
  },
  {
   "cell_type": "markdown",
   "metadata": {},
   "source": [
    "# Sandbox below here "
   ]
  },
  {
   "cell_type": "markdown",
   "metadata": {},
   "source": [
    "****************************************************************"
   ]
  },
  {
   "cell_type": "code",
   "execution_count": 19,
   "metadata": {},
   "outputs": [
    {
     "name": "stdout",
     "output_type": "stream",
     "text": [
      "<Response [200]>\n"
     ]
    }
   ],
   "source": [
    "# Print the response object to the console\n",
    "print(requests.get(query_url))"
   ]
  },
  {
   "cell_type": "code",
   "execution_count": 21,
   "metadata": {
    "scrolled": false
   },
   "outputs": [
    {
     "name": "stdout",
     "output_type": "stream",
     "text": [
      "{'adult': False, 'backdrop_path': '/mMZRKb3NVo5ZeSPEIaNW9buLWQ0.jpg', 'belongs_to_collection': None, 'budget': 63000000, 'genres': [{'id': 18, 'name': 'Drama'}], 'homepage': 'http://www.foxmovies.com/movies/fight-club', 'id': 550, 'imdb_id': 'tt0137523', 'original_language': 'en', 'original_title': 'Fight Club', 'overview': 'A ticking-time-bomb insomniac and a slippery soap salesman channel primal male aggression into a shocking new form of therapy. Their concept catches on, with underground \"fight clubs\" forming in every town, until an eccentric gets in the way and ignites an out-of-control spiral toward oblivion.', 'popularity': 38.403, 'poster_path': '/adw6Lq9FiC9zjYEpOqfq03ituwp.jpg', 'production_companies': [{'id': 508, 'logo_path': '/7PzJdsLGlR7oW4J0J5Xcd0pHGRg.png', 'name': 'Regency Enterprises', 'origin_country': 'US'}, {'id': 711, 'logo_path': '/tEiIH5QesdheJmDAqQwvtN60727.png', 'name': 'Fox 2000 Pictures', 'origin_country': 'US'}, {'id': 20555, 'logo_path': '/hD8yEGUBlHOcfHYbujp71vD8gZp.png', 'name': 'Taurus Film', 'origin_country': 'DE'}, {'id': 54051, 'logo_path': None, 'name': 'Atman Entertainment', 'origin_country': ''}, {'id': 54052, 'logo_path': None, 'name': 'Knickerbocker Films', 'origin_country': 'US'}, {'id': 25, 'logo_path': '/qZCc1lty5FzX30aOCVRBLzaVmcp.png', 'name': '20th Century Fox', 'origin_country': 'US'}, {'id': 4700, 'logo_path': '/A32wmjrs9Psf4zw0uaixF0GXfxq.png', 'name': 'The Linson Company', 'origin_country': ''}], 'production_countries': [{'iso_3166_1': 'DE', 'name': 'Germany'}, {'iso_3166_1': 'US', 'name': 'United States of America'}], 'release_date': '1999-10-15', 'revenue': 100853753, 'runtime': 139, 'spoken_languages': [{'iso_639_1': 'en', 'name': 'English'}], 'status': 'Released', 'tagline': 'Mischief. Mayhem. Soap.', 'title': 'Fight Club', 'video': False, 'vote_average': 8.4, 'vote_count': 16538}\n"
     ]
    }
   ],
   "source": [
    "# Retrieving data and converting it into JSON\n",
    "print(requests.get(query_url).json())"
   ]
  },
  {
   "cell_type": "code",
   "execution_count": 22,
   "metadata": {
    "scrolled": true
   },
   "outputs": [
    {
     "name": "stdout",
     "output_type": "stream",
     "text": [
      "{\n",
      "    \"adult\": false,\n",
      "    \"backdrop_path\": \"/mMZRKb3NVo5ZeSPEIaNW9buLWQ0.jpg\",\n",
      "    \"belongs_to_collection\": null,\n",
      "    \"budget\": 63000000,\n",
      "    \"genres\": [\n",
      "        {\n",
      "            \"id\": 18,\n",
      "            \"name\": \"Drama\"\n",
      "        }\n",
      "    ],\n",
      "    \"homepage\": \"http://www.foxmovies.com/movies/fight-club\",\n",
      "    \"id\": 550,\n",
      "    \"imdb_id\": \"tt0137523\",\n",
      "    \"original_language\": \"en\",\n",
      "    \"original_title\": \"Fight Club\",\n",
      "    \"overview\": \"A ticking-time-bomb insomniac and a slippery soap salesman channel primal male aggression into a shocking new form of therapy. Their concept catches on, with underground \\\"fight clubs\\\" forming in every town, until an eccentric gets in the way and ignites an out-of-control spiral toward oblivion.\",\n",
      "    \"popularity\": 27.431,\n",
      "    \"poster_path\": \"/adw6Lq9FiC9zjYEpOqfq03ituwp.jpg\",\n",
      "    \"production_companies\": [\n",
      "        {\n",
      "            \"id\": 508,\n",
      "            \"logo_path\": \"/7PzJdsLGlR7oW4J0J5Xcd0pHGRg.png\",\n",
      "            \"name\": \"Regency Enterprises\",\n",
      "            \"origin_country\": \"US\"\n",
      "        },\n",
      "        {\n",
      "            \"id\": 711,\n",
      "            \"logo_path\": \"/tEiIH5QesdheJmDAqQwvtN60727.png\",\n",
      "            \"name\": \"Fox 2000 Pictures\",\n",
      "            \"origin_country\": \"US\"\n",
      "        },\n",
      "        {\n",
      "            \"id\": 20555,\n",
      "            \"logo_path\": \"/hD8yEGUBlHOcfHYbujp71vD8gZp.png\",\n",
      "            \"name\": \"Taurus Film\",\n",
      "            \"origin_country\": \"DE\"\n",
      "        },\n",
      "        {\n",
      "            \"id\": 54051,\n",
      "            \"logo_path\": null,\n",
      "            \"name\": \"Atman Entertainment\",\n",
      "            \"origin_country\": \"\"\n",
      "        },\n",
      "        {\n",
      "            \"id\": 54052,\n",
      "            \"logo_path\": null,\n",
      "            \"name\": \"Knickerbocker Films\",\n",
      "            \"origin_country\": \"US\"\n",
      "        },\n",
      "        {\n",
      "            \"id\": 25,\n",
      "            \"logo_path\": \"/qZCc1lty5FzX30aOCVRBLzaVmcp.png\",\n",
      "            \"name\": \"20th Century Fox\",\n",
      "            \"origin_country\": \"US\"\n",
      "        },\n",
      "        {\n",
      "            \"id\": 4700,\n",
      "            \"logo_path\": \"/A32wmjrs9Psf4zw0uaixF0GXfxq.png\",\n",
      "            \"name\": \"The Linson Company\",\n",
      "            \"origin_country\": \"\"\n",
      "        }\n",
      "    ],\n",
      "    \"production_countries\": [\n",
      "        {\n",
      "            \"iso_3166_1\": \"DE\",\n",
      "            \"name\": \"Germany\"\n",
      "        },\n",
      "        {\n",
      "            \"iso_3166_1\": \"US\",\n",
      "            \"name\": \"United States of America\"\n",
      "        }\n",
      "    ],\n",
      "    \"release_date\": \"1999-10-15\",\n",
      "    \"revenue\": 100853753,\n",
      "    \"runtime\": 139,\n",
      "    \"spoken_languages\": [\n",
      "        {\n",
      "            \"iso_639_1\": \"en\",\n",
      "            \"name\": \"English\"\n",
      "        }\n",
      "    ],\n",
      "    \"status\": \"Released\",\n",
      "    \"tagline\": \"Mischief. Mayhem. Soap.\",\n",
      "    \"title\": \"Fight Club\",\n",
      "    \"video\": false,\n",
      "    \"vote_average\": 8.4,\n",
      "    \"vote_count\": 16538\n",
      "}\n"
     ]
    }
   ],
   "source": [
    "# Pretty Print the output of the JSON\n",
    "response = requests.get(query_url).json()\n",
    "print(json.dumps(response, indent=4, sort_keys=True))"
   ]
  },
  {
   "cell_type": "code",
   "execution_count": null,
   "metadata": {},
   "outputs": [],
   "source": []
  }
 ],
 "metadata": {
  "kernelspec": {
   "display_name": "Python 3",
   "language": "python",
   "name": "python3"
  },
  "language_info": {
   "codemirror_mode": {
    "name": "ipython",
    "version": 3
   },
   "file_extension": ".py",
   "mimetype": "text/x-python",
   "name": "python",
   "nbconvert_exporter": "python",
   "pygments_lexer": "ipython3",
   "version": "3.7.3"
  },
  "varInspector": {
   "cols": {
    "lenName": 16,
    "lenType": 16,
    "lenVar": 40
   },
   "kernels_config": {
    "python": {
     "delete_cmd_postfix": "",
     "delete_cmd_prefix": "del ",
     "library": "var_list.py",
     "varRefreshCmd": "print(var_dic_list())"
    },
    "r": {
     "delete_cmd_postfix": ") ",
     "delete_cmd_prefix": "rm(",
     "library": "var_list.r",
     "varRefreshCmd": "cat(var_dic_list()) "
    }
   },
   "types_to_exclude": [
    "module",
    "function",
    "builtin_function_or_method",
    "instance",
    "_Feature"
   ],
   "window_display": false
  }
 },
 "nbformat": 4,
 "nbformat_minor": 2
}
