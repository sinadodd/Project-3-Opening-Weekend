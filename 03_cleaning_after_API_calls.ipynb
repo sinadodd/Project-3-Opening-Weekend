{
 "cells": [
  {
   "cell_type": "code",
   "execution_count": 74,
   "outputs": [],
   "source": [
    "\n",
    "import pandas as pd\n",
    "# import matplotlib.pyplot as plt\n",
    "\n",
    "from sklearn.preprocessing import MultiLabelBinarizer, OneHotEncoder\n",
    "import numpy as np"
   ],
   "metadata": {
    "collapsed": false,
    "pycharm": {
     "name": "#%%\n",
     "is_executing": false
    }
   }
  },
  {
   "cell_type": "code",
   "execution_count": 75,
   "outputs": [],
   "source": [
    "df = pd.read_csv(\"Resources/02_data_after_API_calls.csv\")"
   ],
   "metadata": {
    "collapsed": false,
    "pycharm": {
     "name": "#%%\n",
     "is_executing": false
    }
   }
  },
  {
   "cell_type": "code",
   "execution_count": 76,
   "outputs": [
    {
     "data": {
      "text/plain": "            Opening     Theaters       Movie ID        Budget      Runtime\ncount  1.907000e+03  1907.000000    1907.000000  1.907000e+03  1907.000000\nmean   2.792583e+07  2913.979549   84520.794442  6.206534e+07   110.750393\nstd    2.729695e+07   702.092481  131170.037936  5.495635e+07    18.674676\nmin    1.000198e+07   629.000000      12.000000  0.000000e+00    26.000000\n25%    1.339860e+07  2503.000000    7456.000000  2.400000e+07    97.000000\n50%    1.896668e+07  2950.000000   11820.000000  4.600000e+07   108.000000\n75%    3.053719e+07  3389.500000   88396.500000  8.000000e+07   122.000000\nmax    3.571150e+08  4662.000000  533642.000000  5.000000e+08   201.000000",
      "text/html": "<div>\n<style scoped>\n    .dataframe tbody tr th:only-of-type {\n        vertical-align: middle;\n    }\n\n    .dataframe tbody tr th {\n        vertical-align: top;\n    }\n\n    .dataframe thead th {\n        text-align: right;\n    }\n</style>\n<table border=\"1\" class=\"dataframe\">\n  <thead>\n    <tr style=\"text-align: right;\">\n      <th></th>\n      <th>Opening</th>\n      <th>Theaters</th>\n      <th>Movie ID</th>\n      <th>Budget</th>\n      <th>Runtime</th>\n    </tr>\n  </thead>\n  <tbody>\n    <tr>\n      <th>count</th>\n      <td>1.907000e+03</td>\n      <td>1907.000000</td>\n      <td>1907.000000</td>\n      <td>1.907000e+03</td>\n      <td>1907.000000</td>\n    </tr>\n    <tr>\n      <th>mean</th>\n      <td>2.792583e+07</td>\n      <td>2913.979549</td>\n      <td>84520.794442</td>\n      <td>6.206534e+07</td>\n      <td>110.750393</td>\n    </tr>\n    <tr>\n      <th>std</th>\n      <td>2.729695e+07</td>\n      <td>702.092481</td>\n      <td>131170.037936</td>\n      <td>5.495635e+07</td>\n      <td>18.674676</td>\n    </tr>\n    <tr>\n      <th>min</th>\n      <td>1.000198e+07</td>\n      <td>629.000000</td>\n      <td>12.000000</td>\n      <td>0.000000e+00</td>\n      <td>26.000000</td>\n    </tr>\n    <tr>\n      <th>25%</th>\n      <td>1.339860e+07</td>\n      <td>2503.000000</td>\n      <td>7456.000000</td>\n      <td>2.400000e+07</td>\n      <td>97.000000</td>\n    </tr>\n    <tr>\n      <th>50%</th>\n      <td>1.896668e+07</td>\n      <td>2950.000000</td>\n      <td>11820.000000</td>\n      <td>4.600000e+07</td>\n      <td>108.000000</td>\n    </tr>\n    <tr>\n      <th>75%</th>\n      <td>3.053719e+07</td>\n      <td>3389.500000</td>\n      <td>88396.500000</td>\n      <td>8.000000e+07</td>\n      <td>122.000000</td>\n    </tr>\n    <tr>\n      <th>max</th>\n      <td>3.571150e+08</td>\n      <td>4662.000000</td>\n      <td>533642.000000</td>\n      <td>5.000000e+08</td>\n      <td>201.000000</td>\n    </tr>\n  </tbody>\n</table>\n</div>"
     },
     "metadata": {},
     "output_type": "execute_result",
     "execution_count": 76
    }
   ],
   "source": [
    "df = df.dropna(axis='columns', how='all')\n",
    "# Drop the null rows\n",
    "df = df.dropna()\n",
    "df.reset_index(inplace=True, drop=True)\n",
    "df.describe()"
   ],
   "metadata": {
    "collapsed": false,
    "pycharm": {
     "name": "#%%\n",
     "is_executing": false
    }
   }
  },
  {
   "cell_type": "code",
   "execution_count": 77,
   "outputs": [
    {
     "data": {
      "text/plain": "                          Title Studio    Opening  Theaters        Date  \\\n0             Avengers: Endgame     BV  357115007      4662  2019-04-26   \n1        Avengers: Infinity War     BV  257698183      4474  2018-04-27   \n2  Star Wars: The Force Awakens     BV  247966675      4134  2015-12-18   \n3      Star Wars: The Last Jedi     BV  220009584      4232  2017-12-15   \n4                Jurassic World   Uni.  208806270      4274  2015-06-12   \n\n   Movie ID     Budget  Runtime  \\\n0    299534  356000000    181.0   \n1    299536  300000000    149.0   \n2    140607  245000000    136.0   \n3    181808  200000000    152.0   \n4    135397  150000000    124.0   \n\n                                              Genres  \\\n0         ['Adventure', 'Science Fiction', 'Action']   \n1                 ['Adventure', 'Action', 'Fantasy']   \n2  ['Action', 'Adventure', 'Science Fiction', 'Fa...   \n3  ['Fantasy', 'Adventure', 'Science Fiction', 'A...   \n4  ['Action', 'Adventure', 'Science Fiction', 'Th...   \n\n                                           Directing  \\\n0  ['Joe Russo', 'Anthony Russo', 'Chris Castaldi...   \n1  ['Joe Russo', 'Anthony Russo', 'Chris Castaldi...   \n2                                    ['J.J. Abrams']   \n3  ['Rian Johnson', 'Jamie Christopher', 'Paula C...   \n4  ['Colin Trevorrow', 'Chris Castaldi', 'Zack Sm...   \n\n                                           Producing  \\\n0  ['Kevin Feige', 'Jon Favreau', 'Sarah Finn', '...   \n1  ['Kevin Feige', 'Jon Favreau', \"Louis D'Esposi...   \n2  ['Bryan Burk', 'J.J. Abrams', 'Kathleen Kenned...   \n3  ['Kathleen Kennedy', 'Ram Bergman', 'J.J. Abra...   \n4  ['Steven Spielberg', 'Frank Marshall', 'Patric...   \n\n                                             Writing Rating  \n0  ['Christopher Markus', 'Stephen McFeely', 'Jim...  PG-13  \n1  ['Stephen McFeely', 'Jack Kirby', 'Christopher...  PG-13  \n2  ['J.J. Abrams', 'Lawrence Kasdan', 'George Luc...  PG-13  \n3                   ['George Lucas', 'Rian Johnson']  PG-13  \n4  ['Michael Crichton', 'Rick Jaffa', 'Amanda Sil...  PG-13  ",
      "text/html": "<div>\n<style scoped>\n    .dataframe tbody tr th:only-of-type {\n        vertical-align: middle;\n    }\n\n    .dataframe tbody tr th {\n        vertical-align: top;\n    }\n\n    .dataframe thead th {\n        text-align: right;\n    }\n</style>\n<table border=\"1\" class=\"dataframe\">\n  <thead>\n    <tr style=\"text-align: right;\">\n      <th></th>\n      <th>Title</th>\n      <th>Studio</th>\n      <th>Opening</th>\n      <th>Theaters</th>\n      <th>Date</th>\n      <th>Movie ID</th>\n      <th>Budget</th>\n      <th>Runtime</th>\n      <th>Genres</th>\n      <th>Directing</th>\n      <th>Producing</th>\n      <th>Writing</th>\n      <th>Rating</th>\n    </tr>\n  </thead>\n  <tbody>\n    <tr>\n      <th>0</th>\n      <td>Avengers: Endgame</td>\n      <td>BV</td>\n      <td>357115007</td>\n      <td>4662</td>\n      <td>2019-04-26</td>\n      <td>299534</td>\n      <td>356000000</td>\n      <td>181.0</td>\n      <td>['Adventure', 'Science Fiction', 'Action']</td>\n      <td>['Joe Russo', 'Anthony Russo', 'Chris Castaldi...</td>\n      <td>['Kevin Feige', 'Jon Favreau', 'Sarah Finn', '...</td>\n      <td>['Christopher Markus', 'Stephen McFeely', 'Jim...</td>\n      <td>PG-13</td>\n    </tr>\n    <tr>\n      <th>1</th>\n      <td>Avengers: Infinity War</td>\n      <td>BV</td>\n      <td>257698183</td>\n      <td>4474</td>\n      <td>2018-04-27</td>\n      <td>299536</td>\n      <td>300000000</td>\n      <td>149.0</td>\n      <td>['Adventure', 'Action', 'Fantasy']</td>\n      <td>['Joe Russo', 'Anthony Russo', 'Chris Castaldi...</td>\n      <td>['Kevin Feige', 'Jon Favreau', \"Louis D'Esposi...</td>\n      <td>['Stephen McFeely', 'Jack Kirby', 'Christopher...</td>\n      <td>PG-13</td>\n    </tr>\n    <tr>\n      <th>2</th>\n      <td>Star Wars: The Force Awakens</td>\n      <td>BV</td>\n      <td>247966675</td>\n      <td>4134</td>\n      <td>2015-12-18</td>\n      <td>140607</td>\n      <td>245000000</td>\n      <td>136.0</td>\n      <td>['Action', 'Adventure', 'Science Fiction', 'Fa...</td>\n      <td>['J.J. Abrams']</td>\n      <td>['Bryan Burk', 'J.J. Abrams', 'Kathleen Kenned...</td>\n      <td>['J.J. Abrams', 'Lawrence Kasdan', 'George Luc...</td>\n      <td>PG-13</td>\n    </tr>\n    <tr>\n      <th>3</th>\n      <td>Star Wars: The Last Jedi</td>\n      <td>BV</td>\n      <td>220009584</td>\n      <td>4232</td>\n      <td>2017-12-15</td>\n      <td>181808</td>\n      <td>200000000</td>\n      <td>152.0</td>\n      <td>['Fantasy', 'Adventure', 'Science Fiction', 'A...</td>\n      <td>['Rian Johnson', 'Jamie Christopher', 'Paula C...</td>\n      <td>['Kathleen Kennedy', 'Ram Bergman', 'J.J. Abra...</td>\n      <td>['George Lucas', 'Rian Johnson']</td>\n      <td>PG-13</td>\n    </tr>\n    <tr>\n      <th>4</th>\n      <td>Jurassic World</td>\n      <td>Uni.</td>\n      <td>208806270</td>\n      <td>4274</td>\n      <td>2015-06-12</td>\n      <td>135397</td>\n      <td>150000000</td>\n      <td>124.0</td>\n      <td>['Action', 'Adventure', 'Science Fiction', 'Th...</td>\n      <td>['Colin Trevorrow', 'Chris Castaldi', 'Zack Sm...</td>\n      <td>['Steven Spielberg', 'Frank Marshall', 'Patric...</td>\n      <td>['Michael Crichton', 'Rick Jaffa', 'Amanda Sil...</td>\n      <td>PG-13</td>\n    </tr>\n  </tbody>\n</table>\n</div>"
     },
     "metadata": {},
     "output_type": "execute_result",
     "execution_count": 77
    }
   ],
   "source": [
    "df.head()"
   ],
   "metadata": {
    "collapsed": false,
    "pycharm": {
     "name": "#%%\n",
     "is_executing": false
    }
   }
  },
  {
   "cell_type": "markdown",
   "source": [
    "# Genres to MLB\n",
    "Get dummies didn't work on lists, trying MLB.\n",
    "\n",
    "Need to change column to arrays before MLB will work."
   ],
   "metadata": {
    "collapsed": false
   }
  },
  {
   "cell_type": "code",
   "execution_count": 78,
   "outputs": [
    {
     "data": {
      "text/plain": "0                    [Adventure, Science Fiction, Action]\n1                            [Adventure, Action, Fantasy]\n2           [Action, Adventure, Science Fiction, Fantasy]\n3           [Fantasy, Adventure, Science Fiction, Action]\n4          [Action, Adventure, Science Fiction, Thriller]\n5                    [Science Fiction, Action, Adventure]\n6           [Action, Adventure, Fantasy, Science Fiction]\n7                    [Action, Adventure, Science Fiction]\n8                  [Action, Adventure, Animation, Family]\n9                    [Adventure, Action, Science Fiction]\n10                   [Action, Adventure, Science Fiction]\n11                           [Family, Fantasy, Adventure]\n12                           [Action, Adventure, Fantasy]\n13                       [Action, Crime, Drama, Thriller]\n14                       [Drama, Action, Crime, Thriller]\n15                   [Adventure, Action, Science Fiction]\n16                   [Action, Adventure, Science Fiction]\n17                   [Action, Adventure, Science Fiction]\n18                  [Science Fiction, Adventure, Fantasy]\n19                           [Fantasy, Action, Adventure]\n20                   [Action, Adventure, Science Fiction]\n21                              [Action, Crime, Thriller]\n22           [Action, Adventure, Comedy, Science Fiction]\n23                   [Adventure, Fantasy, Drama, Romance]\n24                   [Adventure, Fantasy, Drama, Romance]\n25                          [Adventure, Fantasy, Romance]\n26                           [Adventure, Fantasy, Action]\n27                 [Adventure, Animation, Comedy, Family]\n28      [Action, Adventure, Crime, Fantasy, Science Fi...\n29                            [Action, Adventure, Comedy]\n                              ...                        \n1877            [Crime, Drama, Mystery, Thriller, Action]\n1878                                     [Drama, Romance]\n1879                             [Drama, Science Fiction]\n1880                  [Mystery, Thriller, Horror, Comedy]\n1881                               [Comedy, Crime, Drama]\n1882                                [Comedy, Documentary]\n1883                            [Romance, Comedy, Family]\n1884                                             [Comedy]\n1885                                             [Horror]\n1886          [Family, Drama, Science Fiction, Adventure]\n1887                                   [Horror, Thriller]\n1888                                             [Comedy]\n1889                                       [Crime, Drama]\n1890          [Drama, Mystery, Science Fiction, Thriller]\n1891                            [Comedy, Family, Fantasy]\n1892                          [Adventure, Drama, History]\n1893                                              [Drama]\n1894    [Adventure, Fantasy, Action, Comedy, Science F...\n1895           [Drama, Crime, Mystery, Romance, Thriller]\n1896                             [Comedy, Drama, Romance]\n1897                          [Fantasy, Horror, Thriller]\n1898                    [Drama, Crime, Mystery, Thriller]\n1899                                     [Drama, Romance]\n1900                        [Action, Adventure, Thriller]\n1901                                      [Drama, Action]\n1902                             [Comedy, Drama, Romance]\n1903                                    [Comedy, Romance]\n1904                                              [Drama]\n1905                                     [Drama, Romance]\n1906                                       [Crime, Drama]\nName: Genres, Length: 1907, dtype: object"
     },
     "metadata": {},
     "output_type": "execute_result",
     "execution_count": 78
    }
   ],
   "source": [
    "genres_column = df['Genres']\n",
    "genres_column = genres_column.apply(eval)\n",
    "genres_column"
   ],
   "metadata": {
    "collapsed": false,
    "pycharm": {
     "name": "#%%\n",
     "is_executing": false
    }
   }
  },
  {
   "cell_type": "code",
   "execution_count": 79,
   "outputs": [],
   "source": [
    "mlb = MultiLabelBinarizer()\n",
    "rows=mlb.fit_transform(genres_column)\n",
    "len(rows)\n",
    "mlbs = {'Genres': mlb}"
   ],
   "metadata": {
    "collapsed": false,
    "pycharm": {
     "name": "#%%\n",
     "is_executing": false
    }
   }
  },
  {
   "cell_type": "code",
   "execution_count": 80,
   "outputs": [
    {
     "data": {
      "text/plain": "18"
     },
     "metadata": {},
     "output_type": "execute_result",
     "execution_count": 80
    }
   ],
   "source": [
    "columns = list(mlb.classes_)\n",
    "len(columns)"
   ],
   "metadata": {
    "collapsed": false,
    "pycharm": {
     "name": "#%%\n",
     "is_executing": false
    }
   }
  },
  {
   "cell_type": "code",
   "execution_count": 81,
   "outputs": [
    {
     "data": {
      "text/plain": "   Genre_Action  Genre_Adventure  Genre_Animation  Genre_Comedy  Genre_Crime  \\\n0             1                1                0             0            0   \n1             1                1                0             0            0   \n2             1                1                0             0            0   \n3             1                1                0             0            0   \n4             1                1                0             0            0   \n\n   Genre_Documentary  Genre_Drama  Genre_Family  Genre_Fantasy  Genre_History  \\\n0                  0            0             0              0              0   \n1                  0            0             0              1              0   \n2                  0            0             0              1              0   \n3                  0            0             0              1              0   \n4                  0            0             0              0              0   \n\n   Genre_Horror  Genre_Music  Genre_Mystery  Genre_Romance  \\\n0             0            0              0              0   \n1             0            0              0              0   \n2             0            0              0              0   \n3             0            0              0              0   \n4             0            0              0              0   \n\n   Genre_Science Fiction  Genre_Thriller  Genre_War  Genre_Western  \n0                      1               0          0              0  \n1                      0               0          0              0  \n2                      1               0          0              0  \n3                      1               0          0              0  \n4                      1               1          0              0  ",
      "text/html": "<div>\n<style scoped>\n    .dataframe tbody tr th:only-of-type {\n        vertical-align: middle;\n    }\n\n    .dataframe tbody tr th {\n        vertical-align: top;\n    }\n\n    .dataframe thead th {\n        text-align: right;\n    }\n</style>\n<table border=\"1\" class=\"dataframe\">\n  <thead>\n    <tr style=\"text-align: right;\">\n      <th></th>\n      <th>Genre_Action</th>\n      <th>Genre_Adventure</th>\n      <th>Genre_Animation</th>\n      <th>Genre_Comedy</th>\n      <th>Genre_Crime</th>\n      <th>Genre_Documentary</th>\n      <th>Genre_Drama</th>\n      <th>Genre_Family</th>\n      <th>Genre_Fantasy</th>\n      <th>Genre_History</th>\n      <th>Genre_Horror</th>\n      <th>Genre_Music</th>\n      <th>Genre_Mystery</th>\n      <th>Genre_Romance</th>\n      <th>Genre_Science Fiction</th>\n      <th>Genre_Thriller</th>\n      <th>Genre_War</th>\n      <th>Genre_Western</th>\n    </tr>\n  </thead>\n  <tbody>\n    <tr>\n      <th>0</th>\n      <td>1</td>\n      <td>1</td>\n      <td>0</td>\n      <td>0</td>\n      <td>0</td>\n      <td>0</td>\n      <td>0</td>\n      <td>0</td>\n      <td>0</td>\n      <td>0</td>\n      <td>0</td>\n      <td>0</td>\n      <td>0</td>\n      <td>0</td>\n      <td>1</td>\n      <td>0</td>\n      <td>0</td>\n      <td>0</td>\n    </tr>\n    <tr>\n      <th>1</th>\n      <td>1</td>\n      <td>1</td>\n      <td>0</td>\n      <td>0</td>\n      <td>0</td>\n      <td>0</td>\n      <td>0</td>\n      <td>0</td>\n      <td>1</td>\n      <td>0</td>\n      <td>0</td>\n      <td>0</td>\n      <td>0</td>\n      <td>0</td>\n      <td>0</td>\n      <td>0</td>\n      <td>0</td>\n      <td>0</td>\n    </tr>\n    <tr>\n      <th>2</th>\n      <td>1</td>\n      <td>1</td>\n      <td>0</td>\n      <td>0</td>\n      <td>0</td>\n      <td>0</td>\n      <td>0</td>\n      <td>0</td>\n      <td>1</td>\n      <td>0</td>\n      <td>0</td>\n      <td>0</td>\n      <td>0</td>\n      <td>0</td>\n      <td>1</td>\n      <td>0</td>\n      <td>0</td>\n      <td>0</td>\n    </tr>\n    <tr>\n      <th>3</th>\n      <td>1</td>\n      <td>1</td>\n      <td>0</td>\n      <td>0</td>\n      <td>0</td>\n      <td>0</td>\n      <td>0</td>\n      <td>0</td>\n      <td>1</td>\n      <td>0</td>\n      <td>0</td>\n      <td>0</td>\n      <td>0</td>\n      <td>0</td>\n      <td>1</td>\n      <td>0</td>\n      <td>0</td>\n      <td>0</td>\n    </tr>\n    <tr>\n      <th>4</th>\n      <td>1</td>\n      <td>1</td>\n      <td>0</td>\n      <td>0</td>\n      <td>0</td>\n      <td>0</td>\n      <td>0</td>\n      <td>0</td>\n      <td>0</td>\n      <td>0</td>\n      <td>0</td>\n      <td>0</td>\n      <td>0</td>\n      <td>0</td>\n      <td>1</td>\n      <td>1</td>\n      <td>0</td>\n      <td>0</td>\n    </tr>\n  </tbody>\n</table>\n</div>"
     },
     "metadata": {},
     "output_type": "execute_result",
     "execution_count": 81
    }
   ],
   "source": [
    "genre_df = pd.DataFrame(rows, columns= mlb.classes_).add_prefix('Genre_')\n",
    "genre_df.head()"
   ],
   "metadata": {
    "collapsed": false,
    "pycharm": {
     "name": "#%%\n",
     "is_executing": false
    }
   }
  },
  {
   "cell_type": "markdown",
   "source": [
    "# Directing to MLB"
   ],
   "metadata": {
    "collapsed": false
   }
  },
  {
   "cell_type": "code",
   "execution_count": 82,
   "outputs": [
    {
     "data": {
      "text/plain": "   Director_A. Hugo Gutierrez Cuellar  Director_Aaron Blaise  \\\n0                                   0                      0   \n1                                   0                      0   \n2                                   0                      0   \n3                                   0                      0   \n4                                   0                      0   \n\n   Director_Aaron C. Fitzgerald  Director_Aaron Horvath  \\\n0                             0                       0   \n1                             0                       0   \n2                             0                       0   \n3                             0                       0   \n4                             0                       0   \n\n   Director_Aaron Seltzer  Director_Aaron Wiener  Director_Abby Kohn  \\\n0                       0                      0                   0   \n1                       0                      0                   0   \n2                       0                      0                   0   \n3                       0                      0                   0   \n4                       0                      0                   0   \n\n   Director_Abby Mills  Director_Abigail L.S. Yardley  \\\n0                    0                              0   \n1                    0                              0   \n2                    0                              0   \n3                    0                              0   \n4                    0                              0   \n\n   Director_Abraham DeOcampo  ...  Director_Yong Zhong  Director_Yudi Bennett  \\\n0                          0  ...                    0                      0   \n1                          0  ...                    0                      0   \n2                          0  ...                    0                      0   \n3                          0  ...                    0                      0   \n4                          0  ...                    0                      0   \n\n   Director_Yun Shin  Director_Yusuf Hassan  Director_Zack Smith  \\\n0                  0                      0                    0   \n1                  0                      0                    0   \n2                  0                      0                    0   \n3                  0                      0                    0   \n4                  0                      0                    1   \n\n   Director_Zack Snyder  Director_Zhang Yimou  Director_Zoe Morgan  \\\n0                     0                     0                    0   \n1                     0                     0                    0   \n2                     0                     0                    0   \n3                     0                     0                    0   \n4                     0                     0                    0   \n\n   Director_Zoe Simijonovic  Director_Zolani Phakade  \n0                         0                        0  \n1                         0                        0  \n2                         0                        0  \n3                         0                        0  \n4                         0                        0  \n\n[5 rows x 2738 columns]",
      "text/html": "<div>\n<style scoped>\n    .dataframe tbody tr th:only-of-type {\n        vertical-align: middle;\n    }\n\n    .dataframe tbody tr th {\n        vertical-align: top;\n    }\n\n    .dataframe thead th {\n        text-align: right;\n    }\n</style>\n<table border=\"1\" class=\"dataframe\">\n  <thead>\n    <tr style=\"text-align: right;\">\n      <th></th>\n      <th>Director_A. Hugo Gutierrez Cuellar</th>\n      <th>Director_Aaron Blaise</th>\n      <th>Director_Aaron C. Fitzgerald</th>\n      <th>Director_Aaron Horvath</th>\n      <th>Director_Aaron Seltzer</th>\n      <th>Director_Aaron Wiener</th>\n      <th>Director_Abby Kohn</th>\n      <th>Director_Abby Mills</th>\n      <th>Director_Abigail L.S. Yardley</th>\n      <th>Director_Abraham DeOcampo</th>\n      <th>...</th>\n      <th>Director_Yong Zhong</th>\n      <th>Director_Yudi Bennett</th>\n      <th>Director_Yun Shin</th>\n      <th>Director_Yusuf Hassan</th>\n      <th>Director_Zack Smith</th>\n      <th>Director_Zack Snyder</th>\n      <th>Director_Zhang Yimou</th>\n      <th>Director_Zoe Morgan</th>\n      <th>Director_Zoe Simijonovic</th>\n      <th>Director_Zolani Phakade</th>\n    </tr>\n  </thead>\n  <tbody>\n    <tr>\n      <th>0</th>\n      <td>0</td>\n      <td>0</td>\n      <td>0</td>\n      <td>0</td>\n      <td>0</td>\n      <td>0</td>\n      <td>0</td>\n      <td>0</td>\n      <td>0</td>\n      <td>0</td>\n      <td>...</td>\n      <td>0</td>\n      <td>0</td>\n      <td>0</td>\n      <td>0</td>\n      <td>0</td>\n      <td>0</td>\n      <td>0</td>\n      <td>0</td>\n      <td>0</td>\n      <td>0</td>\n    </tr>\n    <tr>\n      <th>1</th>\n      <td>0</td>\n      <td>0</td>\n      <td>0</td>\n      <td>0</td>\n      <td>0</td>\n      <td>0</td>\n      <td>0</td>\n      <td>0</td>\n      <td>0</td>\n      <td>0</td>\n      <td>...</td>\n      <td>0</td>\n      <td>0</td>\n      <td>0</td>\n      <td>0</td>\n      <td>0</td>\n      <td>0</td>\n      <td>0</td>\n      <td>0</td>\n      <td>0</td>\n      <td>0</td>\n    </tr>\n    <tr>\n      <th>2</th>\n      <td>0</td>\n      <td>0</td>\n      <td>0</td>\n      <td>0</td>\n      <td>0</td>\n      <td>0</td>\n      <td>0</td>\n      <td>0</td>\n      <td>0</td>\n      <td>0</td>\n      <td>...</td>\n      <td>0</td>\n      <td>0</td>\n      <td>0</td>\n      <td>0</td>\n      <td>0</td>\n      <td>0</td>\n      <td>0</td>\n      <td>0</td>\n      <td>0</td>\n      <td>0</td>\n    </tr>\n    <tr>\n      <th>3</th>\n      <td>0</td>\n      <td>0</td>\n      <td>0</td>\n      <td>0</td>\n      <td>0</td>\n      <td>0</td>\n      <td>0</td>\n      <td>0</td>\n      <td>0</td>\n      <td>0</td>\n      <td>...</td>\n      <td>0</td>\n      <td>0</td>\n      <td>0</td>\n      <td>0</td>\n      <td>0</td>\n      <td>0</td>\n      <td>0</td>\n      <td>0</td>\n      <td>0</td>\n      <td>0</td>\n    </tr>\n    <tr>\n      <th>4</th>\n      <td>0</td>\n      <td>0</td>\n      <td>0</td>\n      <td>0</td>\n      <td>0</td>\n      <td>0</td>\n      <td>0</td>\n      <td>0</td>\n      <td>0</td>\n      <td>0</td>\n      <td>...</td>\n      <td>0</td>\n      <td>0</td>\n      <td>0</td>\n      <td>0</td>\n      <td>1</td>\n      <td>0</td>\n      <td>0</td>\n      <td>0</td>\n      <td>0</td>\n      <td>0</td>\n    </tr>\n  </tbody>\n</table>\n<p>5 rows × 2738 columns</p>\n</div>"
     },
     "metadata": {},
     "output_type": "execute_result",
     "execution_count": 82
    }
   ],
   "source": [
    "directing_column = df['Directing']\n",
    "directing_column = directing_column.apply(eval)\n",
    "# directing_column\n",
    "mlb = MultiLabelBinarizer()\n",
    "rows=mlb.fit_transform(directing_column)\n",
    "mlbs['Directing'] = mlb\n",
    "# len(rows)\n",
    "columns = list(mlb.classes_)\n",
    "# len(columns)\n",
    "directing_df = pd.DataFrame(rows, columns= mlb.classes_).add_prefix('Director_')\n",
    "directing_df.head()"
   ],
   "metadata": {
    "collapsed": false,
    "pycharm": {
     "name": "#%%\n",
     "is_executing": false
    }
   }
  },
  {
   "cell_type": "markdown",
   "source": [
    "# Producing to MLB"
   ],
   "metadata": {
    "collapsed": false
   }
  },
  {
   "cell_type": "code",
   "execution_count": 83,
   "outputs": [
    {
     "data": {
      "text/plain": "   Producer_A. Kitman Ho  Producer_A. Todd Holland  Producer_A. Welch Lambeth  \\\n0                      0                         0                          0   \n1                      0                         0                          0   \n2                      0                         0                          0   \n3                      0                         0                          0   \n4                      0                         0                          0   \n\n   Producer_A.J. Dix  Producer_A.J. Riebli III  Producer_A.K. Hottman  \\\n0                  0                         0                      0   \n1                  0                         0                      0   \n2                  0                         0                      0   \n3                  0                         0                      0   \n4                  0                         0                      0   \n\n   Producer_A.W. Gryphon  Producer_Aaron Auch  Producer_Aaron B. Koontz  \\\n0                      0                    0                         0   \n1                      0                    0                         0   \n2                      0                    0                         0   \n3                      0                    0                         0   \n4                      0                    0                         0   \n\n   Producer_Aaron Boyd  ...  Producer_Zsolt Vereckei  \\\n0                    0  ...                        0   \n1                    0  ...                        0   \n2                    0  ...                        0   \n3                    0  ...                        0   \n4                    0  ...                        0   \n\n   Producer_Zsuzsanna Kurucz  Producer_Zsófia Zatureczki  \\\n0                          0                           0   \n1                          0                           0   \n2                          0                           0   \n3                          0                           0   \n4                          0                           0   \n\n   Producer_Zulfiquar Rahman  Producer_production manager  \\\n0                          0                            0   \n1                          0                            0   \n2                          0                            0   \n3                          0                            0   \n4                          0                            0   \n\n   Producer_Ágoston Félegyházy Megyesy  Producer_Álvar Carretero de la Fuente  \\\n0                                    0                                      0   \n1                                    0                                      0   \n2                                    0                                      0   \n3                                    0                                      0   \n4                                    0                                      0   \n\n   Producer_Árni Björn Helgason  Producer_Árpád Görögh  Producer_Şafak Binay  \n0                             0                      0                     0  \n1                             0                      0                     0  \n2                             0                      0                     0  \n3                             0                      0                     0  \n4                             0                      0                     0  \n\n[5 rows x 10728 columns]",
      "text/html": "<div>\n<style scoped>\n    .dataframe tbody tr th:only-of-type {\n        vertical-align: middle;\n    }\n\n    .dataframe tbody tr th {\n        vertical-align: top;\n    }\n\n    .dataframe thead th {\n        text-align: right;\n    }\n</style>\n<table border=\"1\" class=\"dataframe\">\n  <thead>\n    <tr style=\"text-align: right;\">\n      <th></th>\n      <th>Producer_A. Kitman Ho</th>\n      <th>Producer_A. Todd Holland</th>\n      <th>Producer_A. Welch Lambeth</th>\n      <th>Producer_A.J. Dix</th>\n      <th>Producer_A.J. Riebli III</th>\n      <th>Producer_A.K. Hottman</th>\n      <th>Producer_A.W. Gryphon</th>\n      <th>Producer_Aaron Auch</th>\n      <th>Producer_Aaron B. Koontz</th>\n      <th>Producer_Aaron Boyd</th>\n      <th>...</th>\n      <th>Producer_Zsolt Vereckei</th>\n      <th>Producer_Zsuzsanna Kurucz</th>\n      <th>Producer_Zsófia Zatureczki</th>\n      <th>Producer_Zulfiquar Rahman</th>\n      <th>Producer_production manager</th>\n      <th>Producer_Ágoston Félegyházy Megyesy</th>\n      <th>Producer_Álvar Carretero de la Fuente</th>\n      <th>Producer_Árni Björn Helgason</th>\n      <th>Producer_Árpád Görögh</th>\n      <th>Producer_Şafak Binay</th>\n    </tr>\n  </thead>\n  <tbody>\n    <tr>\n      <th>0</th>\n      <td>0</td>\n      <td>0</td>\n      <td>0</td>\n      <td>0</td>\n      <td>0</td>\n      <td>0</td>\n      <td>0</td>\n      <td>0</td>\n      <td>0</td>\n      <td>0</td>\n      <td>...</td>\n      <td>0</td>\n      <td>0</td>\n      <td>0</td>\n      <td>0</td>\n      <td>0</td>\n      <td>0</td>\n      <td>0</td>\n      <td>0</td>\n      <td>0</td>\n      <td>0</td>\n    </tr>\n    <tr>\n      <th>1</th>\n      <td>0</td>\n      <td>0</td>\n      <td>0</td>\n      <td>0</td>\n      <td>0</td>\n      <td>0</td>\n      <td>0</td>\n      <td>0</td>\n      <td>0</td>\n      <td>0</td>\n      <td>...</td>\n      <td>0</td>\n      <td>0</td>\n      <td>0</td>\n      <td>0</td>\n      <td>0</td>\n      <td>0</td>\n      <td>0</td>\n      <td>0</td>\n      <td>0</td>\n      <td>0</td>\n    </tr>\n    <tr>\n      <th>2</th>\n      <td>0</td>\n      <td>0</td>\n      <td>0</td>\n      <td>0</td>\n      <td>0</td>\n      <td>0</td>\n      <td>0</td>\n      <td>0</td>\n      <td>0</td>\n      <td>0</td>\n      <td>...</td>\n      <td>0</td>\n      <td>0</td>\n      <td>0</td>\n      <td>0</td>\n      <td>0</td>\n      <td>0</td>\n      <td>0</td>\n      <td>0</td>\n      <td>0</td>\n      <td>0</td>\n    </tr>\n    <tr>\n      <th>3</th>\n      <td>0</td>\n      <td>0</td>\n      <td>0</td>\n      <td>0</td>\n      <td>0</td>\n      <td>0</td>\n      <td>0</td>\n      <td>0</td>\n      <td>0</td>\n      <td>0</td>\n      <td>...</td>\n      <td>0</td>\n      <td>0</td>\n      <td>0</td>\n      <td>0</td>\n      <td>0</td>\n      <td>0</td>\n      <td>0</td>\n      <td>0</td>\n      <td>0</td>\n      <td>0</td>\n    </tr>\n    <tr>\n      <th>4</th>\n      <td>0</td>\n      <td>0</td>\n      <td>0</td>\n      <td>0</td>\n      <td>0</td>\n      <td>0</td>\n      <td>0</td>\n      <td>0</td>\n      <td>0</td>\n      <td>0</td>\n      <td>...</td>\n      <td>0</td>\n      <td>0</td>\n      <td>0</td>\n      <td>0</td>\n      <td>0</td>\n      <td>0</td>\n      <td>0</td>\n      <td>0</td>\n      <td>0</td>\n      <td>0</td>\n    </tr>\n  </tbody>\n</table>\n<p>5 rows × 10728 columns</p>\n</div>"
     },
     "metadata": {},
     "output_type": "execute_result",
     "execution_count": 83
    }
   ],
   "source": [
    "producing_column = df['Producing']\n",
    "producing_column = producing_column.apply(eval)\n",
    "# producing_column\n",
    "mlb = MultiLabelBinarizer()\n",
    "rows=mlb.fit_transform(producing_column)\n",
    "mlbs['Producing'] = mlb\n",
    "# len(rows)\n",
    "columns = list(mlb.classes_)\n",
    "# len(columns)\n",
    "producing_df = pd.DataFrame(rows, columns= mlb.classes_).add_prefix('Producer_')\n",
    "producing_df.head()"
   ],
   "metadata": {
    "collapsed": false,
    "pycharm": {
     "name": "#%%\n",
     "is_executing": false
    }
   }
  },
  {
   "cell_type": "markdown",
   "source": [
    "# Writing to MLB"
   ],
   "metadata": {
    "collapsed": false
   }
  },
  {
   "cell_type": "code",
   "execution_count": 84,
   "outputs": [
    {
     "data": {
      "text/plain": "   Writer_A.J. Quinnell  Writer_Aaron Clark  Writer_Aaron Covington  \\\n0                     0                   0                       0   \n1                     0                   0                       0   \n2                     0                   0                       0   \n3                     0                   0                       0   \n4                     0                   0                       0   \n\n   Writer_Aaron Guzikowski  Writer_Aaron Harberts  Writer_Aaron Horvath  \\\n0                        0                      0                     0   \n1                        0                      0                     0   \n2                        0                      0                     0   \n3                        0                      0                     0   \n4                        0                      0                     0   \n\n   Writer_Aaron Kandell  Writer_Aaron Seltzer  Writer_Aaron Sorkin  \\\n0                     0                     0                    0   \n1                     0                     0                    0   \n2                     0                     0                    0   \n3                     0                     0                    0   \n4                     0                     0                    0   \n\n   Writer_Aaron Stockard  ...  Writer_Yvette Kaplan  Writer_Zach Helm  \\\n0                      0  ...                     0                 0   \n1                      0  ...                     0                 0   \n2                      0  ...                     0                 0   \n3                      0  ...                     0                 0   \n4                      0  ...                     0                 0   \n\n   Writer_Zach Shields  Writer_Zack Snyder  Writer_Zack Stentz  \\\n0                    0                   0                   0   \n1                    0                   0                   0   \n2                    0                   0                   0   \n3                    0                   0                   0   \n4                    0                   0                   0   \n\n   Writer_Zak Penn  Writer_Zane Smith  Writer_Zeke Richardson  \\\n0                0                  0                       0   \n1                0                  0                       0   \n2                0                  0                       0   \n3                0                  0                       0   \n4                0                  0                       0   \n\n   Writer_Álvaro Rodríguez  Writer_Éric Toledano  \n0                        0                     0  \n1                        0                     0  \n2                        0                     0  \n3                        0                     0  \n4                        0                     0  \n\n[5 rows x 2732 columns]",
      "text/html": "<div>\n<style scoped>\n    .dataframe tbody tr th:only-of-type {\n        vertical-align: middle;\n    }\n\n    .dataframe tbody tr th {\n        vertical-align: top;\n    }\n\n    .dataframe thead th {\n        text-align: right;\n    }\n</style>\n<table border=\"1\" class=\"dataframe\">\n  <thead>\n    <tr style=\"text-align: right;\">\n      <th></th>\n      <th>Writer_A.J. Quinnell</th>\n      <th>Writer_Aaron Clark</th>\n      <th>Writer_Aaron Covington</th>\n      <th>Writer_Aaron Guzikowski</th>\n      <th>Writer_Aaron Harberts</th>\n      <th>Writer_Aaron Horvath</th>\n      <th>Writer_Aaron Kandell</th>\n      <th>Writer_Aaron Seltzer</th>\n      <th>Writer_Aaron Sorkin</th>\n      <th>Writer_Aaron Stockard</th>\n      <th>...</th>\n      <th>Writer_Yvette Kaplan</th>\n      <th>Writer_Zach Helm</th>\n      <th>Writer_Zach Shields</th>\n      <th>Writer_Zack Snyder</th>\n      <th>Writer_Zack Stentz</th>\n      <th>Writer_Zak Penn</th>\n      <th>Writer_Zane Smith</th>\n      <th>Writer_Zeke Richardson</th>\n      <th>Writer_Álvaro Rodríguez</th>\n      <th>Writer_Éric Toledano</th>\n    </tr>\n  </thead>\n  <tbody>\n    <tr>\n      <th>0</th>\n      <td>0</td>\n      <td>0</td>\n      <td>0</td>\n      <td>0</td>\n      <td>0</td>\n      <td>0</td>\n      <td>0</td>\n      <td>0</td>\n      <td>0</td>\n      <td>0</td>\n      <td>...</td>\n      <td>0</td>\n      <td>0</td>\n      <td>0</td>\n      <td>0</td>\n      <td>0</td>\n      <td>0</td>\n      <td>0</td>\n      <td>0</td>\n      <td>0</td>\n      <td>0</td>\n    </tr>\n    <tr>\n      <th>1</th>\n      <td>0</td>\n      <td>0</td>\n      <td>0</td>\n      <td>0</td>\n      <td>0</td>\n      <td>0</td>\n      <td>0</td>\n      <td>0</td>\n      <td>0</td>\n      <td>0</td>\n      <td>...</td>\n      <td>0</td>\n      <td>0</td>\n      <td>0</td>\n      <td>0</td>\n      <td>0</td>\n      <td>0</td>\n      <td>0</td>\n      <td>0</td>\n      <td>0</td>\n      <td>0</td>\n    </tr>\n    <tr>\n      <th>2</th>\n      <td>0</td>\n      <td>0</td>\n      <td>0</td>\n      <td>0</td>\n      <td>0</td>\n      <td>0</td>\n      <td>0</td>\n      <td>0</td>\n      <td>0</td>\n      <td>0</td>\n      <td>...</td>\n      <td>0</td>\n      <td>0</td>\n      <td>0</td>\n      <td>0</td>\n      <td>0</td>\n      <td>0</td>\n      <td>0</td>\n      <td>0</td>\n      <td>0</td>\n      <td>0</td>\n    </tr>\n    <tr>\n      <th>3</th>\n      <td>0</td>\n      <td>0</td>\n      <td>0</td>\n      <td>0</td>\n      <td>0</td>\n      <td>0</td>\n      <td>0</td>\n      <td>0</td>\n      <td>0</td>\n      <td>0</td>\n      <td>...</td>\n      <td>0</td>\n      <td>0</td>\n      <td>0</td>\n      <td>0</td>\n      <td>0</td>\n      <td>0</td>\n      <td>0</td>\n      <td>0</td>\n      <td>0</td>\n      <td>0</td>\n    </tr>\n    <tr>\n      <th>4</th>\n      <td>0</td>\n      <td>0</td>\n      <td>0</td>\n      <td>0</td>\n      <td>0</td>\n      <td>0</td>\n      <td>0</td>\n      <td>0</td>\n      <td>0</td>\n      <td>0</td>\n      <td>...</td>\n      <td>0</td>\n      <td>0</td>\n      <td>0</td>\n      <td>0</td>\n      <td>0</td>\n      <td>0</td>\n      <td>0</td>\n      <td>0</td>\n      <td>0</td>\n      <td>0</td>\n    </tr>\n  </tbody>\n</table>\n<p>5 rows × 2732 columns</p>\n</div>"
     },
     "metadata": {},
     "output_type": "execute_result",
     "execution_count": 84
    }
   ],
   "source": [
    "writing_column = df['Writing']\n",
    "writing_column = writing_column.apply(eval)\n",
    "# writing_column\n",
    "mlb = MultiLabelBinarizer()\n",
    "rows=mlb.fit_transform(writing_column)\n",
    "mlbs['Writing'] = mlb\n",
    "# len(rows)\n",
    "columns = list(mlb.classes_)\n",
    "# len(columns)\n",
    "writing_df = pd.DataFrame(rows, columns= mlb.classes_).add_prefix('Writer_')\n",
    "writing_df.head()"
   ],
   "metadata": {
    "collapsed": false,
    "pycharm": {
     "name": "#%%\n",
     "is_executing": false
    }
   }
  },
  {
   "cell_type": "markdown",
   "source": [
    "# Get dummies for Studio and Rating"
   ],
   "metadata": {
    "collapsed": false
   }
  },
  {
   "cell_type": "code",
   "execution_count": 85,
   "outputs": [],
   "source": [
    "df = df.drop(columns=[\"Movie ID\", \"Title\", \"Genres\", \"Directing\", \"Producing\", \"Writing\"])\n",
    "# df = pd.get_dummies(df)\n",
    "# df.head()"
   ],
   "metadata": {
    "collapsed": false,
    "pycharm": {
     "name": "#%%\n",
     "is_executing": false
    }
   }
  },
  {
   "cell_type": "markdown",
   "source": [
    "# Merge all back together\n",
    "and export df again for next steps (ML)"
   ],
   "metadata": {
    "collapsed": false
   }
  },
  {
   "cell_type": "code",
   "execution_count": 86,
   "outputs": [],
   "source": [
    "df = pd.concat([df, genre_df, directing_df, producing_df, writing_df], axis=1)"
   ],
   "metadata": {
    "collapsed": false,
    "pycharm": {
     "name": "#%%\n",
     "is_executing": false
    }
   }
  },
  {
   "cell_type": "markdown",
   "source": [
    "# Change Date"
   ],
   "metadata": {
    "collapsed": false
   }
  },
  {
   "cell_type": "code",
   "execution_count": 87,
   "outputs": [],
   "source": [
    "date_column = df[\"Date\"].str.split(\"-\", n = 2, expand = True) \n",
    "# year_col= date_column[0].apply(pd.to_numeric)\n",
    "month_col = date_column[1].apply(pd.to_numeric)\n",
    "day_col = date_column[2].apply(pd.to_numeric)"
   ],
   "metadata": {
    "collapsed": false,
    "pycharm": {
     "name": "#%%\n",
     "is_executing": false
    }
   }
  },
  {
   "cell_type": "code",
   "execution_count": 68,
   "outputs": [],
   "source": [
    "# one_hot_year = OneHotEncoder(dtype=np.int, categories=\"auto\", sparse=False).fit_transform(year_col.values.reshape(-1,1))\n",
    "# one_hot_year = pd.Series(list(one_hot_year))\n",
    "# # Create DataFrame \n",
    "# new_year_df = pd.DataFrame(one_hot_year, columns=[\"Year\"]) "
   ],
   "metadata": {
    "collapsed": false,
    "pycharm": {
     "name": "#%%\n",
     "is_executing": false
    }
   }
  },
  {
   "cell_type": "code",
   "execution_count": 88,
   "outputs": [],
   "source": [
    "onehots = {}"
   ],
   "metadata": {
    "collapsed": false,
    "pycharm": {
     "name": "#%%\n",
     "is_executing": false
    }
   }
  },
  {
   "cell_type": "code",
   "execution_count": 89,
   "outputs": [],
   "source": [
    "studio_onehot_encoder = OneHotEncoder(dtype=np.int, categories=\"auto\", sparse=False)\n",
    "one_hot_studio = studio_onehot_encoder.fit_transform(df['Studio'].values.reshape(-1,1))\n",
    "onehots['Studio'] = studio_onehot_encoder\n",
    "df = df.drop(columns=[\"Studio\"])\n",
    "df = pd.concat([df, pd.DataFrame(one_hot_studio).add_prefix(\"Studio_\")], axis=1)"
   ],
   "metadata": {
    "collapsed": false,
    "pycharm": {
     "name": "#%%\n",
     "is_executing": false
    }
   }
  },
  {
   "cell_type": "code",
   "execution_count": 90,
   "outputs": [],
   "source": [
    "rating_onehot_encoder = OneHotEncoder(dtype=np.int, categories=\"auto\", sparse=False)\n",
    "one_hot_rating = rating_onehot_encoder.fit_transform(df['Rating'].values.reshape(-1,1))\n",
    "onehots['Rating'] = rating_onehot_encoder\n",
    "df = df.drop(columns=[\"Rating\"])\n",
    "df = pd.concat([df, pd.DataFrame(one_hot_rating).add_prefix(\"Rating_\")], axis=1)"
   ],
   "metadata": {
    "collapsed": false,
    "pycharm": {
     "name": "#%%\n",
     "is_executing": false
    }
   }
  },
  {
   "cell_type": "code",
   "execution_count": 91,
   "outputs": [],
   "source": [
    "month_onehot_encoder = OneHotEncoder(dtype=np.int, categories=\"auto\", sparse=False)\n",
    "onehots['Month'] = month_onehot_encoder\n",
    "one_hot_month = month_onehot_encoder.fit_transform(month_col.values.reshape(-1,1))\n",
    "new_month_df = pd.DataFrame(one_hot_month).add_prefix(\"Month_\")"
   ],
   "metadata": {
    "collapsed": false,
    "pycharm": {
     "name": "#%%\n",
     "is_executing": false
    }
   }
  },
  {
   "cell_type": "code",
   "execution_count": 92,
   "outputs": [],
   "source": [
    "day_onehot_encoder = OneHotEncoder(dtype=np.int, categories=\"auto\", sparse=False)\n",
    "onehots['Day'] = day_onehot_encoder\n",
    "one_hot_day = day_onehot_encoder.fit_transform(day_col.values.reshape(-1,1))\n",
    "new_day_df = pd.DataFrame(one_hot_day).add_prefix(\"Day_\") "
   ],
   "metadata": {
    "collapsed": false,
    "pycharm": {
     "name": "#%%\n",
     "is_executing": false
    }
   }
  },
  {
   "cell_type": "code",
   "execution_count": 18,
   "outputs": [],
   "source": [],
   "metadata": {
    "collapsed": false,
    "pycharm": {
     "name": "#%%\n",
     "is_executing": false
    }
   }
  },
  {
   "cell_type": "code",
   "execution_count": 19,
   "outputs": [],
   "source": [
    "# year_col.describe()"
   ],
   "metadata": {
    "collapsed": false,
    "pycharm": {
     "name": "#%%\n",
     "is_executing": false
    }
   }
  },
  {
   "cell_type": "code",
   "execution_count": 20,
   "outputs": [],
   "source": [
    "# label_encoder = LabelEncoder()\n",
    "# label_encoder.fit(year_col)\n",
    "# encoded_year = label_encoder.transform(year_col)"
   ],
   "metadata": {
    "collapsed": false,
    "pycharm": {
     "name": "#%%\n",
     "is_executing": false
    }
   }
  },
  {
   "cell_type": "code",
   "execution_count": 21,
   "outputs": [],
   "source": [
    "# encoded_year"
   ],
   "metadata": {
    "collapsed": false,
    "pycharm": {
     "name": "#%%\n",
     "is_executing": false
    }
   }
  },
  {
   "cell_type": "code",
   "execution_count": 22,
   "outputs": [],
   "source": [
    "# one_hot_year = to_categorical(encoded_year)\n",
    "# one_hot_year"
   ],
   "metadata": {
    "collapsed": false,
    "pycharm": {
     "name": "#%%\n",
     "is_executing": false
    }
   }
  },
  {
   "cell_type": "code",
   "execution_count": 23,
   "outputs": [],
   "source": [
    "# one_hot_year.shape"
   ],
   "metadata": {
    "collapsed": false,
    "pycharm": {
     "name": "#%%\n",
     "is_executing": false
    }
   }
  },
  {
   "cell_type": "code",
   "execution_count": 24,
   "outputs": [],
   "source": [
    "# one_hot_month = to_categorical(month_col)\n",
    "# one_hot_month"
   ],
   "metadata": {
    "collapsed": false,
    "pycharm": {
     "name": "#%%\n",
     "is_executing": false
    }
   }
  },
  {
   "cell_type": "code",
   "execution_count": 25,
   "outputs": [],
   "source": [
    "# one_hot_month.shape"
   ],
   "metadata": {
    "collapsed": false,
    "pycharm": {
     "name": "#%%\n",
     "is_executing": false
    }
   }
  },
  {
   "cell_type": "code",
   "execution_count": 26,
   "outputs": [],
   "source": [
    "# one_hot_day = to_categorical(day_col)\n",
    "# one_hot_day"
   ],
   "metadata": {
    "collapsed": false,
    "pycharm": {
     "name": "#%%\n",
     "is_executing": false
    }
   }
  },
  {
   "cell_type": "code",
   "execution_count": 27,
   "outputs": [],
   "source": [
    "# one_hot_day.shape"
   ],
   "metadata": {
    "collapsed": false,
    "pycharm": {
     "name": "#%%\n",
     "is_executing": false
    }
   }
  },
  {
   "cell_type": "code",
   "execution_count": 27,
   "outputs": [],
   "source": [],
   "metadata": {
    "collapsed": false,
    "pycharm": {
     "name": "#%%\n",
     "is_executing": false
    }
   }
  },
  {
   "cell_type": "code",
   "execution_count": 28,
   "outputs": [],
   "source": [
    "# year_df = pd.DataFrame(one_hot_year).add_prefix('Year_')"
   ],
   "metadata": {
    "collapsed": false,
    "pycharm": {
     "name": "#%%\n",
     "is_executing": false
    }
   }
  },
  {
   "cell_type": "code",
   "execution_count": 29,
   "outputs": [],
   "source": [
    "# month_df = pd.DataFrame(one_hot_month).add_prefix('Month_')"
   ],
   "metadata": {
    "collapsed": false,
    "pycharm": {
     "name": "#%%\n",
     "is_executing": false
    }
   }
  },
  {
   "cell_type": "code",
   "execution_count": 30,
   "outputs": [],
   "source": [
    "# day_df = pd.DataFrame(one_hot_day).add_prefix('Day_')"
   ],
   "metadata": {
    "collapsed": false,
    "pycharm": {
     "name": "#%%\n",
     "is_executing": false
    }
   }
  },
  {
   "cell_type": "code",
   "execution_count": 93,
   "outputs": [
    {
     "data": {
      "text/plain": "(1907, 43)"
     },
     "metadata": {},
     "output_type": "execute_result",
     "execution_count": 93
    }
   ],
   "source": [
    "# date_df = pd.concat([year_df, month_df, day_df], axis=1)\n",
    "# trying it without YEAR\n",
    "date_df = pd.concat([new_month_df, new_day_df], axis=1)\n",
    "date_df.shape\n"
   ],
   "metadata": {
    "collapsed": false,
    "pycharm": {
     "name": "#%%\n",
     "is_executing": false
    }
   }
  },
  {
   "cell_type": "code",
   "execution_count": 94,
   "outputs": [
    {
     "data": {
      "text/plain": "(1907, 16313)"
     },
     "metadata": {},
     "output_type": "execute_result",
     "execution_count": 94
    }
   ],
   "source": [
    "df = df.drop(columns=[\"Date\"])\n",
    "df = pd.concat([df, date_df], axis=1)\n",
    "df.shape"
   ],
   "metadata": {
    "collapsed": false,
    "pycharm": {
     "name": "#%%\n",
     "is_executing": false
    }
   }
  },
  {
   "cell_type": "code",
   "execution_count": 95,
   "outputs": [],
   "source": [
    "df.to_csv(\"Resources/03_new_df.csv\", index=False, header=True)"
   ],
   "metadata": {
    "collapsed": false,
    "pycharm": {
     "name": "#%%\n",
     "is_executing": false
    }
   }
  },
  {
   "cell_type": "code",
   "execution_count": 97,
   "outputs": [],
   "source": [
    "pd.to_pickle(mlbs, \"Resources/mlbs.pickle\")\n",
    "pd.to_pickle(onehots, \"Resources/onehots.pickle\")"
   ],
   "metadata": {
    "collapsed": false,
    "pycharm": {
     "name": "#%%\n",
     "is_executing": false
    }
   }
  },
  {
   "cell_type": "code",
   "execution_count": null,
   "outputs": [],
   "source": [],
   "metadata": {
    "collapsed": false,
    "pycharm": {
     "name": "#%%\n"
    }
   }
  }
 ],
 "metadata": {
  "kernelspec": {
   "display_name": "Python 3",
   "language": "python",
   "name": "python3"
  },
  "language_info": {
   "codemirror_mode": {
    "name": "ipython",
    "version": 3
   },
   "file_extension": ".py",
   "mimetype": "text/x-python",
   "name": "python",
   "nbconvert_exporter": "python",
   "pygments_lexer": "ipython3",
   "version": "3.7.3"
  },
  "pycharm": {
   "stem_cell": {
    "cell_type": "raw",
    "source": [],
    "metadata": {
     "collapsed": false
    }
   }
  }
 },
 "nbformat": 4,
 "nbformat_minor": 2
}